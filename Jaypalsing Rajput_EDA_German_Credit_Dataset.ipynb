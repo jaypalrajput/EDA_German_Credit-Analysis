{
  "cells": [
    {
      "cell_type": "markdown",
      "id": "012cb01a",
      "metadata": {
        "id": "012cb01a"
      },
      "source": [
        "# Exploratery Data Analysis of Germen_Credit_Data Analysis"
      ]
    },
    {
      "cell_type": "markdown",
      "id": "c99838e3",
      "metadata": {
        "id": "c99838e3"
      },
      "source": [
        "# Introduction \n",
        "The dataset is based on the “Statlog Dataset” from the UCI Machine Learning Repository.\n",
        " The given dataset is realted with credit data analysis of german bank. \n",
        " It based on strategic decision of bankers for loan approval and related parameters for credit mapping of customers.\n",
        "If bank cusomer applied for credit loan then bank will have two types of risks are associated with the bank’s decision –\n",
        "\n",
        "If the applicant is a good credit risk, i.e. is likely to repay the loan, then not approving the loan to the person results in a loss of business to the bank\n",
        "If the applicant is a bad credit risk, i.e. is not likely to repay the loan, then approving the loan to the person results in a financial loss to the bank.\n",
        "with this objective refrence we will proceed our further analysis.\n",
        "\n"
      ]
    },
    {
      "cell_type": "markdown",
      "id": "10c36f1a",
      "metadata": {
        "id": "10c36f1a"
      },
      "source": [
        "Columns of the dataset and their meaning are as follows;\n",
        "1. Age (numeric)\n",
        "2. Sex (text: male, female)\n",
        "3. Job (numeric: 0 - unskilled and non-resident, 1 - unskilled and resident, 2 - skilled, 3 - highly skilled)\n",
        "4. Housing (text: own, rent, or free)\n",
        "5. Saving accounts (text - little, moderate, quite rich, rich)\n",
        "6. Checking account (text - little, moderate, rich)\n",
        "7. Credit amount (numeric, in Deutsche Mark)\n",
        "8. Duration (numeric, in month)\n",
        "9. Purpose (text: car, furniture/equipment, radio/TV, domestic appliances, repairs, education, business, vacation/others"
      ]
    },
    {
      "cell_type": "markdown",
      "id": "e35b32d1",
      "metadata": {
        "id": "e35b32d1"
      },
      "source": [
        "\n",
        "# Objectives:\n",
        "1. To Load the dataset get a peek at the underlying data in the dataframe.\n",
        "2. To explore Dimensions of the dataframe\n",
        "3. To analyse Information about the schema\n",
        "4. To map Statistical metrics of each column\n",
        "5. To apply  pre-processing to interpret and impute Missing values, Erroneous/wrong values,Skewed data and Outliers.\n",
        "6. To Perform exploratory data analysis and provide key insights derived from dataset with suitable graphs and plots to examine-\n",
        "   - Distribution of numerical variables\n",
        "   - Distribution of categorical variables\n",
        "   - Numerical vs Categorical plots\n",
        "   - Numerical vs Numerical plots"
      ]
    },
    {
      "cell_type": "code",
      "execution_count": 1,
      "id": "aeb95373",
      "metadata": {
        "id": "aeb95373"
      },
      "outputs": [],
      "source": [
        "\n",
        "import numpy as np # This library imported for working with linear algebra numpy functionalities used for EDA\n",
        "import pandas as pd # This library imported for data processing, read CSV file I/O (e.g. pd.read_csv) and working with dataframes.\n",
        "import matplotlib.pyplot as plt # This library imported for working visualization and plottong graphs\n",
        "from sklearn.impute import SimpleImputer #This library imported to implement handling of missing values, imputation of missing values and treating outliers.\n",
        "import missingno as msno #To working with missimg values and its pattern\n",
        "import plotly.express as px # To working plotly figures and graphs\n",
        "import seaborn as sns # This library imported for working visualization and plottong graphs"
      ]
    },
    {
      "cell_type": "code",
      "execution_count": 1,
      "id": "d158ee64",
      "metadata": {
        "id": "d158ee64"
      },
      "outputs": [],
      "source": [
        ""
      ]
    },
    {
      "cell_type": "markdown",
      "id": "3faa7fdf",
      "metadata": {
        "id": "3faa7fdf"
      },
      "source": [
        "# 1.Load the dataset into pandas and get a peek at the underlying data in the dataframe."
      ]
    },
    {
      "cell_type": "code",
      "execution_count": 2,
      "id": "56fd22a1",
      "metadata": {
        "id": "56fd22a1"
      },
      "outputs": [],
      "source": [
        "#Load/Import and Read DataSet Germen_Credit_Data\n",
        "germen_credit = pd.read_csv(\"german_credit_data.csv\",index_col=0)\n",
        "\n",
        "original_df = germen_credit.copy() #Copied dataset to keep original dataset as available at primary "
      ]
    },
    {
      "cell_type": "markdown",
      "id": "0e6607ee",
      "metadata": {
        "id": "0e6607ee"
      },
      "source": [
        "# Brief Overview:\n",
        "The first phase of this project is to see what is our data made about. Which variables are numerical or categorical and which columns have \"Null\" values, which is something we will address in the feature engineering phase."
      ]
    },
    {
      "cell_type": "code",
      "execution_count": 3,
      "id": "10b2eb75",
      "metadata": {
        "id": "10b2eb75",
        "outputId": "78a291f1-6796-4a22-eef1-18f4ae6f93e0",
        "colab": {
          "base_uri": "https://localhost:8080/"
        }
      },
      "outputs": [
        {
          "output_type": "execute_result",
          "data": {
            "text/plain": [
              "(1000, 9)"
            ]
          },
          "metadata": {},
          "execution_count": 3
        }
      ],
      "source": [
        "#To check no. of observations and columns in dataset\n",
        "germen_credit.shape"
      ]
    },
    {
      "cell_type": "markdown",
      "id": "002aebab",
      "metadata": {
        "id": "002aebab"
      },
      "source": [
        "The germen_credit has 1000 observations and 09 variables"
      ]
    },
    {
      "cell_type": "code",
      "execution_count": 4,
      "id": "337703f6",
      "metadata": {
        "id": "337703f6",
        "outputId": "94523132-e38d-4ec7-d83c-9d1acbcaf7b2",
        "colab": {
          "base_uri": "https://localhost:8080/",
          "height": 206
        }
      },
      "outputs": [
        {
          "output_type": "execute_result",
          "data": {
            "text/html": [
              "\n",
              "  <div id=\"df-d3029da9-368e-405b-b0db-79590a7a87ad\">\n",
              "    <div class=\"colab-df-container\">\n",
              "      <div>\n",
              "<style scoped>\n",
              "    .dataframe tbody tr th:only-of-type {\n",
              "        vertical-align: middle;\n",
              "    }\n",
              "\n",
              "    .dataframe tbody tr th {\n",
              "        vertical-align: top;\n",
              "    }\n",
              "\n",
              "    .dataframe thead th {\n",
              "        text-align: right;\n",
              "    }\n",
              "</style>\n",
              "<table border=\"1\" class=\"dataframe\">\n",
              "  <thead>\n",
              "    <tr style=\"text-align: right;\">\n",
              "      <th></th>\n",
              "      <th>Age</th>\n",
              "      <th>Sex</th>\n",
              "      <th>Job</th>\n",
              "      <th>Housing</th>\n",
              "      <th>Saving accounts</th>\n",
              "      <th>Checking account</th>\n",
              "      <th>Credit amount</th>\n",
              "      <th>Duration</th>\n",
              "      <th>Purpose</th>\n",
              "    </tr>\n",
              "  </thead>\n",
              "  <tbody>\n",
              "    <tr>\n",
              "      <th>0</th>\n",
              "      <td>67</td>\n",
              "      <td>male</td>\n",
              "      <td>2</td>\n",
              "      <td>own</td>\n",
              "      <td>NaN</td>\n",
              "      <td>little</td>\n",
              "      <td>1169</td>\n",
              "      <td>6</td>\n",
              "      <td>radio/TV</td>\n",
              "    </tr>\n",
              "    <tr>\n",
              "      <th>1</th>\n",
              "      <td>22</td>\n",
              "      <td>female</td>\n",
              "      <td>2</td>\n",
              "      <td>own</td>\n",
              "      <td>little</td>\n",
              "      <td>moderate</td>\n",
              "      <td>5951</td>\n",
              "      <td>48</td>\n",
              "      <td>radio/TV</td>\n",
              "    </tr>\n",
              "    <tr>\n",
              "      <th>2</th>\n",
              "      <td>49</td>\n",
              "      <td>male</td>\n",
              "      <td>1</td>\n",
              "      <td>own</td>\n",
              "      <td>little</td>\n",
              "      <td>NaN</td>\n",
              "      <td>2096</td>\n",
              "      <td>12</td>\n",
              "      <td>education</td>\n",
              "    </tr>\n",
              "    <tr>\n",
              "      <th>3</th>\n",
              "      <td>45</td>\n",
              "      <td>male</td>\n",
              "      <td>2</td>\n",
              "      <td>free</td>\n",
              "      <td>little</td>\n",
              "      <td>little</td>\n",
              "      <td>7882</td>\n",
              "      <td>42</td>\n",
              "      <td>furniture/equipment</td>\n",
              "    </tr>\n",
              "    <tr>\n",
              "      <th>4</th>\n",
              "      <td>53</td>\n",
              "      <td>male</td>\n",
              "      <td>2</td>\n",
              "      <td>free</td>\n",
              "      <td>little</td>\n",
              "      <td>little</td>\n",
              "      <td>4870</td>\n",
              "      <td>24</td>\n",
              "      <td>car</td>\n",
              "    </tr>\n",
              "  </tbody>\n",
              "</table>\n",
              "</div>\n",
              "      <button class=\"colab-df-convert\" onclick=\"convertToInteractive('df-d3029da9-368e-405b-b0db-79590a7a87ad')\"\n",
              "              title=\"Convert this dataframe to an interactive table.\"\n",
              "              style=\"display:none;\">\n",
              "        \n",
              "  <svg xmlns=\"http://www.w3.org/2000/svg\" height=\"24px\"viewBox=\"0 0 24 24\"\n",
              "       width=\"24px\">\n",
              "    <path d=\"M0 0h24v24H0V0z\" fill=\"none\"/>\n",
              "    <path d=\"M18.56 5.44l.94 2.06.94-2.06 2.06-.94-2.06-.94-.94-2.06-.94 2.06-2.06.94zm-11 1L8.5 8.5l.94-2.06 2.06-.94-2.06-.94L8.5 2.5l-.94 2.06-2.06.94zm10 10l.94 2.06.94-2.06 2.06-.94-2.06-.94-.94-2.06-.94 2.06-2.06.94z\"/><path d=\"M17.41 7.96l-1.37-1.37c-.4-.4-.92-.59-1.43-.59-.52 0-1.04.2-1.43.59L10.3 9.45l-7.72 7.72c-.78.78-.78 2.05 0 2.83L4 21.41c.39.39.9.59 1.41.59.51 0 1.02-.2 1.41-.59l7.78-7.78 2.81-2.81c.8-.78.8-2.07 0-2.86zM5.41 20L4 18.59l7.72-7.72 1.47 1.35L5.41 20z\"/>\n",
              "  </svg>\n",
              "      </button>\n",
              "      \n",
              "  <style>\n",
              "    .colab-df-container {\n",
              "      display:flex;\n",
              "      flex-wrap:wrap;\n",
              "      gap: 12px;\n",
              "    }\n",
              "\n",
              "    .colab-df-convert {\n",
              "      background-color: #E8F0FE;\n",
              "      border: none;\n",
              "      border-radius: 50%;\n",
              "      cursor: pointer;\n",
              "      display: none;\n",
              "      fill: #1967D2;\n",
              "      height: 32px;\n",
              "      padding: 0 0 0 0;\n",
              "      width: 32px;\n",
              "    }\n",
              "\n",
              "    .colab-df-convert:hover {\n",
              "      background-color: #E2EBFA;\n",
              "      box-shadow: 0px 1px 2px rgba(60, 64, 67, 0.3), 0px 1px 3px 1px rgba(60, 64, 67, 0.15);\n",
              "      fill: #174EA6;\n",
              "    }\n",
              "\n",
              "    [theme=dark] .colab-df-convert {\n",
              "      background-color: #3B4455;\n",
              "      fill: #D2E3FC;\n",
              "    }\n",
              "\n",
              "    [theme=dark] .colab-df-convert:hover {\n",
              "      background-color: #434B5C;\n",
              "      box-shadow: 0px 1px 3px 1px rgba(0, 0, 0, 0.15);\n",
              "      filter: drop-shadow(0px 1px 2px rgba(0, 0, 0, 0.3));\n",
              "      fill: #FFFFFF;\n",
              "    }\n",
              "  </style>\n",
              "\n",
              "      <script>\n",
              "        const buttonEl =\n",
              "          document.querySelector('#df-d3029da9-368e-405b-b0db-79590a7a87ad button.colab-df-convert');\n",
              "        buttonEl.style.display =\n",
              "          google.colab.kernel.accessAllowed ? 'block' : 'none';\n",
              "\n",
              "        async function convertToInteractive(key) {\n",
              "          const element = document.querySelector('#df-d3029da9-368e-405b-b0db-79590a7a87ad');\n",
              "          const dataTable =\n",
              "            await google.colab.kernel.invokeFunction('convertToInteractive',\n",
              "                                                     [key], {});\n",
              "          if (!dataTable) return;\n",
              "\n",
              "          const docLinkHtml = 'Like what you see? Visit the ' +\n",
              "            '<a target=\"_blank\" href=https://colab.research.google.com/notebooks/data_table.ipynb>data table notebook</a>'\n",
              "            + ' to learn more about interactive tables.';\n",
              "          element.innerHTML = '';\n",
              "          dataTable['output_type'] = 'display_data';\n",
              "          await google.colab.output.renderOutput(dataTable, element);\n",
              "          const docLink = document.createElement('div');\n",
              "          docLink.innerHTML = docLinkHtml;\n",
              "          element.appendChild(docLink);\n",
              "        }\n",
              "      </script>\n",
              "    </div>\n",
              "  </div>\n",
              "  "
            ],
            "text/plain": [
              "   Age     Sex  Job  ... Credit amount Duration              Purpose\n",
              "0   67    male    2  ...          1169        6             radio/TV\n",
              "1   22  female    2  ...          5951       48             radio/TV\n",
              "2   49    male    1  ...          2096       12            education\n",
              "3   45    male    2  ...          7882       42  furniture/equipment\n",
              "4   53    male    2  ...          4870       24                  car\n",
              "\n",
              "[5 rows x 9 columns]"
            ]
          },
          "metadata": {},
          "execution_count": 4
        }
      ],
      "source": [
        "germen_credit.head()"
      ]
    },
    {
      "cell_type": "code",
      "execution_count": 5,
      "id": "ba0a9ee4",
      "metadata": {
        "id": "ba0a9ee4",
        "outputId": "98223b7d-3b53-4faf-9fa5-b9540fad2147",
        "colab": {
          "base_uri": "https://localhost:8080/",
          "height": 206
        }
      },
      "outputs": [
        {
          "output_type": "execute_result",
          "data": {
            "text/html": [
              "\n",
              "  <div id=\"df-dbb88cb0-ff63-41fa-bfc9-3ed793b61247\">\n",
              "    <div class=\"colab-df-container\">\n",
              "      <div>\n",
              "<style scoped>\n",
              "    .dataframe tbody tr th:only-of-type {\n",
              "        vertical-align: middle;\n",
              "    }\n",
              "\n",
              "    .dataframe tbody tr th {\n",
              "        vertical-align: top;\n",
              "    }\n",
              "\n",
              "    .dataframe thead th {\n",
              "        text-align: right;\n",
              "    }\n",
              "</style>\n",
              "<table border=\"1\" class=\"dataframe\">\n",
              "  <thead>\n",
              "    <tr style=\"text-align: right;\">\n",
              "      <th></th>\n",
              "      <th>Age</th>\n",
              "      <th>Sex</th>\n",
              "      <th>Job</th>\n",
              "      <th>Housing</th>\n",
              "      <th>Saving accounts</th>\n",
              "      <th>Checking account</th>\n",
              "      <th>Credit amount</th>\n",
              "      <th>Duration</th>\n",
              "      <th>Purpose</th>\n",
              "    </tr>\n",
              "  </thead>\n",
              "  <tbody>\n",
              "    <tr>\n",
              "      <th>995</th>\n",
              "      <td>31</td>\n",
              "      <td>female</td>\n",
              "      <td>1</td>\n",
              "      <td>own</td>\n",
              "      <td>little</td>\n",
              "      <td>NaN</td>\n",
              "      <td>1736</td>\n",
              "      <td>12</td>\n",
              "      <td>furniture/equipment</td>\n",
              "    </tr>\n",
              "    <tr>\n",
              "      <th>996</th>\n",
              "      <td>40</td>\n",
              "      <td>male</td>\n",
              "      <td>3</td>\n",
              "      <td>own</td>\n",
              "      <td>little</td>\n",
              "      <td>little</td>\n",
              "      <td>3857</td>\n",
              "      <td>30</td>\n",
              "      <td>car</td>\n",
              "    </tr>\n",
              "    <tr>\n",
              "      <th>997</th>\n",
              "      <td>38</td>\n",
              "      <td>male</td>\n",
              "      <td>2</td>\n",
              "      <td>own</td>\n",
              "      <td>little</td>\n",
              "      <td>NaN</td>\n",
              "      <td>804</td>\n",
              "      <td>12</td>\n",
              "      <td>radio/TV</td>\n",
              "    </tr>\n",
              "    <tr>\n",
              "      <th>998</th>\n",
              "      <td>23</td>\n",
              "      <td>male</td>\n",
              "      <td>2</td>\n",
              "      <td>free</td>\n",
              "      <td>little</td>\n",
              "      <td>little</td>\n",
              "      <td>1845</td>\n",
              "      <td>45</td>\n",
              "      <td>radio/TV</td>\n",
              "    </tr>\n",
              "    <tr>\n",
              "      <th>999</th>\n",
              "      <td>27</td>\n",
              "      <td>male</td>\n",
              "      <td>2</td>\n",
              "      <td>own</td>\n",
              "      <td>moderate</td>\n",
              "      <td>moderate</td>\n",
              "      <td>4576</td>\n",
              "      <td>45</td>\n",
              "      <td>car</td>\n",
              "    </tr>\n",
              "  </tbody>\n",
              "</table>\n",
              "</div>\n",
              "      <button class=\"colab-df-convert\" onclick=\"convertToInteractive('df-dbb88cb0-ff63-41fa-bfc9-3ed793b61247')\"\n",
              "              title=\"Convert this dataframe to an interactive table.\"\n",
              "              style=\"display:none;\">\n",
              "        \n",
              "  <svg xmlns=\"http://www.w3.org/2000/svg\" height=\"24px\"viewBox=\"0 0 24 24\"\n",
              "       width=\"24px\">\n",
              "    <path d=\"M0 0h24v24H0V0z\" fill=\"none\"/>\n",
              "    <path d=\"M18.56 5.44l.94 2.06.94-2.06 2.06-.94-2.06-.94-.94-2.06-.94 2.06-2.06.94zm-11 1L8.5 8.5l.94-2.06 2.06-.94-2.06-.94L8.5 2.5l-.94 2.06-2.06.94zm10 10l.94 2.06.94-2.06 2.06-.94-2.06-.94-.94-2.06-.94 2.06-2.06.94z\"/><path d=\"M17.41 7.96l-1.37-1.37c-.4-.4-.92-.59-1.43-.59-.52 0-1.04.2-1.43.59L10.3 9.45l-7.72 7.72c-.78.78-.78 2.05 0 2.83L4 21.41c.39.39.9.59 1.41.59.51 0 1.02-.2 1.41-.59l7.78-7.78 2.81-2.81c.8-.78.8-2.07 0-2.86zM5.41 20L4 18.59l7.72-7.72 1.47 1.35L5.41 20z\"/>\n",
              "  </svg>\n",
              "      </button>\n",
              "      \n",
              "  <style>\n",
              "    .colab-df-container {\n",
              "      display:flex;\n",
              "      flex-wrap:wrap;\n",
              "      gap: 12px;\n",
              "    }\n",
              "\n",
              "    .colab-df-convert {\n",
              "      background-color: #E8F0FE;\n",
              "      border: none;\n",
              "      border-radius: 50%;\n",
              "      cursor: pointer;\n",
              "      display: none;\n",
              "      fill: #1967D2;\n",
              "      height: 32px;\n",
              "      padding: 0 0 0 0;\n",
              "      width: 32px;\n",
              "    }\n",
              "\n",
              "    .colab-df-convert:hover {\n",
              "      background-color: #E2EBFA;\n",
              "      box-shadow: 0px 1px 2px rgba(60, 64, 67, 0.3), 0px 1px 3px 1px rgba(60, 64, 67, 0.15);\n",
              "      fill: #174EA6;\n",
              "    }\n",
              "\n",
              "    [theme=dark] .colab-df-convert {\n",
              "      background-color: #3B4455;\n",
              "      fill: #D2E3FC;\n",
              "    }\n",
              "\n",
              "    [theme=dark] .colab-df-convert:hover {\n",
              "      background-color: #434B5C;\n",
              "      box-shadow: 0px 1px 3px 1px rgba(0, 0, 0, 0.15);\n",
              "      filter: drop-shadow(0px 1px 2px rgba(0, 0, 0, 0.3));\n",
              "      fill: #FFFFFF;\n",
              "    }\n",
              "  </style>\n",
              "\n",
              "      <script>\n",
              "        const buttonEl =\n",
              "          document.querySelector('#df-dbb88cb0-ff63-41fa-bfc9-3ed793b61247 button.colab-df-convert');\n",
              "        buttonEl.style.display =\n",
              "          google.colab.kernel.accessAllowed ? 'block' : 'none';\n",
              "\n",
              "        async function convertToInteractive(key) {\n",
              "          const element = document.querySelector('#df-dbb88cb0-ff63-41fa-bfc9-3ed793b61247');\n",
              "          const dataTable =\n",
              "            await google.colab.kernel.invokeFunction('convertToInteractive',\n",
              "                                                     [key], {});\n",
              "          if (!dataTable) return;\n",
              "\n",
              "          const docLinkHtml = 'Like what you see? Visit the ' +\n",
              "            '<a target=\"_blank\" href=https://colab.research.google.com/notebooks/data_table.ipynb>data table notebook</a>'\n",
              "            + ' to learn more about interactive tables.';\n",
              "          element.innerHTML = '';\n",
              "          dataTable['output_type'] = 'display_data';\n",
              "          await google.colab.output.renderOutput(dataTable, element);\n",
              "          const docLink = document.createElement('div');\n",
              "          docLink.innerHTML = docLinkHtml;\n",
              "          element.appendChild(docLink);\n",
              "        }\n",
              "      </script>\n",
              "    </div>\n",
              "  </div>\n",
              "  "
            ],
            "text/plain": [
              "     Age     Sex  Job  ... Credit amount Duration              Purpose\n",
              "995   31  female    1  ...          1736       12  furniture/equipment\n",
              "996   40    male    3  ...          3857       30                  car\n",
              "997   38    male    2  ...           804       12             radio/TV\n",
              "998   23    male    2  ...          1845       45             radio/TV\n",
              "999   27    male    2  ...          4576       45                  car\n",
              "\n",
              "[5 rows x 9 columns]"
            ]
          },
          "metadata": {},
          "execution_count": 5
        }
      ],
      "source": [
        "germen_credit.tail()"
      ]
    },
    {
      "cell_type": "markdown",
      "id": "20eb4a52",
      "metadata": {
        "id": "20eb4a52"
      },
      "source": [
        "# Observation Summary:\n",
        "In germen_credit dataset We have Age,job,Credit amount and duration Four numeric type and sex ,Housing,Saving Accounts,Checking accounts and Purpose 5 columns are categorical.\n",
        "Many of columns in dataset needs to be rename due to space between words in column name,it will difficult to read in ML. "
      ]
    },
    {
      "cell_type": "code",
      "execution_count": 6,
      "id": "69e63136",
      "metadata": {
        "id": "69e63136"
      },
      "outputs": [],
      "source": [
        "#Rename Columns\n",
        "germen_credit=germen_credit.rename(columns={'Saving accounts':'Saving_Accounts','Checking account':'Checking_Account','Credit amount':'Credit_Amount'})"
      ]
    },
    {
      "cell_type": "code",
      "execution_count": 7,
      "id": "bbda35d6",
      "metadata": {
        "id": "bbda35d6",
        "outputId": "40582307-622f-4c59-9e09-964c003f0f9f",
        "colab": {
          "base_uri": "https://localhost:8080/",
          "height": 300
        }
      },
      "outputs": [
        {
          "output_type": "execute_result",
          "data": {
            "text/html": [
              "\n",
              "  <div id=\"df-6b78c802-ccf8-4530-b200-43d4c07b693d\">\n",
              "    <div class=\"colab-df-container\">\n",
              "      <div>\n",
              "<style scoped>\n",
              "    .dataframe tbody tr th:only-of-type {\n",
              "        vertical-align: middle;\n",
              "    }\n",
              "\n",
              "    .dataframe tbody tr th {\n",
              "        vertical-align: top;\n",
              "    }\n",
              "\n",
              "    .dataframe thead th {\n",
              "        text-align: right;\n",
              "    }\n",
              "</style>\n",
              "<table border=\"1\" class=\"dataframe\">\n",
              "  <thead>\n",
              "    <tr style=\"text-align: right;\">\n",
              "      <th></th>\n",
              "      <th>Age</th>\n",
              "      <th>Job</th>\n",
              "      <th>Credit_Amount</th>\n",
              "      <th>Duration</th>\n",
              "    </tr>\n",
              "  </thead>\n",
              "  <tbody>\n",
              "    <tr>\n",
              "      <th>count</th>\n",
              "      <td>1000.000000</td>\n",
              "      <td>1000.000000</td>\n",
              "      <td>1000.000000</td>\n",
              "      <td>1000.000000</td>\n",
              "    </tr>\n",
              "    <tr>\n",
              "      <th>mean</th>\n",
              "      <td>35.546000</td>\n",
              "      <td>1.904000</td>\n",
              "      <td>3271.258000</td>\n",
              "      <td>20.903000</td>\n",
              "    </tr>\n",
              "    <tr>\n",
              "      <th>std</th>\n",
              "      <td>11.375469</td>\n",
              "      <td>0.653614</td>\n",
              "      <td>2822.736876</td>\n",
              "      <td>12.058814</td>\n",
              "    </tr>\n",
              "    <tr>\n",
              "      <th>min</th>\n",
              "      <td>19.000000</td>\n",
              "      <td>0.000000</td>\n",
              "      <td>250.000000</td>\n",
              "      <td>4.000000</td>\n",
              "    </tr>\n",
              "    <tr>\n",
              "      <th>25%</th>\n",
              "      <td>27.000000</td>\n",
              "      <td>2.000000</td>\n",
              "      <td>1365.500000</td>\n",
              "      <td>12.000000</td>\n",
              "    </tr>\n",
              "    <tr>\n",
              "      <th>50%</th>\n",
              "      <td>33.000000</td>\n",
              "      <td>2.000000</td>\n",
              "      <td>2319.500000</td>\n",
              "      <td>18.000000</td>\n",
              "    </tr>\n",
              "    <tr>\n",
              "      <th>75%</th>\n",
              "      <td>42.000000</td>\n",
              "      <td>2.000000</td>\n",
              "      <td>3972.250000</td>\n",
              "      <td>24.000000</td>\n",
              "    </tr>\n",
              "    <tr>\n",
              "      <th>max</th>\n",
              "      <td>75.000000</td>\n",
              "      <td>3.000000</td>\n",
              "      <td>18424.000000</td>\n",
              "      <td>72.000000</td>\n",
              "    </tr>\n",
              "  </tbody>\n",
              "</table>\n",
              "</div>\n",
              "      <button class=\"colab-df-convert\" onclick=\"convertToInteractive('df-6b78c802-ccf8-4530-b200-43d4c07b693d')\"\n",
              "              title=\"Convert this dataframe to an interactive table.\"\n",
              "              style=\"display:none;\">\n",
              "        \n",
              "  <svg xmlns=\"http://www.w3.org/2000/svg\" height=\"24px\"viewBox=\"0 0 24 24\"\n",
              "       width=\"24px\">\n",
              "    <path d=\"M0 0h24v24H0V0z\" fill=\"none\"/>\n",
              "    <path d=\"M18.56 5.44l.94 2.06.94-2.06 2.06-.94-2.06-.94-.94-2.06-.94 2.06-2.06.94zm-11 1L8.5 8.5l.94-2.06 2.06-.94-2.06-.94L8.5 2.5l-.94 2.06-2.06.94zm10 10l.94 2.06.94-2.06 2.06-.94-2.06-.94-.94-2.06-.94 2.06-2.06.94z\"/><path d=\"M17.41 7.96l-1.37-1.37c-.4-.4-.92-.59-1.43-.59-.52 0-1.04.2-1.43.59L10.3 9.45l-7.72 7.72c-.78.78-.78 2.05 0 2.83L4 21.41c.39.39.9.59 1.41.59.51 0 1.02-.2 1.41-.59l7.78-7.78 2.81-2.81c.8-.78.8-2.07 0-2.86zM5.41 20L4 18.59l7.72-7.72 1.47 1.35L5.41 20z\"/>\n",
              "  </svg>\n",
              "      </button>\n",
              "      \n",
              "  <style>\n",
              "    .colab-df-container {\n",
              "      display:flex;\n",
              "      flex-wrap:wrap;\n",
              "      gap: 12px;\n",
              "    }\n",
              "\n",
              "    .colab-df-convert {\n",
              "      background-color: #E8F0FE;\n",
              "      border: none;\n",
              "      border-radius: 50%;\n",
              "      cursor: pointer;\n",
              "      display: none;\n",
              "      fill: #1967D2;\n",
              "      height: 32px;\n",
              "      padding: 0 0 0 0;\n",
              "      width: 32px;\n",
              "    }\n",
              "\n",
              "    .colab-df-convert:hover {\n",
              "      background-color: #E2EBFA;\n",
              "      box-shadow: 0px 1px 2px rgba(60, 64, 67, 0.3), 0px 1px 3px 1px rgba(60, 64, 67, 0.15);\n",
              "      fill: #174EA6;\n",
              "    }\n",
              "\n",
              "    [theme=dark] .colab-df-convert {\n",
              "      background-color: #3B4455;\n",
              "      fill: #D2E3FC;\n",
              "    }\n",
              "\n",
              "    [theme=dark] .colab-df-convert:hover {\n",
              "      background-color: #434B5C;\n",
              "      box-shadow: 0px 1px 3px 1px rgba(0, 0, 0, 0.15);\n",
              "      filter: drop-shadow(0px 1px 2px rgba(0, 0, 0, 0.3));\n",
              "      fill: #FFFFFF;\n",
              "    }\n",
              "  </style>\n",
              "\n",
              "      <script>\n",
              "        const buttonEl =\n",
              "          document.querySelector('#df-6b78c802-ccf8-4530-b200-43d4c07b693d button.colab-df-convert');\n",
              "        buttonEl.style.display =\n",
              "          google.colab.kernel.accessAllowed ? 'block' : 'none';\n",
              "\n",
              "        async function convertToInteractive(key) {\n",
              "          const element = document.querySelector('#df-6b78c802-ccf8-4530-b200-43d4c07b693d');\n",
              "          const dataTable =\n",
              "            await google.colab.kernel.invokeFunction('convertToInteractive',\n",
              "                                                     [key], {});\n",
              "          if (!dataTable) return;\n",
              "\n",
              "          const docLinkHtml = 'Like what you see? Visit the ' +\n",
              "            '<a target=\"_blank\" href=https://colab.research.google.com/notebooks/data_table.ipynb>data table notebook</a>'\n",
              "            + ' to learn more about interactive tables.';\n",
              "          element.innerHTML = '';\n",
              "          dataTable['output_type'] = 'display_data';\n",
              "          await google.colab.output.renderOutput(dataTable, element);\n",
              "          const docLink = document.createElement('div');\n",
              "          docLink.innerHTML = docLinkHtml;\n",
              "          element.appendChild(docLink);\n",
              "        }\n",
              "      </script>\n",
              "    </div>\n",
              "  </div>\n",
              "  "
            ],
            "text/plain": [
              "               Age          Job  Credit_Amount     Duration\n",
              "count  1000.000000  1000.000000    1000.000000  1000.000000\n",
              "mean     35.546000     1.904000    3271.258000    20.903000\n",
              "std      11.375469     0.653614    2822.736876    12.058814\n",
              "min      19.000000     0.000000     250.000000     4.000000\n",
              "25%      27.000000     2.000000    1365.500000    12.000000\n",
              "50%      33.000000     2.000000    2319.500000    18.000000\n",
              "75%      42.000000     2.000000    3972.250000    24.000000\n",
              "max      75.000000     3.000000   18424.000000    72.000000"
            ]
          },
          "metadata": {},
          "execution_count": 7
        }
      ],
      "source": [
        "#Describe numeric columns\n",
        "germen_credit.describe()"
      ]
    },
    {
      "cell_type": "markdown",
      "id": "596a1e39",
      "metadata": {
        "id": "596a1e39"
      },
      "source": [
        "# Observation Summary based describe results for numeric :\n",
        "In germen_credit dataset We have Age,job,Credit amount and duration Four numeric type but job column include scaling values as 1,2,3 which are scales for 0 - unskilled and non-resident, 1 - unskilled and resident, 2 - skilled, 3 - highly skilled.\n",
        "It also display count as 1000 observations ,mean, std,IQR and min max for numeric columns."
      ]
    },
    {
      "cell_type": "code",
      "execution_count": 8,
      "id": "3a9e8b56",
      "metadata": {
        "id": "3a9e8b56",
        "outputId": "6ed791ae-a6d7-4020-d268-ff451b374c4c",
        "colab": {
          "base_uri": "https://localhost:8080/",
          "height": 438
        }
      },
      "outputs": [
        {
          "output_type": "execute_result",
          "data": {
            "text/html": [
              "\n",
              "  <div id=\"df-bcf1a968-ce28-402a-bf96-a4f54facc79a\">\n",
              "    <div class=\"colab-df-container\">\n",
              "      <div>\n",
              "<style scoped>\n",
              "    .dataframe tbody tr th:only-of-type {\n",
              "        vertical-align: middle;\n",
              "    }\n",
              "\n",
              "    .dataframe tbody tr th {\n",
              "        vertical-align: top;\n",
              "    }\n",
              "\n",
              "    .dataframe thead th {\n",
              "        text-align: right;\n",
              "    }\n",
              "</style>\n",
              "<table border=\"1\" class=\"dataframe\">\n",
              "  <thead>\n",
              "    <tr style=\"text-align: right;\">\n",
              "      <th></th>\n",
              "      <th>Age</th>\n",
              "      <th>Sex</th>\n",
              "      <th>Job</th>\n",
              "      <th>Housing</th>\n",
              "      <th>Saving_Accounts</th>\n",
              "      <th>Checking_Account</th>\n",
              "      <th>Credit_Amount</th>\n",
              "      <th>Duration</th>\n",
              "      <th>Purpose</th>\n",
              "    </tr>\n",
              "  </thead>\n",
              "  <tbody>\n",
              "    <tr>\n",
              "      <th>count</th>\n",
              "      <td>1000.000000</td>\n",
              "      <td>1000</td>\n",
              "      <td>1000.000000</td>\n",
              "      <td>1000</td>\n",
              "      <td>817</td>\n",
              "      <td>606</td>\n",
              "      <td>1000.000000</td>\n",
              "      <td>1000.000000</td>\n",
              "      <td>1000</td>\n",
              "    </tr>\n",
              "    <tr>\n",
              "      <th>unique</th>\n",
              "      <td>NaN</td>\n",
              "      <td>2</td>\n",
              "      <td>NaN</td>\n",
              "      <td>3</td>\n",
              "      <td>4</td>\n",
              "      <td>3</td>\n",
              "      <td>NaN</td>\n",
              "      <td>NaN</td>\n",
              "      <td>8</td>\n",
              "    </tr>\n",
              "    <tr>\n",
              "      <th>top</th>\n",
              "      <td>NaN</td>\n",
              "      <td>male</td>\n",
              "      <td>NaN</td>\n",
              "      <td>own</td>\n",
              "      <td>little</td>\n",
              "      <td>little</td>\n",
              "      <td>NaN</td>\n",
              "      <td>NaN</td>\n",
              "      <td>car</td>\n",
              "    </tr>\n",
              "    <tr>\n",
              "      <th>freq</th>\n",
              "      <td>NaN</td>\n",
              "      <td>690</td>\n",
              "      <td>NaN</td>\n",
              "      <td>713</td>\n",
              "      <td>603</td>\n",
              "      <td>274</td>\n",
              "      <td>NaN</td>\n",
              "      <td>NaN</td>\n",
              "      <td>337</td>\n",
              "    </tr>\n",
              "    <tr>\n",
              "      <th>mean</th>\n",
              "      <td>35.546000</td>\n",
              "      <td>NaN</td>\n",
              "      <td>1.904000</td>\n",
              "      <td>NaN</td>\n",
              "      <td>NaN</td>\n",
              "      <td>NaN</td>\n",
              "      <td>3271.258000</td>\n",
              "      <td>20.903000</td>\n",
              "      <td>NaN</td>\n",
              "    </tr>\n",
              "    <tr>\n",
              "      <th>std</th>\n",
              "      <td>11.375469</td>\n",
              "      <td>NaN</td>\n",
              "      <td>0.653614</td>\n",
              "      <td>NaN</td>\n",
              "      <td>NaN</td>\n",
              "      <td>NaN</td>\n",
              "      <td>2822.736876</td>\n",
              "      <td>12.058814</td>\n",
              "      <td>NaN</td>\n",
              "    </tr>\n",
              "    <tr>\n",
              "      <th>min</th>\n",
              "      <td>19.000000</td>\n",
              "      <td>NaN</td>\n",
              "      <td>0.000000</td>\n",
              "      <td>NaN</td>\n",
              "      <td>NaN</td>\n",
              "      <td>NaN</td>\n",
              "      <td>250.000000</td>\n",
              "      <td>4.000000</td>\n",
              "      <td>NaN</td>\n",
              "    </tr>\n",
              "    <tr>\n",
              "      <th>25%</th>\n",
              "      <td>27.000000</td>\n",
              "      <td>NaN</td>\n",
              "      <td>2.000000</td>\n",
              "      <td>NaN</td>\n",
              "      <td>NaN</td>\n",
              "      <td>NaN</td>\n",
              "      <td>1365.500000</td>\n",
              "      <td>12.000000</td>\n",
              "      <td>NaN</td>\n",
              "    </tr>\n",
              "    <tr>\n",
              "      <th>50%</th>\n",
              "      <td>33.000000</td>\n",
              "      <td>NaN</td>\n",
              "      <td>2.000000</td>\n",
              "      <td>NaN</td>\n",
              "      <td>NaN</td>\n",
              "      <td>NaN</td>\n",
              "      <td>2319.500000</td>\n",
              "      <td>18.000000</td>\n",
              "      <td>NaN</td>\n",
              "    </tr>\n",
              "    <tr>\n",
              "      <th>75%</th>\n",
              "      <td>42.000000</td>\n",
              "      <td>NaN</td>\n",
              "      <td>2.000000</td>\n",
              "      <td>NaN</td>\n",
              "      <td>NaN</td>\n",
              "      <td>NaN</td>\n",
              "      <td>3972.250000</td>\n",
              "      <td>24.000000</td>\n",
              "      <td>NaN</td>\n",
              "    </tr>\n",
              "    <tr>\n",
              "      <th>max</th>\n",
              "      <td>75.000000</td>\n",
              "      <td>NaN</td>\n",
              "      <td>3.000000</td>\n",
              "      <td>NaN</td>\n",
              "      <td>NaN</td>\n",
              "      <td>NaN</td>\n",
              "      <td>18424.000000</td>\n",
              "      <td>72.000000</td>\n",
              "      <td>NaN</td>\n",
              "    </tr>\n",
              "  </tbody>\n",
              "</table>\n",
              "</div>\n",
              "      <button class=\"colab-df-convert\" onclick=\"convertToInteractive('df-bcf1a968-ce28-402a-bf96-a4f54facc79a')\"\n",
              "              title=\"Convert this dataframe to an interactive table.\"\n",
              "              style=\"display:none;\">\n",
              "        \n",
              "  <svg xmlns=\"http://www.w3.org/2000/svg\" height=\"24px\"viewBox=\"0 0 24 24\"\n",
              "       width=\"24px\">\n",
              "    <path d=\"M0 0h24v24H0V0z\" fill=\"none\"/>\n",
              "    <path d=\"M18.56 5.44l.94 2.06.94-2.06 2.06-.94-2.06-.94-.94-2.06-.94 2.06-2.06.94zm-11 1L8.5 8.5l.94-2.06 2.06-.94-2.06-.94L8.5 2.5l-.94 2.06-2.06.94zm10 10l.94 2.06.94-2.06 2.06-.94-2.06-.94-.94-2.06-.94 2.06-2.06.94z\"/><path d=\"M17.41 7.96l-1.37-1.37c-.4-.4-.92-.59-1.43-.59-.52 0-1.04.2-1.43.59L10.3 9.45l-7.72 7.72c-.78.78-.78 2.05 0 2.83L4 21.41c.39.39.9.59 1.41.59.51 0 1.02-.2 1.41-.59l7.78-7.78 2.81-2.81c.8-.78.8-2.07 0-2.86zM5.41 20L4 18.59l7.72-7.72 1.47 1.35L5.41 20z\"/>\n",
              "  </svg>\n",
              "      </button>\n",
              "      \n",
              "  <style>\n",
              "    .colab-df-container {\n",
              "      display:flex;\n",
              "      flex-wrap:wrap;\n",
              "      gap: 12px;\n",
              "    }\n",
              "\n",
              "    .colab-df-convert {\n",
              "      background-color: #E8F0FE;\n",
              "      border: none;\n",
              "      border-radius: 50%;\n",
              "      cursor: pointer;\n",
              "      display: none;\n",
              "      fill: #1967D2;\n",
              "      height: 32px;\n",
              "      padding: 0 0 0 0;\n",
              "      width: 32px;\n",
              "    }\n",
              "\n",
              "    .colab-df-convert:hover {\n",
              "      background-color: #E2EBFA;\n",
              "      box-shadow: 0px 1px 2px rgba(60, 64, 67, 0.3), 0px 1px 3px 1px rgba(60, 64, 67, 0.15);\n",
              "      fill: #174EA6;\n",
              "    }\n",
              "\n",
              "    [theme=dark] .colab-df-convert {\n",
              "      background-color: #3B4455;\n",
              "      fill: #D2E3FC;\n",
              "    }\n",
              "\n",
              "    [theme=dark] .colab-df-convert:hover {\n",
              "      background-color: #434B5C;\n",
              "      box-shadow: 0px 1px 3px 1px rgba(0, 0, 0, 0.15);\n",
              "      filter: drop-shadow(0px 1px 2px rgba(0, 0, 0, 0.3));\n",
              "      fill: #FFFFFF;\n",
              "    }\n",
              "  </style>\n",
              "\n",
              "      <script>\n",
              "        const buttonEl =\n",
              "          document.querySelector('#df-bcf1a968-ce28-402a-bf96-a4f54facc79a button.colab-df-convert');\n",
              "        buttonEl.style.display =\n",
              "          google.colab.kernel.accessAllowed ? 'block' : 'none';\n",
              "\n",
              "        async function convertToInteractive(key) {\n",
              "          const element = document.querySelector('#df-bcf1a968-ce28-402a-bf96-a4f54facc79a');\n",
              "          const dataTable =\n",
              "            await google.colab.kernel.invokeFunction('convertToInteractive',\n",
              "                                                     [key], {});\n",
              "          if (!dataTable) return;\n",
              "\n",
              "          const docLinkHtml = 'Like what you see? Visit the ' +\n",
              "            '<a target=\"_blank\" href=https://colab.research.google.com/notebooks/data_table.ipynb>data table notebook</a>'\n",
              "            + ' to learn more about interactive tables.';\n",
              "          element.innerHTML = '';\n",
              "          dataTable['output_type'] = 'display_data';\n",
              "          await google.colab.output.renderOutput(dataTable, element);\n",
              "          const docLink = document.createElement('div');\n",
              "          docLink.innerHTML = docLinkHtml;\n",
              "          element.appendChild(docLink);\n",
              "        }\n",
              "      </script>\n",
              "    </div>\n",
              "  </div>\n",
              "  "
            ],
            "text/plain": [
              "                Age   Sex          Job  ... Credit_Amount     Duration Purpose\n",
              "count   1000.000000  1000  1000.000000  ...   1000.000000  1000.000000    1000\n",
              "unique          NaN     2          NaN  ...           NaN          NaN       8\n",
              "top             NaN  male          NaN  ...           NaN          NaN     car\n",
              "freq            NaN   690          NaN  ...           NaN          NaN     337\n",
              "mean      35.546000   NaN     1.904000  ...   3271.258000    20.903000     NaN\n",
              "std       11.375469   NaN     0.653614  ...   2822.736876    12.058814     NaN\n",
              "min       19.000000   NaN     0.000000  ...    250.000000     4.000000     NaN\n",
              "25%       27.000000   NaN     2.000000  ...   1365.500000    12.000000     NaN\n",
              "50%       33.000000   NaN     2.000000  ...   2319.500000    18.000000     NaN\n",
              "75%       42.000000   NaN     2.000000  ...   3972.250000    24.000000     NaN\n",
              "max       75.000000   NaN     3.000000  ...  18424.000000    72.000000     NaN\n",
              "\n",
              "[11 rows x 9 columns]"
            ]
          },
          "metadata": {},
          "execution_count": 8
        }
      ],
      "source": [
        "#Describe numeric and categorical columns\n",
        "germen_credit.describe(include='all')"
      ]
    },
    {
      "cell_type": "code",
      "execution_count": 9,
      "id": "3b21ea52",
      "metadata": {
        "id": "3b21ea52",
        "outputId": "dd295994-4ba4-4332-fff4-6706e75ecf70",
        "colab": {
          "base_uri": "https://localhost:8080/"
        }
      },
      "outputs": [
        {
          "output_type": "execute_result",
          "data": {
            "text/plain": [
              "array([67, 22, 49, 45, 53, 35, 61, 28, 25, 24, 60, 32, 44, 31, 48, 26, 36,\n",
              "       39, 42, 34, 63, 27, 30, 57, 33, 37, 58, 23, 29, 52, 50, 46, 51, 41,\n",
              "       40, 66, 47, 56, 54, 20, 21, 38, 70, 65, 74, 68, 43, 55, 64, 75, 19,\n",
              "       62, 59])"
            ]
          },
          "metadata": {},
          "execution_count": 9
        }
      ],
      "source": [
        "#To check unique values in Age\n",
        "germen_credit.Age.unique()"
      ]
    },
    {
      "cell_type": "code",
      "execution_count": 10,
      "id": "f76ed587",
      "metadata": {
        "id": "f76ed587",
        "outputId": "614a99db-6f33-4758-83c8-641ea02f481e",
        "colab": {
          "base_uri": "https://localhost:8080/"
        }
      },
      "outputs": [
        {
          "output_type": "execute_result",
          "data": {
            "text/plain": [
              "array(['male', 'female'], dtype=object)"
            ]
          },
          "metadata": {},
          "execution_count": 10
        }
      ],
      "source": [
        "#To check unique values in Sex\n",
        "germen_credit.Sex.unique()"
      ]
    },
    {
      "cell_type": "code",
      "execution_count": 11,
      "id": "9472ba78",
      "metadata": {
        "id": "9472ba78",
        "outputId": "46c7a6d8-48fa-4e4f-e8c6-38c6f8b70b48",
        "colab": {
          "base_uri": "https://localhost:8080/"
        }
      },
      "outputs": [
        {
          "output_type": "execute_result",
          "data": {
            "text/plain": [
              "array(['own', 'free', 'rent'], dtype=object)"
            ]
          },
          "metadata": {},
          "execution_count": 11
        }
      ],
      "source": [
        "#To check unique values in Housing\n",
        "germen_credit.Housing.unique()"
      ]
    },
    {
      "cell_type": "code",
      "execution_count": 12,
      "id": "503324b8",
      "metadata": {
        "id": "503324b8",
        "outputId": "bf390a1c-e732-4fd0-e777-853c388ab9e3",
        "colab": {
          "base_uri": "https://localhost:8080/"
        }
      },
      "outputs": [
        {
          "output_type": "execute_result",
          "data": {
            "text/plain": [
              "array([nan, 'little', 'quite rich', 'rich', 'moderate'], dtype=object)"
            ]
          },
          "metadata": {},
          "execution_count": 12
        }
      ],
      "source": [
        "#To check unique values in Saving_Accounts\n",
        "germen_credit.Saving_Accounts.unique()"
      ]
    },
    {
      "cell_type": "code",
      "execution_count": 13,
      "id": "536a65f6",
      "metadata": {
        "id": "536a65f6",
        "outputId": "18aa730e-05da-4eb0-885d-3397288a0f3d",
        "colab": {
          "base_uri": "https://localhost:8080/"
        }
      },
      "outputs": [
        {
          "output_type": "execute_result",
          "data": {
            "text/plain": [
              "array(['little', 'moderate', nan, 'rich'], dtype=object)"
            ]
          },
          "metadata": {},
          "execution_count": 13
        }
      ],
      "source": [
        "#To check unique values in Checkin_Accounts\n",
        "germen_credit.Checking_Account.unique()"
      ]
    },
    {
      "cell_type": "code",
      "execution_count": 14,
      "id": "129f0a44",
      "metadata": {
        "id": "129f0a44",
        "outputId": "2791d91f-476a-4fab-affc-343c8992c5d1",
        "colab": {
          "base_uri": "https://localhost:8080/"
        }
      },
      "outputs": [
        {
          "output_type": "execute_result",
          "data": {
            "text/plain": [
              "array([ 1169,  5951,  2096,  7882,  4870,  9055,  2835,  6948,  3059,\n",
              "        5234,  1295,  4308,  1567,  1199,  1403,  1282,  2424,  8072,\n",
              "       12579,  3430,  2134,  2647,  2241,  1804,  2069,  1374,   426,\n",
              "         409,  2415,  6836,  1913,  4020,  5866,  1264,  1474,  4746,\n",
              "        6110,  2100,  1225,   458,  2333,  1158,  6204,  6187,  6143,\n",
              "        1393,  2299,  1352,  7228,  2073,  5965,  1262,  3378,  2225,\n",
              "         783,  6468,  9566,  1961,  6229,  1391,  1537,  1953, 14421,\n",
              "        3181,  5190,  2171,  1007,  1819,  2394,  8133,   730,  1164,\n",
              "        5954,  1977,  1526,  3965,  4771,  9436,  3832,  5943,  1213,\n",
              "        1568,  1755,  2315,  1412, 12612,  2249,  1108,   618,  1409,\n",
              "         797,  3617,  1318, 15945,  2012,  2622,  2337,  7057,  1469,\n",
              "        2323,   932,  1919,  2445, 11938,  6458,  6078,  7721,  1410,\n",
              "        1449,   392,  6260,  7855,  1680,  3578,  7174,  2132,  4281,\n",
              "        2366,  1835,  3868,  1768,   781,  1924,  2121,   701,   639,\n",
              "        1860,  3499,  8487,  6887,  2708,  1984, 10144,  1240,  8613,\n",
              "         766,  2728,  1881,   709,  4795,  3416,  2462,  2288,  3566,\n",
              "         860,   682,  5371,  1582,  1346,  5848,  7758,  6967,  1288,\n",
              "         339,  3512,  1898,  2872,  1055,  7308,   909,  2978,  1131,\n",
              "        1577,  3972,  1935,   950,   763,  2064,  1414,  3414,  7485,\n",
              "        2577,   338,  1963,   571,  9572,  4455,  1647,  3777,   884,\n",
              "        1360,  5129,  1175,   674,  3244,  4591,  3844,  3915,  2108,\n",
              "        3031,  1501,  1382,   951,  2760,  4297,   936,  1168,  5117,\n",
              "         902,  1495, 10623,  1424,  6568,  1413,  3074,  3835,  5293,\n",
              "        1908,  3342,  3104,  3913,  3021,  1364,   625,  1200,   707,\n",
              "        4657,  2613, 10961,  7865,  1478,  3149,  4210,  2507,  2141,\n",
              "         866,  1544,  1823, 14555,  2767,  1291,  2522,   915,  1595,\n",
              "        4605,  1185,  3447,  1258,   717,  1204,  1925,   433,   666,\n",
              "        2251,  2150,  4151,  2030,  7418,  2684,  2149,  3812,  1154,\n",
              "        1657,  1603,  5302,  2748,  1231,   802,  6304,  1533,  8978,\n",
              "         999,  2662,  1402, 12169,  3060, 11998,  2697,  2404,  4611,\n",
              "        1901,  3368,  1574,  1445,  1520,  3878, 10722,  4788,  7582,\n",
              "        1092,  1024,  1076,  9398,  6419,  4796,  7629,  9960,  4675,\n",
              "        1287,  2515,  2745,   672,  3804,  1344,  1038, 10127,  1543,\n",
              "        4811,   727,  1237,   276,  5381,  5511,  3749,   685,  1494,\n",
              "        2746,   708,  4351,  3643,  4249,  1938,  2910,  2659,  1028,\n",
              "        3398,  5801,  1525,  4473,  1068,  6615,  1864,  7408, 11590,\n",
              "        4110,  3384,  2101,  1275,  4169,  1521,  5743,  3599,  3213,\n",
              "        4439,  3949,  1459,   882,  3758,  1743,  1136,  1236,   959,\n",
              "        3229,  6199,  1246,  2331,  4463,   776,  2406,  1239,  3399,\n",
              "        2247,  1766,  2473,  1542,  3850,  3650,  3446,  3001,  3079,\n",
              "        6070,  2146, 13756, 14782,  7685,  2320,   846, 14318,   362,\n",
              "        2212, 12976,  1283,  1330,  4272,  2238,  1126,  7374,  2326,\n",
              "        1820,   983,  3249,  1957, 11760,  2578,  2348,  1223,  1516,\n",
              "        1473,  1887,  8648,  2899,  2039,  2197,  1053,  3235,   939,\n",
              "        1967,  7253,  2292,  1597,  1381,  5842,  2579,  8471,  2782,\n",
              "        1042,  3186,  2028,   958,  1591,  2762,  2779,  2743,  1149,\n",
              "        1313,  1190,  3448, 11328,  1872,  2058,  2136,  1484,   660,\n",
              "        3394,   609,  1884,  1620,  2629,   719,  5096,  1244,  1842,\n",
              "        2576,  1512, 11054,   518,  2759,  2670,  4817,  2679,  3905,\n",
              "        3386,   343,  4594,  3620,  1721,  3017,   754,  1950,  2924,\n",
              "        1659,  7238,  2764,  4679,  3092,   448,   654,  1238,  1245,\n",
              "        3114,  2569,  5152,  1037,  3573,  1201,  3622,   960,  1163,\n",
              "        1209,  3077,  3757,  1418,  3518,  1934,  8318,   368,  2122,\n",
              "        2996,  9034,  1585,  1301,  1323,  3123,  5493,  1216,  1207,\n",
              "        1309,  2360,  6850,  8588,   759,  4686,  2687,   585,  2255,\n",
              "        1361,  7127,  1203,   700,  5507,  3190,  7119,  3488,  1113,\n",
              "        7966,  1532,  1503,  2302,   662,  2273,  2631,  1311,  3105,\n",
              "        2319,  3612,  7763,  3049,  1534,  2032,  6350,  2864,  1255,\n",
              "        1333,  2022,  1552,   626,  8858,   996,  1750,  6999,  1995,\n",
              "        1331,  2278,  5003,  3552,  1928,  2964,  1546,   683, 12389,\n",
              "        4712,  1553,  1372,  3979,  6758,  3234,  5433,   806,  1082,\n",
              "        2788,  2930,  1927,  2820,   937,  1056,  3124,  1388,  2384,\n",
              "        2133,  2799,  1289,  1217,  2246,   385,  1965,  1572,  2718,\n",
              "        1358,   931,  1442,  4241,  2775,  3863,  2329,   918,  1837,\n",
              "        3349,  2828,  4526,  2671,  2051,  1300,   741,  3357,  3632,\n",
              "        1808, 12204,  9157,  3676,  3441,   640,  3652,  1530,  3914,\n",
              "        1858,  2600,  1979,  2116,  1437,  4042,  3660,  1444,  1980,\n",
              "        1355,  1376, 15653,  1493,  4370,   750,  1308,  4623,  1851,\n",
              "        1880,  7980,  4583,  1386,   947,   684,  7476,  1922,  2303,\n",
              "        8086,  2346,  3973,   888, 10222,  4221,  6361,  1297,   900,\n",
              "        1050,  1047,  6314,  3496,  3609,  4843,  4139,  5742, 10366,\n",
              "        2080,  2580,  4530,  5150,  5595,  1453,  1538,  2279,  5103,\n",
              "        9857,  6527,  1347,  2862,  2753,  3651,   975,  2896,  4716,\n",
              "        2284,  1103,   926,  1800,  1905,  1123,  6331,  1377,  2503,\n",
              "        2528,  5324,  6560,  2969,  1206,  2118,   629,  1198,  2476,\n",
              "        1138, 14027,  7596,  1505,  3148,  6148,  1337,  1228,   790,\n",
              "        2570,   250,  1316,  1882,  6416,  6403,  1987,   760,  2603,\n",
              "        3380,  3990, 11560,  4380,  6761,  4280,  2325,  1048,  3160,\n",
              "        2483, 14179,  1797,  2511,  1274,  5248,  3029,   428,   976,\n",
              "         841,  5771,  1555,  1285,  1299,  1271,   691,  5045,  2124,\n",
              "        2214, 12680,  2463,  1155,  3108,  2901,  1655,  2812,  8065,\n",
              "        3275,  2223,  1480,  1371,  3535,  3509,  5711,  3872,  4933,\n",
              "        1940,   836,  1941,  2675,  2751,  6224,  5998,  1188,  6313,\n",
              "        1221,  2892,  3062,  2301,  7511,  1549,  1795,  7472,  9271,\n",
              "         590,   930,  9283,  1778,   907,   484,  9629,  3051,  3931,\n",
              "        7432,  1338,  1554, 15857,  1345,  1101,  3016,  2712,   731,\n",
              "        3780,  1602,  3966,  4165,  8335,  6681,  2375, 11816,  5084,\n",
              "        2327,   886,   601,  2957,  2611,  5179,  2993,  1943,  1559,\n",
              "        3422,  3976,  1249,  2235,  1471, 10875,   894,  3343,  3959,\n",
              "        3577,  5804,  2169,  2439,  2210,  2221,  2389,  3331,  7409,\n",
              "         652,  7678,  1343,   874,  3590,  1322,  3595,  1422,  6742,\n",
              "        7814,  9277,  2181,  1098,  4057,   795,  2825, 15672,  6614,\n",
              "        7824,  2442,  1829,  5800,  8947,  2606,  1592,  2186,  4153,\n",
              "        2625,  3485, 10477,  1278,  1107,  3763,  3711,  3594,  3195,\n",
              "        4454,  4736,  2991,  2142,  3161, 18424,  2848, 14896,  2359,\n",
              "        3345,  1817, 12749,  1366,  2002,  6872,   697,  1049, 10297,\n",
              "        1867,  1747,  1670,  1224,   522,  1498,   745,  2063,  6288,\n",
              "        6842,  3527,   929,  1455,  1845,  8358,  2859,  3621,  2145,\n",
              "        4113, 10974,  1893,  3656,  4006,  3069,  1740,  2353,  3556,\n",
              "        2397,   454,  1715,  2520,  3568,  7166,  3939,  1514,  7393,\n",
              "        1193,  7297,  2831,   753,  2427,  2538,  8386,  4844,  2923,\n",
              "        8229,  1433,  6289,  6579,  3565,  1569,  1936,  2390,  1736,\n",
              "        3857,   804,  4576])"
            ]
          },
          "metadata": {},
          "execution_count": 14
        }
      ],
      "source": [
        "#To check unique values in Credit_Amount\n",
        "germen_credit.Credit_Amount.unique()\n"
      ]
    },
    {
      "cell_type": "code",
      "execution_count": 15,
      "id": "1923ce98",
      "metadata": {
        "id": "1923ce98",
        "outputId": "67c7913b-25fa-4716-98b2-b15545b06263",
        "colab": {
          "base_uri": "https://localhost:8080/"
        }
      },
      "outputs": [
        {
          "output_type": "execute_result",
          "data": {
            "text/plain": [
              "array([ 6, 48, 12, 42, 24, 36, 30, 15,  9, 10,  7, 60, 18, 45, 11, 27,  8,\n",
              "       54, 20, 14, 33, 21, 16,  4, 47, 13, 22, 39, 28,  5, 26, 72, 40])"
            ]
          },
          "metadata": {},
          "execution_count": 15
        }
      ],
      "source": [
        "#To check unique values in duration\n",
        "germen_credit.Duration.unique()"
      ]
    },
    {
      "cell_type": "code",
      "execution_count": 16,
      "id": "173b082c",
      "metadata": {
        "id": "173b082c",
        "outputId": "d9b5ba1b-b8fb-450a-ceee-08611005d8ff",
        "colab": {
          "base_uri": "https://localhost:8080/"
        }
      },
      "outputs": [
        {
          "output_type": "execute_result",
          "data": {
            "text/plain": [
              "array(['radio/TV', 'education', 'furniture/equipment', 'car', 'business',\n",
              "       'domestic appliances', 'repairs', 'vacation/others'], dtype=object)"
            ]
          },
          "metadata": {},
          "execution_count": 16
        }
      ],
      "source": [
        "#To check unique values in Purpose\n",
        "germen_credit.Purpose.unique()"
      ]
    },
    {
      "cell_type": "code",
      "execution_count": 17,
      "id": "efa5824c",
      "metadata": {
        "id": "efa5824c",
        "outputId": "1b0ec601-5e7e-4c48-b438-707424b23a77",
        "colab": {
          "base_uri": "https://localhost:8080/"
        }
      },
      "outputs": [
        {
          "output_type": "execute_result",
          "data": {
            "text/plain": [
              "Checking_Account    394\n",
              "Saving_Accounts     183\n",
              "Purpose               0\n",
              "Duration              0\n",
              "Credit_Amount         0\n",
              "Housing               0\n",
              "Job                   0\n",
              "Sex                   0\n",
              "Age                   0\n",
              "dtype: int64"
            ]
          },
          "metadata": {},
          "execution_count": 17
        }
      ],
      "source": [
        "#To check null values in dataset\n",
        "germen_credit.isnull().sum().sort_values(ascending=False)"
      ]
    },
    {
      "cell_type": "markdown",
      "id": "a6799afe",
      "metadata": {
        "id": "a6799afe"
      },
      "source": [
        "# Observation Summary based describe results  :\n",
        "In germen_credit dataset found missing or erroneous values in Saving_Accounts=183\tChecking_Account=394\tcolumns."
      ]
    },
    {
      "cell_type": "code",
      "execution_count": 18,
      "id": "0b91f752",
      "metadata": {
        "id": "0b91f752",
        "outputId": "02090871-ed59-43b3-c2b5-52347d0190e5",
        "colab": {
          "base_uri": "https://localhost:8080/"
        }
      },
      "outputs": [
        {
          "output_type": "stream",
          "name": "stdout",
          "text": [
            "<class 'pandas.core.frame.DataFrame'>\n",
            "Int64Index: 1000 entries, 0 to 999\n",
            "Data columns (total 9 columns):\n",
            " #   Column            Non-Null Count  Dtype \n",
            "---  ------            --------------  ----- \n",
            " 0   Age               1000 non-null   int64 \n",
            " 1   Sex               1000 non-null   object\n",
            " 2   Job               1000 non-null   int64 \n",
            " 3   Housing           1000 non-null   object\n",
            " 4   Saving_Accounts   817 non-null    object\n",
            " 5   Checking_Account  606 non-null    object\n",
            " 6   Credit_Amount     1000 non-null   int64 \n",
            " 7   Duration          1000 non-null   int64 \n",
            " 8   Purpose           1000 non-null   object\n",
            "dtypes: int64(4), object(5)\n",
            "memory usage: 78.1+ KB\n"
          ]
        }
      ],
      "source": [
        "germen_credit.info()"
      ]
    },
    {
      "cell_type": "markdown",
      "id": "9ca21968",
      "metadata": {
        "id": "9ca21968"
      },
      "source": [
        "# 2.Provide the following information about the dataframe;\n",
        "a.\tDimensions of the dataframe\n",
        "    The germen_credit has 1000 observations and 09 variables\n",
        "    \n",
        "b.\tInformation about the schema\n",
        "c.\tStatistical metrics of each column\n",
        "\n"
      ]
    },
    {
      "cell_type": "markdown",
      "id": "f1b5e68c",
      "metadata": {
        "id": "f1b5e68c"
      },
      "source": [
        "# Information about the schema\n",
        "\n",
        "|Column Name | Datatype | Description | Not Null | Total_Obs_Counnt |\n",
        "| --- | --- | --- |--- | --- | \n",
        "| Age | Quantitative continuous |It include ages| Not Null |  1000 | \n",
        "| Sex | Qualitative Nominal |It include gender values Male and Female| Not Null |  1000 | \n",
        "| Job | Qualitative Nominal |Python read as numeric still It include  values 0 - unskilled and non-resident, 1 - unskilled and resident, 2 - skilled, 3 - highly skilled| Not Null |  1000 |\n",
        "|Housing| Qualitative Nominal |It include values Own, free,  and rent| Not Null |  1000 | \n",
        "|Saving_Accounts | Qualitative Ordiinal |It include values 'little', 'quite rich', 'rich', 'moderate' and also has nan which need to be correct| Some Values are null/Missing |  817  | \n",
        "|Checking_Account | Qualitative Ordiinal |It include values 'little', 'moderate', 'rich' and also has nan which need to be correct| Some Values are null/Missing |  606  | \n",
        "|Credit_Ammount | Quantitative continuous  | It include values of credit amount | Not Null |  1000  |\n",
        "|Duration | Quantitative Discreate  | It include values of duration of credit loan | Not Null |  1000  |\n",
        "|Purpose  | Qualitative Nominal | It include values like 'radio/TV', 'education',  for they get credit loan  | Not Null |  1000  |\n"
      ]
    },
    {
      "cell_type": "markdown",
      "id": "bdebd6c0",
      "metadata": {
        "id": "bdebd6c0"
      },
      "source": [
        "# Statistical metrics of each column"
      ]
    },
    {
      "cell_type": "code",
      "source": [
        "germen_credit.describe(include='all')"
      ],
      "metadata": {
        "colab": {
          "base_uri": "https://localhost:8080/",
          "height": 438
        },
        "id": "pc0fPPuxoNS2",
        "outputId": "271cd6e4-a75b-4010-b9cf-c01211381de4"
      },
      "id": "pc0fPPuxoNS2",
      "execution_count": 19,
      "outputs": [
        {
          "output_type": "execute_result",
          "data": {
            "text/html": [
              "\n",
              "  <div id=\"df-185636fa-cdac-4bc9-ad28-eded0cea5c71\">\n",
              "    <div class=\"colab-df-container\">\n",
              "      <div>\n",
              "<style scoped>\n",
              "    .dataframe tbody tr th:only-of-type {\n",
              "        vertical-align: middle;\n",
              "    }\n",
              "\n",
              "    .dataframe tbody tr th {\n",
              "        vertical-align: top;\n",
              "    }\n",
              "\n",
              "    .dataframe thead th {\n",
              "        text-align: right;\n",
              "    }\n",
              "</style>\n",
              "<table border=\"1\" class=\"dataframe\">\n",
              "  <thead>\n",
              "    <tr style=\"text-align: right;\">\n",
              "      <th></th>\n",
              "      <th>Age</th>\n",
              "      <th>Sex</th>\n",
              "      <th>Job</th>\n",
              "      <th>Housing</th>\n",
              "      <th>Saving_Accounts</th>\n",
              "      <th>Checking_Account</th>\n",
              "      <th>Credit_Amount</th>\n",
              "      <th>Duration</th>\n",
              "      <th>Purpose</th>\n",
              "    </tr>\n",
              "  </thead>\n",
              "  <tbody>\n",
              "    <tr>\n",
              "      <th>count</th>\n",
              "      <td>1000.000000</td>\n",
              "      <td>1000</td>\n",
              "      <td>1000.000000</td>\n",
              "      <td>1000</td>\n",
              "      <td>817</td>\n",
              "      <td>606</td>\n",
              "      <td>1000.000000</td>\n",
              "      <td>1000.000000</td>\n",
              "      <td>1000</td>\n",
              "    </tr>\n",
              "    <tr>\n",
              "      <th>unique</th>\n",
              "      <td>NaN</td>\n",
              "      <td>2</td>\n",
              "      <td>NaN</td>\n",
              "      <td>3</td>\n",
              "      <td>4</td>\n",
              "      <td>3</td>\n",
              "      <td>NaN</td>\n",
              "      <td>NaN</td>\n",
              "      <td>8</td>\n",
              "    </tr>\n",
              "    <tr>\n",
              "      <th>top</th>\n",
              "      <td>NaN</td>\n",
              "      <td>male</td>\n",
              "      <td>NaN</td>\n",
              "      <td>own</td>\n",
              "      <td>little</td>\n",
              "      <td>little</td>\n",
              "      <td>NaN</td>\n",
              "      <td>NaN</td>\n",
              "      <td>car</td>\n",
              "    </tr>\n",
              "    <tr>\n",
              "      <th>freq</th>\n",
              "      <td>NaN</td>\n",
              "      <td>690</td>\n",
              "      <td>NaN</td>\n",
              "      <td>713</td>\n",
              "      <td>603</td>\n",
              "      <td>274</td>\n",
              "      <td>NaN</td>\n",
              "      <td>NaN</td>\n",
              "      <td>337</td>\n",
              "    </tr>\n",
              "    <tr>\n",
              "      <th>mean</th>\n",
              "      <td>35.546000</td>\n",
              "      <td>NaN</td>\n",
              "      <td>1.904000</td>\n",
              "      <td>NaN</td>\n",
              "      <td>NaN</td>\n",
              "      <td>NaN</td>\n",
              "      <td>3271.258000</td>\n",
              "      <td>20.903000</td>\n",
              "      <td>NaN</td>\n",
              "    </tr>\n",
              "    <tr>\n",
              "      <th>std</th>\n",
              "      <td>11.375469</td>\n",
              "      <td>NaN</td>\n",
              "      <td>0.653614</td>\n",
              "      <td>NaN</td>\n",
              "      <td>NaN</td>\n",
              "      <td>NaN</td>\n",
              "      <td>2822.736876</td>\n",
              "      <td>12.058814</td>\n",
              "      <td>NaN</td>\n",
              "    </tr>\n",
              "    <tr>\n",
              "      <th>min</th>\n",
              "      <td>19.000000</td>\n",
              "      <td>NaN</td>\n",
              "      <td>0.000000</td>\n",
              "      <td>NaN</td>\n",
              "      <td>NaN</td>\n",
              "      <td>NaN</td>\n",
              "      <td>250.000000</td>\n",
              "      <td>4.000000</td>\n",
              "      <td>NaN</td>\n",
              "    </tr>\n",
              "    <tr>\n",
              "      <th>25%</th>\n",
              "      <td>27.000000</td>\n",
              "      <td>NaN</td>\n",
              "      <td>2.000000</td>\n",
              "      <td>NaN</td>\n",
              "      <td>NaN</td>\n",
              "      <td>NaN</td>\n",
              "      <td>1365.500000</td>\n",
              "      <td>12.000000</td>\n",
              "      <td>NaN</td>\n",
              "    </tr>\n",
              "    <tr>\n",
              "      <th>50%</th>\n",
              "      <td>33.000000</td>\n",
              "      <td>NaN</td>\n",
              "      <td>2.000000</td>\n",
              "      <td>NaN</td>\n",
              "      <td>NaN</td>\n",
              "      <td>NaN</td>\n",
              "      <td>2319.500000</td>\n",
              "      <td>18.000000</td>\n",
              "      <td>NaN</td>\n",
              "    </tr>\n",
              "    <tr>\n",
              "      <th>75%</th>\n",
              "      <td>42.000000</td>\n",
              "      <td>NaN</td>\n",
              "      <td>2.000000</td>\n",
              "      <td>NaN</td>\n",
              "      <td>NaN</td>\n",
              "      <td>NaN</td>\n",
              "      <td>3972.250000</td>\n",
              "      <td>24.000000</td>\n",
              "      <td>NaN</td>\n",
              "    </tr>\n",
              "    <tr>\n",
              "      <th>max</th>\n",
              "      <td>75.000000</td>\n",
              "      <td>NaN</td>\n",
              "      <td>3.000000</td>\n",
              "      <td>NaN</td>\n",
              "      <td>NaN</td>\n",
              "      <td>NaN</td>\n",
              "      <td>18424.000000</td>\n",
              "      <td>72.000000</td>\n",
              "      <td>NaN</td>\n",
              "    </tr>\n",
              "  </tbody>\n",
              "</table>\n",
              "</div>\n",
              "      <button class=\"colab-df-convert\" onclick=\"convertToInteractive('df-185636fa-cdac-4bc9-ad28-eded0cea5c71')\"\n",
              "              title=\"Convert this dataframe to an interactive table.\"\n",
              "              style=\"display:none;\">\n",
              "        \n",
              "  <svg xmlns=\"http://www.w3.org/2000/svg\" height=\"24px\"viewBox=\"0 0 24 24\"\n",
              "       width=\"24px\">\n",
              "    <path d=\"M0 0h24v24H0V0z\" fill=\"none\"/>\n",
              "    <path d=\"M18.56 5.44l.94 2.06.94-2.06 2.06-.94-2.06-.94-.94-2.06-.94 2.06-2.06.94zm-11 1L8.5 8.5l.94-2.06 2.06-.94-2.06-.94L8.5 2.5l-.94 2.06-2.06.94zm10 10l.94 2.06.94-2.06 2.06-.94-2.06-.94-.94-2.06-.94 2.06-2.06.94z\"/><path d=\"M17.41 7.96l-1.37-1.37c-.4-.4-.92-.59-1.43-.59-.52 0-1.04.2-1.43.59L10.3 9.45l-7.72 7.72c-.78.78-.78 2.05 0 2.83L4 21.41c.39.39.9.59 1.41.59.51 0 1.02-.2 1.41-.59l7.78-7.78 2.81-2.81c.8-.78.8-2.07 0-2.86zM5.41 20L4 18.59l7.72-7.72 1.47 1.35L5.41 20z\"/>\n",
              "  </svg>\n",
              "      </button>\n",
              "      \n",
              "  <style>\n",
              "    .colab-df-container {\n",
              "      display:flex;\n",
              "      flex-wrap:wrap;\n",
              "      gap: 12px;\n",
              "    }\n",
              "\n",
              "    .colab-df-convert {\n",
              "      background-color: #E8F0FE;\n",
              "      border: none;\n",
              "      border-radius: 50%;\n",
              "      cursor: pointer;\n",
              "      display: none;\n",
              "      fill: #1967D2;\n",
              "      height: 32px;\n",
              "      padding: 0 0 0 0;\n",
              "      width: 32px;\n",
              "    }\n",
              "\n",
              "    .colab-df-convert:hover {\n",
              "      background-color: #E2EBFA;\n",
              "      box-shadow: 0px 1px 2px rgba(60, 64, 67, 0.3), 0px 1px 3px 1px rgba(60, 64, 67, 0.15);\n",
              "      fill: #174EA6;\n",
              "    }\n",
              "\n",
              "    [theme=dark] .colab-df-convert {\n",
              "      background-color: #3B4455;\n",
              "      fill: #D2E3FC;\n",
              "    }\n",
              "\n",
              "    [theme=dark] .colab-df-convert:hover {\n",
              "      background-color: #434B5C;\n",
              "      box-shadow: 0px 1px 3px 1px rgba(0, 0, 0, 0.15);\n",
              "      filter: drop-shadow(0px 1px 2px rgba(0, 0, 0, 0.3));\n",
              "      fill: #FFFFFF;\n",
              "    }\n",
              "  </style>\n",
              "\n",
              "      <script>\n",
              "        const buttonEl =\n",
              "          document.querySelector('#df-185636fa-cdac-4bc9-ad28-eded0cea5c71 button.colab-df-convert');\n",
              "        buttonEl.style.display =\n",
              "          google.colab.kernel.accessAllowed ? 'block' : 'none';\n",
              "\n",
              "        async function convertToInteractive(key) {\n",
              "          const element = document.querySelector('#df-185636fa-cdac-4bc9-ad28-eded0cea5c71');\n",
              "          const dataTable =\n",
              "            await google.colab.kernel.invokeFunction('convertToInteractive',\n",
              "                                                     [key], {});\n",
              "          if (!dataTable) return;\n",
              "\n",
              "          const docLinkHtml = 'Like what you see? Visit the ' +\n",
              "            '<a target=\"_blank\" href=https://colab.research.google.com/notebooks/data_table.ipynb>data table notebook</a>'\n",
              "            + ' to learn more about interactive tables.';\n",
              "          element.innerHTML = '';\n",
              "          dataTable['output_type'] = 'display_data';\n",
              "          await google.colab.output.renderOutput(dataTable, element);\n",
              "          const docLink = document.createElement('div');\n",
              "          docLink.innerHTML = docLinkHtml;\n",
              "          element.appendChild(docLink);\n",
              "        }\n",
              "      </script>\n",
              "    </div>\n",
              "  </div>\n",
              "  "
            ],
            "text/plain": [
              "                Age   Sex          Job  ... Credit_Amount     Duration Purpose\n",
              "count   1000.000000  1000  1000.000000  ...   1000.000000  1000.000000    1000\n",
              "unique          NaN     2          NaN  ...           NaN          NaN       8\n",
              "top             NaN  male          NaN  ...           NaN          NaN     car\n",
              "freq            NaN   690          NaN  ...           NaN          NaN     337\n",
              "mean      35.546000   NaN     1.904000  ...   3271.258000    20.903000     NaN\n",
              "std       11.375469   NaN     0.653614  ...   2822.736876    12.058814     NaN\n",
              "min       19.000000   NaN     0.000000  ...    250.000000     4.000000     NaN\n",
              "25%       27.000000   NaN     2.000000  ...   1365.500000    12.000000     NaN\n",
              "50%       33.000000   NaN     2.000000  ...   2319.500000    18.000000     NaN\n",
              "75%       42.000000   NaN     2.000000  ...   3972.250000    24.000000     NaN\n",
              "max       75.000000   NaN     3.000000  ...  18424.000000    72.000000     NaN\n",
              "\n",
              "[11 rows x 9 columns]"
            ]
          },
          "metadata": {},
          "execution_count": 19
        }
      ]
    },
    {
      "cell_type": "code",
      "source": [
        "germen_credit.info()"
      ],
      "metadata": {
        "colab": {
          "base_uri": "https://localhost:8080/"
        },
        "id": "thTMriOtn5E1",
        "outputId": "c1b4fddc-5d1d-498b-9f44-b7b886ed6b2f"
      },
      "id": "thTMriOtn5E1",
      "execution_count": 20,
      "outputs": [
        {
          "output_type": "stream",
          "name": "stdout",
          "text": [
            "<class 'pandas.core.frame.DataFrame'>\n",
            "Int64Index: 1000 entries, 0 to 999\n",
            "Data columns (total 9 columns):\n",
            " #   Column            Non-Null Count  Dtype \n",
            "---  ------            --------------  ----- \n",
            " 0   Age               1000 non-null   int64 \n",
            " 1   Sex               1000 non-null   object\n",
            " 2   Job               1000 non-null   int64 \n",
            " 3   Housing           1000 non-null   object\n",
            " 4   Saving_Accounts   817 non-null    object\n",
            " 5   Checking_Account  606 non-null    object\n",
            " 6   Credit_Amount     1000 non-null   int64 \n",
            " 7   Duration          1000 non-null   int64 \n",
            " 8   Purpose           1000 non-null   object\n",
            "dtypes: int64(4), object(5)\n",
            "memory usage: 78.1+ KB\n"
          ]
        }
      ]
    },
    {
      "cell_type": "code",
      "source": [
        "germen_credit[['Age','Credit_Amount','Duration']].describe()"
      ],
      "metadata": {
        "colab": {
          "base_uri": "https://localhost:8080/",
          "height": 300
        },
        "id": "CdKpkNS4vKw5",
        "outputId": "751d7fcf-8ab8-45b5-dce2-683165f8098e"
      },
      "id": "CdKpkNS4vKw5",
      "execution_count": 21,
      "outputs": [
        {
          "output_type": "execute_result",
          "data": {
            "text/html": [
              "\n",
              "  <div id=\"df-08c012a4-1a03-478a-aa8b-aa0141173775\">\n",
              "    <div class=\"colab-df-container\">\n",
              "      <div>\n",
              "<style scoped>\n",
              "    .dataframe tbody tr th:only-of-type {\n",
              "        vertical-align: middle;\n",
              "    }\n",
              "\n",
              "    .dataframe tbody tr th {\n",
              "        vertical-align: top;\n",
              "    }\n",
              "\n",
              "    .dataframe thead th {\n",
              "        text-align: right;\n",
              "    }\n",
              "</style>\n",
              "<table border=\"1\" class=\"dataframe\">\n",
              "  <thead>\n",
              "    <tr style=\"text-align: right;\">\n",
              "      <th></th>\n",
              "      <th>Age</th>\n",
              "      <th>Credit_Amount</th>\n",
              "      <th>Duration</th>\n",
              "    </tr>\n",
              "  </thead>\n",
              "  <tbody>\n",
              "    <tr>\n",
              "      <th>count</th>\n",
              "      <td>1000.000000</td>\n",
              "      <td>1000.000000</td>\n",
              "      <td>1000.000000</td>\n",
              "    </tr>\n",
              "    <tr>\n",
              "      <th>mean</th>\n",
              "      <td>35.546000</td>\n",
              "      <td>3271.258000</td>\n",
              "      <td>20.903000</td>\n",
              "    </tr>\n",
              "    <tr>\n",
              "      <th>std</th>\n",
              "      <td>11.375469</td>\n",
              "      <td>2822.736876</td>\n",
              "      <td>12.058814</td>\n",
              "    </tr>\n",
              "    <tr>\n",
              "      <th>min</th>\n",
              "      <td>19.000000</td>\n",
              "      <td>250.000000</td>\n",
              "      <td>4.000000</td>\n",
              "    </tr>\n",
              "    <tr>\n",
              "      <th>25%</th>\n",
              "      <td>27.000000</td>\n",
              "      <td>1365.500000</td>\n",
              "      <td>12.000000</td>\n",
              "    </tr>\n",
              "    <tr>\n",
              "      <th>50%</th>\n",
              "      <td>33.000000</td>\n",
              "      <td>2319.500000</td>\n",
              "      <td>18.000000</td>\n",
              "    </tr>\n",
              "    <tr>\n",
              "      <th>75%</th>\n",
              "      <td>42.000000</td>\n",
              "      <td>3972.250000</td>\n",
              "      <td>24.000000</td>\n",
              "    </tr>\n",
              "    <tr>\n",
              "      <th>max</th>\n",
              "      <td>75.000000</td>\n",
              "      <td>18424.000000</td>\n",
              "      <td>72.000000</td>\n",
              "    </tr>\n",
              "  </tbody>\n",
              "</table>\n",
              "</div>\n",
              "      <button class=\"colab-df-convert\" onclick=\"convertToInteractive('df-08c012a4-1a03-478a-aa8b-aa0141173775')\"\n",
              "              title=\"Convert this dataframe to an interactive table.\"\n",
              "              style=\"display:none;\">\n",
              "        \n",
              "  <svg xmlns=\"http://www.w3.org/2000/svg\" height=\"24px\"viewBox=\"0 0 24 24\"\n",
              "       width=\"24px\">\n",
              "    <path d=\"M0 0h24v24H0V0z\" fill=\"none\"/>\n",
              "    <path d=\"M18.56 5.44l.94 2.06.94-2.06 2.06-.94-2.06-.94-.94-2.06-.94 2.06-2.06.94zm-11 1L8.5 8.5l.94-2.06 2.06-.94-2.06-.94L8.5 2.5l-.94 2.06-2.06.94zm10 10l.94 2.06.94-2.06 2.06-.94-2.06-.94-.94-2.06-.94 2.06-2.06.94z\"/><path d=\"M17.41 7.96l-1.37-1.37c-.4-.4-.92-.59-1.43-.59-.52 0-1.04.2-1.43.59L10.3 9.45l-7.72 7.72c-.78.78-.78 2.05 0 2.83L4 21.41c.39.39.9.59 1.41.59.51 0 1.02-.2 1.41-.59l7.78-7.78 2.81-2.81c.8-.78.8-2.07 0-2.86zM5.41 20L4 18.59l7.72-7.72 1.47 1.35L5.41 20z\"/>\n",
              "  </svg>\n",
              "      </button>\n",
              "      \n",
              "  <style>\n",
              "    .colab-df-container {\n",
              "      display:flex;\n",
              "      flex-wrap:wrap;\n",
              "      gap: 12px;\n",
              "    }\n",
              "\n",
              "    .colab-df-convert {\n",
              "      background-color: #E8F0FE;\n",
              "      border: none;\n",
              "      border-radius: 50%;\n",
              "      cursor: pointer;\n",
              "      display: none;\n",
              "      fill: #1967D2;\n",
              "      height: 32px;\n",
              "      padding: 0 0 0 0;\n",
              "      width: 32px;\n",
              "    }\n",
              "\n",
              "    .colab-df-convert:hover {\n",
              "      background-color: #E2EBFA;\n",
              "      box-shadow: 0px 1px 2px rgba(60, 64, 67, 0.3), 0px 1px 3px 1px rgba(60, 64, 67, 0.15);\n",
              "      fill: #174EA6;\n",
              "    }\n",
              "\n",
              "    [theme=dark] .colab-df-convert {\n",
              "      background-color: #3B4455;\n",
              "      fill: #D2E3FC;\n",
              "    }\n",
              "\n",
              "    [theme=dark] .colab-df-convert:hover {\n",
              "      background-color: #434B5C;\n",
              "      box-shadow: 0px 1px 3px 1px rgba(0, 0, 0, 0.15);\n",
              "      filter: drop-shadow(0px 1px 2px rgba(0, 0, 0, 0.3));\n",
              "      fill: #FFFFFF;\n",
              "    }\n",
              "  </style>\n",
              "\n",
              "      <script>\n",
              "        const buttonEl =\n",
              "          document.querySelector('#df-08c012a4-1a03-478a-aa8b-aa0141173775 button.colab-df-convert');\n",
              "        buttonEl.style.display =\n",
              "          google.colab.kernel.accessAllowed ? 'block' : 'none';\n",
              "\n",
              "        async function convertToInteractive(key) {\n",
              "          const element = document.querySelector('#df-08c012a4-1a03-478a-aa8b-aa0141173775');\n",
              "          const dataTable =\n",
              "            await google.colab.kernel.invokeFunction('convertToInteractive',\n",
              "                                                     [key], {});\n",
              "          if (!dataTable) return;\n",
              "\n",
              "          const docLinkHtml = 'Like what you see? Visit the ' +\n",
              "            '<a target=\"_blank\" href=https://colab.research.google.com/notebooks/data_table.ipynb>data table notebook</a>'\n",
              "            + ' to learn more about interactive tables.';\n",
              "          element.innerHTML = '';\n",
              "          dataTable['output_type'] = 'display_data';\n",
              "          await google.colab.output.renderOutput(dataTable, element);\n",
              "          const docLink = document.createElement('div');\n",
              "          docLink.innerHTML = docLinkHtml;\n",
              "          element.appendChild(docLink);\n",
              "        }\n",
              "      </script>\n",
              "    </div>\n",
              "  </div>\n",
              "  "
            ],
            "text/plain": [
              "               Age  Credit_Amount     Duration\n",
              "count  1000.000000    1000.000000  1000.000000\n",
              "mean     35.546000    3271.258000    20.903000\n",
              "std      11.375469    2822.736876    12.058814\n",
              "min      19.000000     250.000000     4.000000\n",
              "25%      27.000000    1365.500000    12.000000\n",
              "50%      33.000000    2319.500000    18.000000\n",
              "75%      42.000000    3972.250000    24.000000\n",
              "max      75.000000   18424.000000    72.000000"
            ]
          },
          "metadata": {},
          "execution_count": 21
        }
      ]
    },
    {
      "cell_type": "code",
      "execution_count": 22,
      "id": "631a8bc0",
      "metadata": {
        "colab": {
          "base_uri": "https://localhost:8080/",
          "height": 480
        },
        "id": "631a8bc0",
        "outputId": "69156126-1e62-4a84-e8f5-a29e5326881f"
      },
      "outputs": [
        {
          "output_type": "execute_result",
          "data": {
            "text/plain": [
              "<matplotlib.axes._subplots.AxesSubplot at 0x7f2742c71b50>"
            ]
          },
          "metadata": {},
          "execution_count": 22
        },
        {
          "output_type": "display_data",
          "data": {
            "image/png": "[encoded data removed]",
            "text/plain": [
              "<Figure size 1800x720 with 2 Axes>"
            ]
          },
          "metadata": {
            "needs_background": "light"
          }
        }
      ],
      "source": [
        "msno.matrix(germen_credit.sample(500))"
      ]
    },
    {
      "cell_type": "markdown",
      "source": [
        "# Observation Summary\n",
        "In the matrix plot, each white line represents missing observations and the lines are visualized in the order they appear in the dataset, top to bottom.\n",
        "With reference to above matrix two columns Saving_Account and Checking_Account are spotted with null values.\n",
        "\n",
        "The sparkline at right summarizes the general shape of the data completeness and points out the rows with the maximum and minimum nullity in the dataset.\n",
        "\n",
        "This visualization will comfortably accommodate up to 09 labelled variables. "
      ],
      "metadata": {
        "id": "kSGZrHFqbGcA"
      },
      "id": "kSGZrHFqbGcA"
    },
    {
      "cell_type": "code",
      "source": [
        "#msno.bar is a simple visualization of nullity by column:\n",
        "msno.bar(germen_credit.sample(1000))"
      ],
      "metadata": {
        "colab": {
          "base_uri": "https://localhost:8080/",
          "height": 494
        },
        "id": "jPPh56W_cFyj",
        "outputId": "34380394-635e-4faf-bc60-72f29b7e3f5a"
      },
      "id": "jPPh56W_cFyj",
      "execution_count": 23,
      "outputs": [
        {
          "output_type": "execute_result",
          "data": {
            "text/plain": [
              "<matplotlib.axes._subplots.AxesSubplot at 0x7f273a3b4a50>"
            ]
          },
          "metadata": {},
          "execution_count": 23
        },
        {
          "output_type": "display_data",
          "data": {
            "image/png": "[encoded data removed]",
            "text/plain": [
              "<Figure size 1800x720 with 3 Axes>"
            ]
          },
          "metadata": {
            "needs_background": "light"
          }
        }
      ]
    },
    {
      "cell_type": "markdown",
      "source": [
        "With reference to above Bar graph two columns Saving_Account and Checking_Account are spotted with null values.\n"
      ],
      "metadata": {
        "id": "zY149PzFc8Ax"
      },
      "id": "zY149PzFc8Ax"
    },
    {
      "cell_type": "code",
      "source": [
        "# To check the missingno correlation heatmap measures nullity correlation.\n",
        "msno.heatmap(germen_credit)"
      ],
      "metadata": {
        "colab": {
          "base_uri": "https://localhost:8080/",
          "height": 847
        },
        "id": "A7BEiAtxdHCe",
        "outputId": "305162f5-35fb-4bf4-b3e3-ac99b9228d19"
      },
      "id": "A7BEiAtxdHCe",
      "execution_count": 24,
      "outputs": [
        {
          "output_type": "execute_result",
          "data": {
            "text/plain": [
              "<matplotlib.axes._subplots.AxesSubplot at 0x7f2739de8bd0>"
            ]
          },
          "metadata": {},
          "execution_count": 24
        },
        {
          "output_type": "display_data",
          "data": {
            "image/png": "[encoded data removed]",
            "text/plain": [
              "<Figure size 1440x864 with 2 Axes>"
            ]
          },
          "metadata": {
            "needs_background": "light"
          }
        }
      ]
    },
    {
      "cell_type": "markdown",
      "source": [
        "The correlation heatmap will only include columns with missing values in the plot. The missingno correlation heatmap measures nullity correlation: how strongly the presence or absence of one variable affects the presence of another.The above heatmap show no linear corelationship between spotted variables.It has Missing Completely At Random, MCAR pattern of missing values."
      ],
      "metadata": {
        "id": "7gCgF6gxftyS"
      },
      "id": "7gCgF6gxftyS"
    },
    {
      "cell_type": "markdown",
      "source": [
        "# 3.\tConduct the following data pre-processing steps only as necessary along with the reason behind doing it with suitable steps;\n",
        "a.\tMissing values\n",
        "b.\tErroneous/wrong values\n",
        "c.\tSkewed data\n",
        "d.\tOutliers\n"
      ],
      "metadata": {
        "id": "UjPvgrOkmDVw"
      },
      "id": "UjPvgrOkmDVw"
    },
    {
      "cell_type": "markdown",
      "source": [
        "# Preprocessing\n",
        "Before starting deal with-\n",
        "\n",
        "a.\tMissing values\n",
        "\n",
        "b.\tErroneous/wrong values\n",
        "\n",
        "c.\tSkewed data\n",
        "\n",
        "d.\tOutliers\n",
        "\n",
        "I drawing some charts in order to find out and demonstrate insights in dataset"
      ],
      "metadata": {
        "id": "b1CnmJuugMrH"
      },
      "id": "b1CnmJuugMrH"
    },
    {
      "cell_type": "code",
      "source": [
        "#Statistical measurement of relationship strength between variables\n",
        "#To check corelations between numeric variables\n",
        "corr = germen_credit[['Credit_Amount','Duration','Age']].corr()\n",
        "corr"
      ],
      "metadata": {
        "id": "Fk1X5MK-QGMG",
        "colab": {
          "base_uri": "https://localhost:8080/",
          "height": 143
        },
        "outputId": "ac82a52a-dd39-4dcd-e649-47d89feca1e3"
      },
      "id": "Fk1X5MK-QGMG",
      "execution_count": 25,
      "outputs": [
        {
          "output_type": "execute_result",
          "data": {
            "text/html": [
              "\n",
              "  <div id=\"df-9c387749-2bf4-49bb-907c-3db7564db8ed\">\n",
              "    <div class=\"colab-df-container\">\n",
              "      <div>\n",
              "<style scoped>\n",
              "    .dataframe tbody tr th:only-of-type {\n",
              "        vertical-align: middle;\n",
              "    }\n",
              "\n",
              "    .dataframe tbody tr th {\n",
              "        vertical-align: top;\n",
              "    }\n",
              "\n",
              "    .dataframe thead th {\n",
              "        text-align: right;\n",
              "    }\n",
              "</style>\n",
              "<table border=\"1\" class=\"dataframe\">\n",
              "  <thead>\n",
              "    <tr style=\"text-align: right;\">\n",
              "      <th></th>\n",
              "      <th>Credit_Amount</th>\n",
              "      <th>Duration</th>\n",
              "      <th>Age</th>\n",
              "    </tr>\n",
              "  </thead>\n",
              "  <tbody>\n",
              "    <tr>\n",
              "      <th>Credit_Amount</th>\n",
              "      <td>1.000000</td>\n",
              "      <td>0.624984</td>\n",
              "      <td>0.032716</td>\n",
              "    </tr>\n",
              "    <tr>\n",
              "      <th>Duration</th>\n",
              "      <td>0.624984</td>\n",
              "      <td>1.000000</td>\n",
              "      <td>-0.036136</td>\n",
              "    </tr>\n",
              "    <tr>\n",
              "      <th>Age</th>\n",
              "      <td>0.032716</td>\n",
              "      <td>-0.036136</td>\n",
              "      <td>1.000000</td>\n",
              "    </tr>\n",
              "  </tbody>\n",
              "</table>\n",
              "</div>\n",
              "      <button class=\"colab-df-convert\" onclick=\"convertToInteractive('df-9c387749-2bf4-49bb-907c-3db7564db8ed')\"\n",
              "              title=\"Convert this dataframe to an interactive table.\"\n",
              "              style=\"display:none;\">\n",
              "        \n",
              "  <svg xmlns=\"http://www.w3.org/2000/svg\" height=\"24px\"viewBox=\"0 0 24 24\"\n",
              "       width=\"24px\">\n",
              "    <path d=\"M0 0h24v24H0V0z\" fill=\"none\"/>\n",
              "    <path d=\"M18.56 5.44l.94 2.06.94-2.06 2.06-.94-2.06-.94-.94-2.06-.94 2.06-2.06.94zm-11 1L8.5 8.5l.94-2.06 2.06-.94-2.06-.94L8.5 2.5l-.94 2.06-2.06.94zm10 10l.94 2.06.94-2.06 2.06-.94-2.06-.94-.94-2.06-.94 2.06-2.06.94z\"/><path d=\"M17.41 7.96l-1.37-1.37c-.4-.4-.92-.59-1.43-.59-.52 0-1.04.2-1.43.59L10.3 9.45l-7.72 7.72c-.78.78-.78 2.05 0 2.83L4 21.41c.39.39.9.59 1.41.59.51 0 1.02-.2 1.41-.59l7.78-7.78 2.81-2.81c.8-.78.8-2.07 0-2.86zM5.41 20L4 18.59l7.72-7.72 1.47 1.35L5.41 20z\"/>\n",
              "  </svg>\n",
              "      </button>\n",
              "      \n",
              "  <style>\n",
              "    .colab-df-container {\n",
              "      display:flex;\n",
              "      flex-wrap:wrap;\n",
              "      gap: 12px;\n",
              "    }\n",
              "\n",
              "    .colab-df-convert {\n",
              "      background-color: #E8F0FE;\n",
              "      border: none;\n",
              "      border-radius: 50%;\n",
              "      cursor: pointer;\n",
              "      display: none;\n",
              "      fill: #1967D2;\n",
              "      height: 32px;\n",
              "      padding: 0 0 0 0;\n",
              "      width: 32px;\n",
              "    }\n",
              "\n",
              "    .colab-df-convert:hover {\n",
              "      background-color: #E2EBFA;\n",
              "      box-shadow: 0px 1px 2px rgba(60, 64, 67, 0.3), 0px 1px 3px 1px rgba(60, 64, 67, 0.15);\n",
              "      fill: #174EA6;\n",
              "    }\n",
              "\n",
              "    [theme=dark] .colab-df-convert {\n",
              "      background-color: #3B4455;\n",
              "      fill: #D2E3FC;\n",
              "    }\n",
              "\n",
              "    [theme=dark] .colab-df-convert:hover {\n",
              "      background-color: #434B5C;\n",
              "      box-shadow: 0px 1px 3px 1px rgba(0, 0, 0, 0.15);\n",
              "      filter: drop-shadow(0px 1px 2px rgba(0, 0, 0, 0.3));\n",
              "      fill: #FFFFFF;\n",
              "    }\n",
              "  </style>\n",
              "\n",
              "      <script>\n",
              "        const buttonEl =\n",
              "          document.querySelector('#df-9c387749-2bf4-49bb-907c-3db7564db8ed button.colab-df-convert');\n",
              "        buttonEl.style.display =\n",
              "          google.colab.kernel.accessAllowed ? 'block' : 'none';\n",
              "\n",
              "        async function convertToInteractive(key) {\n",
              "          const element = document.querySelector('#df-9c387749-2bf4-49bb-907c-3db7564db8ed');\n",
              "          const dataTable =\n",
              "            await google.colab.kernel.invokeFunction('convertToInteractive',\n",
              "                                                     [key], {});\n",
              "          if (!dataTable) return;\n",
              "\n",
              "          const docLinkHtml = 'Like what you see? Visit the ' +\n",
              "            '<a target=\"_blank\" href=https://colab.research.google.com/notebooks/data_table.ipynb>data table notebook</a>'\n",
              "            + ' to learn more about interactive tables.';\n",
              "          element.innerHTML = '';\n",
              "          dataTable['output_type'] = 'display_data';\n",
              "          await google.colab.output.renderOutput(dataTable, element);\n",
              "          const docLink = document.createElement('div');\n",
              "          docLink.innerHTML = docLinkHtml;\n",
              "          element.appendChild(docLink);\n",
              "        }\n",
              "      </script>\n",
              "    </div>\n",
              "  </div>\n",
              "  "
            ],
            "text/plain": [
              "               Credit_Amount  Duration       Age\n",
              "Credit_Amount       1.000000  0.624984  0.032716\n",
              "Duration            0.624984  1.000000 -0.036136\n",
              "Age                 0.032716 -0.036136  1.000000"
            ]
          },
          "metadata": {},
          "execution_count": 25
        }
      ]
    },
    {
      "cell_type": "code",
      "source": [
        "fig, ax = plt.subplots(figsize=(10,10)) \n",
        "ax = sns.heatmap(corr, annot=True, linewidth=0.5)\n",
        "ax.set_title(\"Correlation matrix for the numerical features\")\n",
        "plt.show()"
      ],
      "metadata": {
        "colab": {
          "base_uri": "https://localhost:8080/",
          "height": 608
        },
        "id": "lyzXi3Lspylh",
        "outputId": "a3f51b06-e0f3-4734-d783-df84820234f2"
      },
      "id": "lyzXi3Lspylh",
      "execution_count": 26,
      "outputs": [
        {
          "output_type": "display_data",
          "data": {
            "image/png": "[encoded data removed]",
            "text/plain": [
              "<Figure size 720x720 with 2 Axes>"
            ]
          },
          "metadata": {
            "needs_background": "light"
          }
        }
      ]
    },
    {
      "cell_type": "markdown",
      "source": [
        "Observations:\n",
        "The numeric variables in dataset has no linear corelationship"
      ],
      "metadata": {
        "id": "gSQoC6XAxMj8"
      },
      "id": "gSQoC6XAxMj8"
    },
    {
      "cell_type": "code",
      "source": [
        "# histograms of continues variables\n",
        "\n",
        "fig, axes = plt.subplots(1,3, figsize=(16,8))\n",
        "plt.suptitle('Histogram of continuous variables')\n",
        "axes[0].hist(germen_credit['Duration'])\n",
        "axes[0].set_xlabel('No. of observations')\n",
        "axes[0].set_ylabel('Years')\n",
        "axes[0].set_title('Histogram of loan duration');\n",
        "\n",
        "axes[1].hist(germen_credit['Credit_Amount'])\n",
        "axes[1].set_xlabel('No. of observations')\n",
        "axes[1].set_ylabel('Credit amount')\n",
        "axes[1].set_title('Histogram of Credit amount');\n",
        "\n",
        "axes[2].hist(germen_credit['Age'])\n",
        "axes[2].set_xlabel('No. of observations')\n",
        "axes[2].set_ylabel('Age')\n",
        "axes[2].set_title('Histogram of Age');"
      ],
      "metadata": {
        "colab": {
          "base_uri": "https://localhost:8080/",
          "height": 552
        },
        "id": "eLq5JFtnzpzl",
        "outputId": "9ea5f923-f739-4e0f-9961-d81964794284"
      },
      "id": "eLq5JFtnzpzl",
      "execution_count": 27,
      "outputs": [
        {
          "output_type": "display_data",
          "data": {
            "image/png": "[encoded data removed]",
            "text/plain": [
              "<Figure size 1152x576 with 3 Axes>"
            ]
          },
          "metadata": {
            "needs_background": "light"
          }
        }
      ]
    },
    {
      "cell_type": "markdown",
      "source": [
        "Observations\n",
        "\n",
        "At the glance of the distribution of the continues variables shows that the variables are right skewed.\n"
      ],
      "metadata": {
        "id": "2ZsWT6R_0Hid"
      },
      "id": "2ZsWT6R_0Hid"
    },
    {
      "cell_type": "code",
      "source": [
        "germen_credit.columns\n"
      ],
      "metadata": {
        "colab": {
          "base_uri": "https://localhost:8080/"
        },
        "id": "J85t5hGn4iyV",
        "outputId": "477514d1-d359-4d1c-fa37-599a30ce6be1"
      },
      "id": "J85t5hGn4iyV",
      "execution_count": 28,
      "outputs": [
        {
          "output_type": "execute_result",
          "data": {
            "text/plain": [
              "Index(['Age', 'Sex', 'Job', 'Housing', 'Saving_Accounts', 'Checking_Account',\n",
              "       'Credit_Amount', 'Duration', 'Purpose'],\n",
              "      dtype='object')"
            ]
          },
          "metadata": {},
          "execution_count": 28
        }
      ]
    },
    {
      "cell_type": "code",
      "source": [
        "#To Check Frequency of job column\n",
        "fig = germen_credit[\"Job\"].hist()\n",
        "fig.text(-0.5, 400, 'Frequency', ha='center')\n",
        "fig.text(0, -100, 'UnSkilled', ha='center')\n",
        "fig.text(1, -100, 'UnSkilled Resident', ha='center')\n",
        "fig.text(2, -100, 'Skilled', ha='center')\n",
        "fig.text(3, -100, 'Highly Skilled', ha='center')"
      ],
      "metadata": {
        "colab": {
          "base_uri": "https://localhost:8080/",
          "height": 300
        },
        "id": "XfNc2Pgc532P",
        "outputId": "6331320e-21ce-4671-8716-730cab5f4eb3"
      },
      "id": "XfNc2Pgc532P",
      "execution_count": 29,
      "outputs": [
        {
          "output_type": "execute_result",
          "data": {
            "text/plain": [
              "Text(3, -100, 'Highly Skilled')"
            ]
          },
          "metadata": {},
          "execution_count": 29
        },
        {
          "output_type": "display_data",
          "data": {
            "image/png": "[encoded data removed]",
            "text/plain": [
              "<Figure size 432x288 with 1 Axes>"
            ]
          },
          "metadata": {
            "needs_background": "light"
          }
        }
      ]
    },
    {
      "cell_type": "markdown",
      "source": [
        "Observations:\n",
        "The frequency of skilled job holders is higher upto 650.\n",
        "Unskilled Resident frequency is 200 and Highly skilled job holder frequencyis 150."
      ],
      "metadata": {
        "id": "xTtmd4dZ6Xjj"
      },
      "id": "xTtmd4dZ6Xjj"
    },
    {
      "cell_type": "code",
      "source": [
        "#To check genderwise count of job holders\n",
        "sns.countplot(x='Job',hue='Sex',data=germen_credit)"
      ],
      "metadata": {
        "colab": {
          "base_uri": "https://localhost:8080/",
          "height": 296
        },
        "id": "679v9Uo-4p96",
        "outputId": "2d78c61a-8ab6-473e-de3f-44323f1e176a"
      },
      "id": "679v9Uo-4p96",
      "execution_count": 30,
      "outputs": [
        {
          "output_type": "execute_result",
          "data": {
            "text/plain": [
              "<matplotlib.axes._subplots.AxesSubplot at 0x7f2739a32dd0>"
            ]
          },
          "metadata": {},
          "execution_count": 30
        },
        {
          "output_type": "display_data",
          "data": {
            "image/png": "[encoded data removed]",
            "text/plain": [
              "<Figure size 432x288 with 1 Axes>"
            ]
          },
          "metadata": {
            "needs_background": "light"
          }
        }
      ]
    },
    {
      "cell_type": "markdown",
      "source": [
        "Observations:\n",
        "The genderwise count of of skilled job holders including Male and Female is higher.\n"
      ],
      "metadata": {
        "id": "XsVhbwYA7uJ4"
      },
      "id": "XsVhbwYA7uJ4"
    },
    {
      "cell_type": "code",
      "source": [
        "# Sex Vs Age cross Tabutation\n",
        "SexAge = germen_credit.loc[:,['Sex','Age']]\n",
        "fig = px.box(SexAge, x=\"Sex\", y=\"Age\", points=\"all\",color=\"Sex\")\n",
        "fig.update_layout(\n",
        "    title={\n",
        "          'text':\"Sex Vs Age Cross tabulation\",\n",
        "        'y':.95,\n",
        "        'x':.5,\n",
        "        'xanchor': 'center',\n",
        "        'yanchor': 'top'\n",
        "    },\n",
        "    xaxis_title=\"Sex\",\n",
        "    yaxis_title=\"Age\",\n",
        "   \n",
        ")\n",
        "fig.show()"
      ],
      "metadata": {
        "colab": {
          "base_uri": "https://localhost:8080/",
          "height": 542
        },
        "id": "AAFljtKycfUC",
        "outputId": "f80d82aa-1c08-4d23-f452-8457426b15a2"
      },
      "id": "AAFljtKycfUC",
      "execution_count": 31,
      "outputs": [
        {
          "output_type": "display_data",
          "data": {
            "text/html": [
              "<html>\n",
              "<head><meta charset=\"utf-8\" /></head>\n",
              "<body>\n",
              "    <div>\n",
              "            <script src=\"https://cdnjs.cloudflare.com/ajax/libs/mathjax/2.7.5/MathJax.js?config=TeX-AMS-MML_SVG\"></script><script type=\"text/javascript\">if (window.MathJax) {MathJax.Hub.Config({SVG: {font: \"STIX-Web\"}});}</script>\n",
              "                <script type=\"text/javascript\">window.PlotlyConfig = {MathJaxConfig: 'local'};</script>\n",
              "        <script src=\"https://cdn.plot.ly/plotly-latest.min.js\"></script>    \n",
              "            <div id=\"34b0ac57-b1ed-4dd6-8dfb-085598dff1a1\" class=\"plotly-graph-div\" style=\"height:525px; width:100%;\"></div>\n",
              "            <script type=\"text/javascript\">\n",
              "                \n",
              "                    window.PLOTLYENV=window.PLOTLYENV || {};\n",
              "                    \n",
              "                if (document.getElementById(\"34b0ac57-b1ed-4dd6-8dfb-085598dff1a1\")) {\n",
              "                    Plotly.newPlot(\n",
              "                        '34b0ac57-b1ed-4dd6-8dfb-085598dff1a1',\n",
              "                        [{\"alignmentgroup\": \"True\", \"boxpoints\": \"all\", \"hoverlabel\": {\"namelength\": 0}, \"hovertemplate\": \"Sex=%{x}<br>Age=%{y}\", \"legendgroup\": \"Sex=male\", \"marker\": {\"color\": \"#636efa\"}, \"name\": \"Sex=male\", \"notched\": false, \"offsetgroup\": \"Sex=male\", \"orientation\": \"v\", \"showlegend\": true, \"type\": \"box\", \"x\": [\"male\", \"male\", \"male\", \"male\", \"male\", \"male\", \"male\", \"male\", \"male\", \"male\", \"male\", \"male\", \"male\", \"male\", \"male\", \"male\", \"male\", \"male\", \"male\", \"male\", \"male\", \"male\", \"male\", \"male\", \"male\", \"male\", \"male\", \"male\", \"male\", \"male\", \"male\", \"male\", \"male\", \"male\", \"male\", \"male\", \"male\", \"male\", \"male\", \"male\", \"male\", \"male\", \"male\", \"male\", \"male\", \"male\", \"male\", \"male\", \"male\", \"male\", \"male\", \"male\", \"male\", \"male\", \"male\", \"male\", \"male\", \"male\", \"male\", \"male\", \"male\", \"male\", \"male\", \"male\", \"male\", \"male\", \"male\", \"male\", \"male\", \"male\", \"male\", \"male\", \"male\", \"male\", \"male\", \"male\", \"male\", \"male\", \"male\", \"male\", \"male\", \"male\", \"male\", \"male\", \"male\", \"male\", \"male\", \"male\", \"male\", \"male\", \"male\", \"male\", \"male\", \"male\", \"male\", \"male\", \"male\", \"male\", \"male\", \"male\", \"male\", \"male\", \"male\", \"male\", \"male\", \"male\", \"male\", \"male\", \"male\", \"male\", \"male\", \"male\", \"male\", \"male\", \"male\", \"male\", \"male\", \"male\", \"male\", \"male\", \"male\", \"male\", \"male\", \"male\", \"male\", \"male\", \"male\", \"male\", \"male\", \"male\", \"male\", \"male\", \"male\", \"male\", \"male\", \"male\", \"male\", \"male\", \"male\", \"male\", \"male\", \"male\", \"male\", \"male\", \"male\", \"male\", \"male\", \"male\", \"male\", \"male\", \"male\", \"male\", \"male\", \"male\", \"male\", \"male\", \"male\", \"male\", \"male\", \"male\", \"male\", \"male\", \"male\", \"male\", \"male\", \"male\", \"male\", \"male\", \"male\", \"male\", \"male\", \"male\", \"male\", \"male\", \"male\", \"male\", \"male\", \"male\", \"male\", \"male\", \"male\", \"male\", \"male\", \"male\", \"male\", \"male\", \"male\", \"male\", \"male\", \"male\", \"male\", \"male\", \"male\", \"male\", \"male\", \"male\", \"male\", \"male\", \"male\", \"male\", \"male\", \"male\", \"male\", \"male\", \"male\", \"male\", \"male\", \"male\", \"male\", \"male\", \"male\", \"male\", \"male\", \"male\", \"male\", \"male\", \"male\", \"male\", \"male\", \"male\", \"male\", \"male\", \"male\", \"male\", \"male\", \"male\", \"male\", \"male\", \"male\", \"male\", \"male\", \"male\", \"male\", \"male\", \"male\", \"male\", \"male\", \"male\", \"male\", \"male\", \"male\", \"male\", \"male\", \"male\", \"male\", \"male\", \"male\", \"male\", \"male\", \"male\", \"male\", \"male\", \"male\", \"male\", \"male\", \"male\", \"male\", \"male\", \"male\", \"male\", \"male\", \"male\", \"male\", \"male\", \"male\", \"male\", \"male\", \"male\", \"male\", \"male\", \"male\", \"male\", \"male\", \"male\", \"male\", \"male\", \"male\", \"male\", \"male\", \"male\", \"male\", \"male\", \"male\", \"male\", \"male\", \"male\", \"male\", \"male\", \"male\", \"male\", \"male\", \"male\", \"male\", \"male\", \"male\", \"male\", \"male\", \"male\", \"male\", \"male\", \"male\", \"male\", \"male\", \"male\", \"male\", \"male\", \"male\", \"male\", \"male\", \"male\", \"male\", \"male\", \"male\", \"male\", \"male\", \"male\", \"male\", \"male\", \"male\", \"male\", \"male\", \"male\", \"male\", \"male\", \"male\", \"male\", \"male\", \"male\", \"male\", \"male\", \"male\", \"male\", \"male\", \"male\", \"male\", \"male\", \"male\", \"male\", \"male\", \"male\", \"male\", \"male\", \"male\", \"male\", \"male\", \"male\", \"male\", \"male\", \"male\", \"male\", \"male\", \"male\", \"male\", \"male\", \"male\", \"male\", \"male\", \"male\", \"male\", \"male\", \"male\", \"male\", \"male\", \"male\", \"male\", \"male\", \"male\", \"male\", \"male\", \"male\", \"male\", \"male\", \"male\", \"male\", \"male\", \"male\", \"male\", \"male\", \"male\", \"male\", \"male\", \"male\", \"male\", \"male\", \"male\", \"male\", \"male\", \"male\", \"male\", \"male\", \"male\", \"male\", \"male\", \"male\", \"male\", \"male\", \"male\", \"male\", \"male\", \"male\", \"male\", \"male\", \"male\", \"male\", \"male\", \"male\", \"male\", \"male\", \"male\", \"male\", \"male\", \"male\", \"male\", \"male\", \"male\", \"male\", \"male\", \"male\", \"male\", \"male\", \"male\", \"male\", \"male\", \"male\", \"male\", \"male\", \"male\", \"male\", \"male\", \"male\", \"male\", \"male\", \"male\", \"male\", \"male\", \"male\", \"male\", \"male\", \"male\", \"male\", \"male\", \"male\", \"male\", \"male\", \"male\", \"male\", \"male\", \"male\", \"male\", \"male\", \"male\", \"male\", \"male\", \"male\", \"male\", \"male\", \"male\", \"male\", \"male\", \"male\", \"male\", \"male\", \"male\", \"male\", \"male\", \"male\", \"male\", \"male\", \"male\", \"male\", \"male\", \"male\", \"male\", \"male\", \"male\", \"male\", \"male\", \"male\", \"male\", \"male\", \"male\", \"male\", \"male\", \"male\", \"male\", \"male\", \"male\", \"male\", \"male\", \"male\", \"male\", \"male\", \"male\", \"male\", \"male\", \"male\", \"male\", \"male\", \"male\", \"male\", \"male\", \"male\", \"male\", \"male\", \"male\", \"male\", \"male\", \"male\", \"male\", \"male\", \"male\", \"male\", \"male\", \"male\", \"male\", \"male\", \"male\", \"male\", \"male\", \"male\", \"male\", \"male\", \"male\", \"male\", \"male\", \"male\", \"male\", \"male\", \"male\", \"male\", \"male\", \"male\", \"male\", \"male\", \"male\", \"male\", \"male\", \"male\", \"male\", \"male\", \"male\", \"male\", \"male\", \"male\", \"male\", \"male\", \"male\", \"male\", \"male\", \"male\", \"male\", \"male\", \"male\", \"male\", \"male\", \"male\", \"male\", \"male\", \"male\", \"male\", \"male\", \"male\", \"male\", \"male\", \"male\", \"male\", \"male\", \"male\", \"male\", \"male\", \"male\", \"male\", \"male\", \"male\", \"male\", \"male\", \"male\", \"male\", \"male\", \"male\", \"male\", \"male\", \"male\", \"male\", \"male\", \"male\", \"male\", \"male\", \"male\", \"male\", \"male\", \"male\", \"male\", \"male\", \"male\", \"male\", \"male\", \"male\", \"male\", \"male\", \"male\", \"male\", \"male\", \"male\", \"male\", \"male\", \"male\", \"male\", \"male\", \"male\", \"male\", \"male\", \"male\", \"male\", \"male\", \"male\", \"male\", \"male\", \"male\", \"male\", \"male\", \"male\", \"male\", \"male\", \"male\", \"male\", \"male\", \"male\", \"male\", \"male\", \"male\", \"male\", \"male\", \"male\", \"male\", \"male\", \"male\", \"male\", \"male\", \"male\", \"male\", \"male\", \"male\", \"male\", \"male\", \"male\", \"male\", \"male\", \"male\", \"male\", \"male\", \"male\", \"male\", \"male\", \"male\", \"male\", \"male\", \"male\", \"male\", \"male\", \"male\", \"male\", \"male\", \"male\", \"male\", \"male\", \"male\", \"male\", \"male\", \"male\", \"male\", \"male\", \"male\", \"male\", \"male\", \"male\", \"male\", \"male\", \"male\", \"male\", \"male\", \"male\", \"male\", \"male\", \"male\", \"male\", \"male\", \"male\", \"male\", \"male\"], \"x0\": \" \", \"xaxis\": \"x\", \"y\": [67, 49, 45, 53, 35, 53, 35, 61, 28, 60, 53, 25, 31, 48, 44, 48, 44, 26, 36, 39, 34, 63, 36, 27, 30, 57, 25, 31, 37, 37, 24, 30, 26, 44, 24, 39, 39, 29, 30, 25, 31, 57, 26, 52, 27, 50, 61, 25, 48, 22, 37, 46, 51, 40, 66, 34, 51, 39, 22, 47, 52, 47, 30, 28, 56, 54, 20, 54, 58, 34, 36, 36, 41, 24, 35, 26, 39, 39, 32, 35, 31, 28, 35, 47, 36, 24, 63, 30, 40, 30, 34, 29, 27, 47, 27, 66, 35, 27, 27, 22, 30, 28, 46, 42, 38, 24, 36, 48, 45, 38, 34, 36, 36, 70, 36, 32, 31, 33, 33, 26, 42, 52, 31, 65, 28, 30, 40, 50, 36, 31, 68, 20, 54, 34, 36, 29, 21, 36, 40, 52, 27, 26, 21, 38, 38, 43, 26, 21, 55, 33, 50, 66, 51, 31, 23, 24, 26, 30, 32, 30, 27, 27, 53, 22, 22, 26, 51, 35, 25, 42, 30, 23, 61, 39, 51, 24, 25, 52, 35, 26, 35, 24, 27, 35, 29, 27, 36, 32, 37, 36, 45, 25, 32, 36, 28, 34, 32, 49, 29, 23, 50, 49, 63, 37, 26, 31, 48, 26, 28, 56, 46, 45, 43, 32, 37, 49, 44, 33, 33, 22, 40, 25, 25, 29, 31, 38, 32, 28, 32, 34, 28, 39, 49, 31, 28, 75, 23, 44, 28, 31, 25, 33, 37, 23, 34, 32, 38, 28, 46, 23, 49, 26, 28, 61, 37, 21, 25, 36, 27, 42, 36, 33, 63, 34, 36, 57, 39, 26, 26, 40, 27, 30, 39, 31, 32, 46, 46, 39, 28, 27, 27, 43, 22, 43, 27, 26, 28, 35, 42, 40, 35, 33, 30, 47, 34, 21, 29, 46, 20, 74, 29, 36, 33, 25, 25, 23, 65, 39, 29, 41, 35, 61, 30, 34, 35, 31, 36, 35, 32, 37, 36, 38, 34, 63, 32, 35, 22, 28, 36, 33, 24, 25, 39, 44, 26, 44, 47, 52, 35, 26, 26, 38, 39, 20, 29, 40, 32, 28, 42, 49, 38, 27, 36, 34, 28, 45, 26, 32, 26, 20, 54, 40, 43, 36, 44, 53, 30, 42, 31, 41, 32, 41, 26, 25, 33, 42, 23, 60, 31, 34, 61, 43, 32, 35, 45, 34, 27, 22, 27, 31, 49, 24, 37, 37, 36, 34, 41, 38, 27, 27, 27, 30, 49, 33, 36, 21, 47, 60, 40, 36, 31, 32, 22, 74, 33, 45, 48, 27, 37, 49, 27, 32, 38, 65, 35, 41, 29, 36, 64, 44, 23, 47, 21, 26, 38, 40, 33, 32, 27, 32, 38, 40, 50, 37, 45, 42, 35, 22, 41, 37, 41, 23, 23, 50, 35, 27, 34, 43, 47, 27, 31, 42, 24, 41, 33, 24, 64, 37, 33, 47, 31, 34, 27, 30, 35, 31, 25, 29, 44, 28, 50, 29, 24, 40, 46, 41, 24, 37, 32, 46, 25, 27, 63, 40, 32, 31, 31, 34, 47, 36, 33, 21, 35, 45, 32, 23, 41, 22, 30, 28, 26, 33, 55, 74, 39, 31, 35, 24, 30, 27, 40, 31, 28, 63, 36, 52, 66, 37, 38, 25, 60, 31, 60, 35, 40, 38, 50, 27, 41, 27, 51, 32, 51, 54, 35, 54, 35, 24, 26, 65, 55, 26, 28, 24, 54, 46, 62, 43, 26, 27, 24, 41, 47, 35, 30, 36, 47, 38, 44, 29, 48, 63, 46, 29, 28, 50, 47, 35, 68, 28, 59, 57, 33, 43, 35, 32, 45, 33, 28, 26, 27, 28, 32, 25, 42, 37, 46, 26, 29, 36, 28, 27, 36, 38, 48, 36, 43, 34, 23, 34, 40, 43, 46, 38, 34, 29, 31, 42, 43, 44, 42, 40, 36, 20, 24, 27, 28, 31, 32, 68, 33, 39, 37, 30, 55, 46, 39, 58, 43, 24, 30, 42, 30, 30, 42, 46, 45, 31, 31, 42, 30, 38, 43, 31, 40, 24, 49, 37, 45, 30, 30, 47, 29, 35, 22, 23, 29, 40, 22, 43, 36, 42, 47, 25, 49, 33, 26, 30, 33, 29, 48, 37, 34, 23, 30, 50, 40, 38, 23, 27], \"y0\": \" \", \"yaxis\": \"y\"}, {\"alignmentgroup\": \"True\", \"boxpoints\": \"all\", \"hoverlabel\": {\"namelength\": 0}, \"hovertemplate\": \"Sex=%{x}<br>Age=%{y}\", \"legendgroup\": \"Sex=female\", \"marker\": {\"color\": \"#EF553B\"}, \"name\": \"Sex=female\", \"notched\": false, \"offsetgroup\": \"Sex=female\", \"orientation\": \"v\", \"showlegend\": true, \"type\": \"box\", \"x\": [\"female\", \"female\", \"female\", \"female\", \"female\", \"female\", \"female\", \"female\", \"female\", \"female\", \"female\", \"female\", \"female\", \"female\", \"female\", \"female\", \"female\", \"female\", \"female\", \"female\", \"female\", \"female\", \"female\", \"female\", \"female\", \"female\", \"female\", \"female\", \"female\", \"female\", \"female\", \"female\", \"female\", \"female\", \"female\", \"female\", \"female\", \"female\", \"female\", \"female\", \"female\", \"female\", \"female\", \"female\", \"female\", \"female\", \"female\", \"female\", \"female\", \"female\", \"female\", \"female\", \"female\", \"female\", \"female\", \"female\", \"female\", \"female\", \"female\", \"female\", \"female\", \"female\", \"female\", \"female\", \"female\", \"female\", \"female\", \"female\", \"female\", \"female\", \"female\", \"female\", \"female\", \"female\", \"female\", \"female\", \"female\", \"female\", \"female\", \"female\", \"female\", \"female\", \"female\", \"female\", \"female\", \"female\", \"female\", \"female\", \"female\", \"female\", \"female\", \"female\", \"female\", \"female\", \"female\", \"female\", \"female\", \"female\", \"female\", \"female\", \"female\", \"female\", \"female\", \"female\", \"female\", \"female\", \"female\", \"female\", \"female\", \"female\", \"female\", \"female\", \"female\", \"female\", \"female\", \"female\", \"female\", \"female\", \"female\", \"female\", \"female\", \"female\", \"female\", \"female\", \"female\", \"female\", \"female\", \"female\", \"female\", \"female\", \"female\", \"female\", \"female\", \"female\", \"female\", \"female\", \"female\", \"female\", \"female\", \"female\", \"female\", \"female\", \"female\", \"female\", \"female\", \"female\", \"female\", \"female\", \"female\", \"female\", \"female\", \"female\", \"female\", \"female\", \"female\", \"female\", \"female\", \"female\", \"female\", \"female\", \"female\", \"female\", \"female\", \"female\", \"female\", \"female\", \"female\", \"female\", \"female\", \"female\", \"female\", \"female\", \"female\", \"female\", \"female\", \"female\", \"female\", \"female\", \"female\", \"female\", \"female\", \"female\", \"female\", \"female\", \"female\", \"female\", \"female\", \"female\", \"female\", \"female\", \"female\", \"female\", \"female\", \"female\", \"female\", \"female\", \"female\", \"female\", \"female\", \"female\", \"female\", \"female\", \"female\", \"female\", \"female\", \"female\", \"female\", \"female\", \"female\", \"female\", \"female\", \"female\", \"female\", \"female\", \"female\", \"female\", \"female\", \"female\", \"female\", \"female\", \"female\", \"female\", \"female\", \"female\", \"female\", \"female\", \"female\", \"female\", \"female\", \"female\", \"female\", \"female\", \"female\", \"female\", \"female\", \"female\", \"female\", \"female\", \"female\", \"female\", \"female\", \"female\", \"female\", \"female\", \"female\", \"female\", \"female\", \"female\", \"female\", \"female\", \"female\", \"female\", \"female\", \"female\", \"female\", \"female\", \"female\", \"female\", \"female\", \"female\", \"female\", \"female\", \"female\", \"female\", \"female\", \"female\", \"female\", \"female\", \"female\", \"female\", \"female\", \"female\", \"female\", \"female\", \"female\", \"female\", \"female\", \"female\", \"female\", \"female\", \"female\", \"female\", \"female\", \"female\", \"female\", \"female\", \"female\", \"female\", \"female\", \"female\", \"female\", \"female\", \"female\", \"female\", \"female\", \"female\", \"female\", \"female\", \"female\", \"female\", \"female\", \"female\", \"female\", \"female\", \"female\", \"female\", \"female\", \"female\", \"female\", \"female\"], \"x0\": \" \", \"xaxis\": \"x\", \"y\": [22, 25, 24, 22, 28, 32, 44, 42, 33, 58, 35, 23, 28, 31, 23, 23, 26, 29, 25, 30, 41, 44, 24, 58, 29, 27, 33, 61, 24, 30, 23, 25, 30, 27, 23, 25, 41, 27, 29, 24, 21, 38, 44, 30, 23, 39, 51, 29, 20, 30, 33, 20, 25, 26, 34, 53, 74, 33, 34, 28, 27, 45, 39, 64, 23, 35, 29, 27, 35, 22, 39, 46, 24, 23, 57, 55, 57, 38, 37, 26, 32, 35, 49, 44, 26, 20, 54, 42, 24, 24, 26, 48, 27, 36, 34, 30, 24, 24, 23, 24, 24, 26, 43, 23, 23, 29, 23, 36, 22, 40, 23, 60, 37, 52, 38, 25, 25, 21, 27, 19, 31, 55, 43, 20, 35, 23, 31, 33, 20, 25, 55, 37, 26, 30, 30, 41, 34, 55, 29, 29, 27, 34, 29, 26, 23, 26, 23, 57, 30, 62, 42, 27, 27, 24, 37, 23, 24, 23, 26, 31, 28, 75, 37, 45, 37, 24, 23, 67, 28, 29, 29, 23, 31, 23, 26, 22, 24, 27, 33, 26, 52, 20, 58, 42, 36, 20, 32, 23, 45, 30, 34, 28, 23, 50, 22, 48, 29, 22, 22, 21, 22, 28, 19, 25, 28, 34, 27, 26, 28, 50, 27, 26, 26, 56, 25, 38, 29, 47, 32, 35, 25, 25, 35, 24, 24, 66, 21, 41, 25, 59, 44, 28, 37, 29, 23, 26, 23, 37, 49, 23, 23, 25, 32, 59, 24, 31, 26, 25, 25, 25, 67, 23, 39, 22, 22, 48, 24, 24, 26, 54, 24, 33, 23, 42, 25, 21, 23, 23, 40, 29, 35, 20, 27, 24, 40, 24, 40, 65, 53, 28, 35, 33, 46, 33, 34, 25, 25, 32, 28, 22, 21, 22, 23, 28, 46, 30, 28, 26, 29, 57, 26, 54, 29, 33, 57, 64, 28, 25, 64, 31], \"y0\": \" \", \"yaxis\": \"y\"}],\n",
              "                        {\"boxmode\": \"group\", \"legend\": {\"tracegroupgap\": 0}, \"margin\": {\"t\": 60}, \"template\": {\"data\": {\"bar\": [{\"error_x\": {\"color\": \"#2a3f5f\"}, \"error_y\": {\"color\": \"#2a3f5f\"}, \"marker\": {\"line\": {\"color\": \"#E5ECF6\", \"width\": 0.5}}, \"type\": \"bar\"}], \"barpolar\": [{\"marker\": {\"line\": {\"color\": \"#E5ECF6\", \"width\": 0.5}}, \"type\": \"barpolar\"}], \"carpet\": [{\"aaxis\": {\"endlinecolor\": \"#2a3f5f\", \"gridcolor\": \"white\", \"linecolor\": \"white\", \"minorgridcolor\": \"white\", \"startlinecolor\": \"#2a3f5f\"}, \"baxis\": {\"endlinecolor\": \"#2a3f5f\", \"gridcolor\": \"white\", \"linecolor\": \"white\", \"minorgridcolor\": \"white\", \"startlinecolor\": \"#2a3f5f\"}, \"type\": \"carpet\"}], \"choropleth\": [{\"colorbar\": {\"outlinewidth\": 0, \"ticks\": \"\"}, \"type\": \"choropleth\"}], \"contour\": [{\"colorbar\": {\"outlinewidth\": 0, \"ticks\": \"\"}, \"colorscale\": [[0.0, \"#0d0887\"], [0.1111111111111111, \"#46039f\"], [0.2222222222222222, \"#7201a8\"], [0.3333333333333333, \"#9c179e\"], [0.4444444444444444, \"#bd3786\"], [0.5555555555555556, \"#d8576b\"], [0.6666666666666666, \"#ed7953\"], [0.7777777777777778, \"#fb9f3a\"], [0.8888888888888888, \"#fdca26\"], [1.0, \"#f0f921\"]], \"type\": \"contour\"}], \"contourcarpet\": [{\"colorbar\": {\"outlinewidth\": 0, \"ticks\": \"\"}, \"type\": \"contourcarpet\"}], \"heatmap\": [{\"colorbar\": {\"outlinewidth\": 0, \"ticks\": \"\"}, \"colorscale\": [[0.0, \"#0d0887\"], [0.1111111111111111, \"#46039f\"], [0.2222222222222222, \"#7201a8\"], [0.3333333333333333, \"#9c179e\"], [0.4444444444444444, \"#bd3786\"], [0.5555555555555556, \"#d8576b\"], [0.6666666666666666, \"#ed7953\"], [0.7777777777777778, \"#fb9f3a\"], [0.8888888888888888, \"#fdca26\"], [1.0, \"#f0f921\"]], \"type\": \"heatmap\"}], \"heatmapgl\": [{\"colorbar\": {\"outlinewidth\": 0, \"ticks\": \"\"}, \"colorscale\": [[0.0, \"#0d0887\"], [0.1111111111111111, \"#46039f\"], [0.2222222222222222, \"#7201a8\"], [0.3333333333333333, \"#9c179e\"], [0.4444444444444444, \"#bd3786\"], [0.5555555555555556, \"#d8576b\"], [0.6666666666666666, \"#ed7953\"], [0.7777777777777778, \"#fb9f3a\"], [0.8888888888888888, \"#fdca26\"], [1.0, \"#f0f921\"]], \"type\": \"heatmapgl\"}], \"histogram\": [{\"marker\": {\"colorbar\": {\"outlinewidth\": 0, \"ticks\": \"\"}}, \"type\": \"histogram\"}], \"histogram2d\": [{\"colorbar\": {\"outlinewidth\": 0, \"ticks\": \"\"}, \"colorscale\": [[0.0, \"#0d0887\"], [0.1111111111111111, \"#46039f\"], [0.2222222222222222, \"#7201a8\"], [0.3333333333333333, \"#9c179e\"], [0.4444444444444444, \"#bd3786\"], [0.5555555555555556, \"#d8576b\"], [0.6666666666666666, \"#ed7953\"], [0.7777777777777778, \"#fb9f3a\"], [0.8888888888888888, \"#fdca26\"], [1.0, \"#f0f921\"]], \"type\": \"histogram2d\"}], \"histogram2dcontour\": [{\"colorbar\": {\"outlinewidth\": 0, \"ticks\": \"\"}, \"colorscale\": [[0.0, \"#0d0887\"], [0.1111111111111111, \"#46039f\"], [0.2222222222222222, \"#7201a8\"], [0.3333333333333333, \"#9c179e\"], [0.4444444444444444, \"#bd3786\"], [0.5555555555555556, \"#d8576b\"], [0.6666666666666666, \"#ed7953\"], [0.7777777777777778, \"#fb9f3a\"], [0.8888888888888888, \"#fdca26\"], [1.0, \"#f0f921\"]], \"type\": \"histogram2dcontour\"}], \"mesh3d\": [{\"colorbar\": {\"outlinewidth\": 0, \"ticks\": \"\"}, \"type\": \"mesh3d\"}], \"parcoords\": [{\"line\": {\"colorbar\": {\"outlinewidth\": 0, \"ticks\": \"\"}}, \"type\": \"parcoords\"}], \"pie\": [{\"automargin\": true, \"type\": \"pie\"}], \"scatter\": [{\"marker\": {\"colorbar\": {\"outlinewidth\": 0, \"ticks\": \"\"}}, \"type\": \"scatter\"}], \"scatter3d\": [{\"line\": {\"colorbar\": {\"outlinewidth\": 0, \"ticks\": \"\"}}, \"marker\": {\"colorbar\": {\"outlinewidth\": 0, \"ticks\": \"\"}}, \"type\": \"scatter3d\"}], \"scattercarpet\": [{\"marker\": {\"colorbar\": {\"outlinewidth\": 0, \"ticks\": \"\"}}, \"type\": \"scattercarpet\"}], \"scattergeo\": [{\"marker\": {\"colorbar\": {\"outlinewidth\": 0, \"ticks\": \"\"}}, \"type\": \"scattergeo\"}], \"scattergl\": [{\"marker\": {\"colorbar\": {\"outlinewidth\": 0, \"ticks\": \"\"}}, \"type\": \"scattergl\"}], \"scattermapbox\": [{\"marker\": {\"colorbar\": {\"outlinewidth\": 0, \"ticks\": \"\"}}, \"type\": \"scattermapbox\"}], \"scatterpolar\": [{\"marker\": {\"colorbar\": {\"outlinewidth\": 0, \"ticks\": \"\"}}, \"type\": \"scatterpolar\"}], \"scatterpolargl\": [{\"marker\": {\"colorbar\": {\"outlinewidth\": 0, \"ticks\": \"\"}}, \"type\": \"scatterpolargl\"}], \"scatterternary\": [{\"marker\": {\"colorbar\": {\"outlinewidth\": 0, \"ticks\": \"\"}}, \"type\": \"scatterternary\"}], \"surface\": [{\"colorbar\": {\"outlinewidth\": 0, \"ticks\": \"\"}, \"colorscale\": [[0.0, \"#0d0887\"], [0.1111111111111111, \"#46039f\"], [0.2222222222222222, \"#7201a8\"], [0.3333333333333333, \"#9c179e\"], [0.4444444444444444, \"#bd3786\"], [0.5555555555555556, \"#d8576b\"], [0.6666666666666666, \"#ed7953\"], [0.7777777777777778, \"#fb9f3a\"], [0.8888888888888888, \"#fdca26\"], [1.0, \"#f0f921\"]], \"type\": \"surface\"}], \"table\": [{\"cells\": {\"fill\": {\"color\": \"#EBF0F8\"}, \"line\": {\"color\": \"white\"}}, \"header\": {\"fill\": {\"color\": \"#C8D4E3\"}, \"line\": {\"color\": \"white\"}}, \"type\": \"table\"}]}, \"layout\": {\"annotationdefaults\": {\"arrowcolor\": \"#2a3f5f\", \"arrowhead\": 0, \"arrowwidth\": 1}, \"coloraxis\": {\"colorbar\": {\"outlinewidth\": 0, \"ticks\": \"\"}}, \"colorscale\": {\"diverging\": [[0, \"#8e0152\"], [0.1, \"#c51b7d\"], [0.2, \"#de77ae\"], [0.3, \"#f1b6da\"], [0.4, \"#fde0ef\"], [0.5, \"#f7f7f7\"], [0.6, \"#e6f5d0\"], [0.7, \"#b8e186\"], [0.8, \"#7fbc41\"], [0.9, \"#4d9221\"], [1, \"#276419\"]], \"sequential\": [[0.0, \"#0d0887\"], [0.1111111111111111, \"#46039f\"], [0.2222222222222222, \"#7201a8\"], [0.3333333333333333, \"#9c179e\"], [0.4444444444444444, \"#bd3786\"], [0.5555555555555556, \"#d8576b\"], [0.6666666666666666, \"#ed7953\"], [0.7777777777777778, \"#fb9f3a\"], [0.8888888888888888, \"#fdca26\"], [1.0, \"#f0f921\"]], \"sequentialminus\": [[0.0, \"#0d0887\"], [0.1111111111111111, \"#46039f\"], [0.2222222222222222, \"#7201a8\"], [0.3333333333333333, \"#9c179e\"], [0.4444444444444444, \"#bd3786\"], [0.5555555555555556, \"#d8576b\"], [0.6666666666666666, \"#ed7953\"], [0.7777777777777778, \"#fb9f3a\"], [0.8888888888888888, \"#fdca26\"], [1.0, \"#f0f921\"]]}, \"colorway\": [\"#636efa\", \"#EF553B\", \"#00cc96\", \"#ab63fa\", \"#FFA15A\", \"#19d3f3\", \"#FF6692\", \"#B6E880\", \"#FF97FF\", \"#FECB52\"], \"font\": {\"color\": \"#2a3f5f\"}, \"geo\": {\"bgcolor\": \"white\", \"lakecolor\": \"white\", \"landcolor\": \"#E5ECF6\", \"showlakes\": true, \"showland\": true, \"subunitcolor\": \"white\"}, \"hoverlabel\": {\"align\": \"left\"}, \"hovermode\": \"closest\", \"mapbox\": {\"style\": \"light\"}, \"paper_bgcolor\": \"white\", \"plot_bgcolor\": \"#E5ECF6\", \"polar\": {\"angularaxis\": {\"gridcolor\": \"white\", \"linecolor\": \"white\", \"ticks\": \"\"}, \"bgcolor\": \"#E5ECF6\", \"radialaxis\": {\"gridcolor\": \"white\", \"linecolor\": \"white\", \"ticks\": \"\"}}, \"scene\": {\"xaxis\": {\"backgroundcolor\": \"#E5ECF6\", \"gridcolor\": \"white\", \"gridwidth\": 2, \"linecolor\": \"white\", \"showbackground\": true, \"ticks\": \"\", \"zerolinecolor\": \"white\"}, \"yaxis\": {\"backgroundcolor\": \"#E5ECF6\", \"gridcolor\": \"white\", \"gridwidth\": 2, \"linecolor\": \"white\", \"showbackground\": true, \"ticks\": \"\", \"zerolinecolor\": \"white\"}, \"zaxis\": {\"backgroundcolor\": \"#E5ECF6\", \"gridcolor\": \"white\", \"gridwidth\": 2, \"linecolor\": \"white\", \"showbackground\": true, \"ticks\": \"\", \"zerolinecolor\": \"white\"}}, \"shapedefaults\": {\"line\": {\"color\": \"#2a3f5f\"}}, \"ternary\": {\"aaxis\": {\"gridcolor\": \"white\", \"linecolor\": \"white\", \"ticks\": \"\"}, \"baxis\": {\"gridcolor\": \"white\", \"linecolor\": \"white\", \"ticks\": \"\"}, \"bgcolor\": \"#E5ECF6\", \"caxis\": {\"gridcolor\": \"white\", \"linecolor\": \"white\", \"ticks\": \"\"}}, \"title\": {\"x\": 0.05}, \"xaxis\": {\"automargin\": true, \"gridcolor\": \"white\", \"linecolor\": \"white\", \"ticks\": \"\", \"title\": {\"standoff\": 15}, \"zerolinecolor\": \"white\", \"zerolinewidth\": 2}, \"yaxis\": {\"automargin\": true, \"gridcolor\": \"white\", \"linecolor\": \"white\", \"ticks\": \"\", \"title\": {\"standoff\": 15}, \"zerolinecolor\": \"white\", \"zerolinewidth\": 2}}}, \"title\": {\"text\": \"Sex Vs Age Cross tabulation\", \"x\": 0.5, \"xanchor\": \"center\", \"y\": 0.95, \"yanchor\": \"top\"}, \"xaxis\": {\"anchor\": \"y\", \"categoryarray\": [\"male\", \"female\"], \"categoryorder\": \"array\", \"domain\": [0.0, 1.0], \"title\": {\"text\": \"Sex\"}}, \"yaxis\": {\"anchor\": \"x\", \"domain\": [0.0, 1.0], \"title\": {\"text\": \"Age\"}}},\n",
              "                        {\"responsive\": true}\n",
              "                    ).then(function(){\n",
              "                            \n",
              "var gd = document.getElementById('34b0ac57-b1ed-4dd6-8dfb-085598dff1a1');\n",
              "var x = new MutationObserver(function (mutations, observer) {{\n",
              "        var display = window.getComputedStyle(gd).display;\n",
              "        if (!display || display === 'none') {{\n",
              "            console.log([gd, 'removed!']);\n",
              "            Plotly.purge(gd);\n",
              "            observer.disconnect();\n",
              "        }}\n",
              "}});\n",
              "\n",
              "// Listen for the removal of the full notebook cells\n",
              "var notebookContainer = gd.closest('#notebook-container');\n",
              "if (notebookContainer) {{\n",
              "    x.observe(notebookContainer, {childList: true});\n",
              "}}\n",
              "\n",
              "// Listen for the clearing of the current output cell\n",
              "var outputEl = gd.closest('.output');\n",
              "if (outputEl) {{\n",
              "    x.observe(outputEl, {childList: true});\n",
              "}}\n",
              "\n",
              "                        })\n",
              "                };\n",
              "                \n",
              "            </script>\n",
              "        </div>\n",
              "</body>\n",
              "</html>"
            ]
          },
          "metadata": {}
        }
      ]
    },
    {
      "cell_type": "code",
      "source": [
        ""
      ],
      "metadata": {
        "id": "4TvdxMh0pyiF"
      },
      "id": "4TvdxMh0pyiF",
      "execution_count": 31,
      "outputs": []
    },
    {
      "cell_type": "markdown",
      "source": [
        "A box plot is a statistical representation of numerical data through their quartiles. The ends of the box represent the lower and upper quartiles, while the median (second quartile) is marked by a line inside the box.\n",
        "The first box plot displays males min age=20 ,Median=35,Q1=28,Q3=43 and Max age=75 and Female ages min=19,median=29,q1=24,q3=37 and max age=75 observed in dataset.\n"
      ],
      "metadata": {
        "id": "rIQrSQCupzbH"
      },
      "id": "rIQrSQCupzbH"
    },
    {
      "cell_type": "code",
      "source": [
        "#Relationship between the credit amount and duration\n",
        "sns.scatterplot(y=germen_credit.Credit_Amount, \n",
        "                x=germen_credit.Duration, \n",
        "                hue=germen_credit.Job, \n",
        "                s=100, \n",
        "                )"
      ],
      "metadata": {
        "id": "g4lqUwgunvI_",
        "colab": {
          "base_uri": "https://localhost:8080/",
          "height": 296
        },
        "outputId": "69776bd9-a5e2-4590-eb10-a51fed8ee8c5"
      },
      "id": "g4lqUwgunvI_",
      "execution_count": 32,
      "outputs": [
        {
          "output_type": "execute_result",
          "data": {
            "text/plain": [
              "<matplotlib.axes._subplots.AxesSubplot at 0x7f27388e65d0>"
            ]
          },
          "metadata": {},
          "execution_count": 32
        },
        {
          "output_type": "display_data",
          "data": {
            "image/png": "[encoded data removed]",
            "text/plain": [
              "<Figure size 432x288 with 1 Axes>"
            ]
          },
          "metadata": {
            "needs_background": "light"
          }
        }
      ]
    },
    {
      "cell_type": "markdown",
      "source": [
        "Observations\n",
        "\n",
        "The scatter plot shows that in general, larger loans have longer duration of repayment. Loan distributed more to skilled job holders"
      ],
      "metadata": {
        "id": "2SlDHS7I8hnl"
      },
      "id": "2SlDHS7I8hnl"
    },
    {
      "cell_type": "markdown",
      "source": [
        "# Treating or imputing Missing Values for Saving_Accounts,\n",
        "Checking_Accounts.\n",
        "\n",
        "1.   To impute values in Saving Accounts and Checking Account i used mode imputation because both are categorical columns.\n",
        "2.   \n",
        "\n"
      ],
      "metadata": {
        "id": "WaTlaHnE-a-3"
      },
      "id": "WaTlaHnE-a-3"
    },
    {
      "cell_type": "code",
      "source": [
        "#df['salary'] = df['salary'].fillna(df['salary'].mode()[0])\n",
        "germen_creditmode=germen_credit.copy(deep=True)#creating copy for further manupulation\n",
        "mode_imputer=SimpleImputer(missing_values=np.NaN,strategy='most_frequent') \n",
        "germen_creditmode.iloc[:,:]=mode_imputer.fit_transform(germen_creditmode)\n",
        "#germen_creditmode.loc[['Saving_Accounts','Checking_Accounts']]=mode_imputer.fit_transform(germen_creditmode)"
      ],
      "metadata": {
        "id": "xS6hQpG1-OkS"
      },
      "id": "xS6hQpG1-OkS",
      "execution_count": 33,
      "outputs": []
    },
    {
      "cell_type": "code",
      "source": [
        "germen_creditmode['Saving_Accounts'].unique()#Verifiying Null Imputation"
      ],
      "metadata": {
        "colab": {
          "base_uri": "https://localhost:8080/"
        },
        "id": "jCS3ZlwmD7P_",
        "outputId": "eea82fcc-d024-4397-f681-c2368572cda7"
      },
      "id": "jCS3ZlwmD7P_",
      "execution_count": 34,
      "outputs": [
        {
          "output_type": "execute_result",
          "data": {
            "text/plain": [
              "array(['little', 'quite rich', 'rich', 'moderate'], dtype=object)"
            ]
          },
          "metadata": {},
          "execution_count": 34
        }
      ]
    },
    {
      "cell_type": "markdown",
      "source": [
        "#Working with Outliers"
      ],
      "metadata": {
        "id": "7CvCLkzvHIvf"
      },
      "id": "7CvCLkzvHIvf"
    },
    {
      "cell_type": "code",
      "source": [
        "germen_credit.info()\n"
      ],
      "metadata": {
        "colab": {
          "base_uri": "https://localhost:8080/"
        },
        "id": "pL9uPt1eMvg3",
        "outputId": "5283f8cd-ec95-45b0-fb6d-d62d46d823e7"
      },
      "id": "pL9uPt1eMvg3",
      "execution_count": 35,
      "outputs": [
        {
          "output_type": "stream",
          "name": "stdout",
          "text": [
            "<class 'pandas.core.frame.DataFrame'>\n",
            "Int64Index: 1000 entries, 0 to 999\n",
            "Data columns (total 9 columns):\n",
            " #   Column            Non-Null Count  Dtype \n",
            "---  ------            --------------  ----- \n",
            " 0   Age               1000 non-null   int64 \n",
            " 1   Sex               1000 non-null   object\n",
            " 2   Job               1000 non-null   int64 \n",
            " 3   Housing           1000 non-null   object\n",
            " 4   Saving_Accounts   817 non-null    object\n",
            " 5   Checking_Account  606 non-null    object\n",
            " 6   Credit_Amount     1000 non-null   int64 \n",
            " 7   Duration          1000 non-null   int64 \n",
            " 8   Purpose           1000 non-null   object\n",
            "dtypes: int64(4), object(5)\n",
            "memory usage: 118.1+ KB\n"
          ]
        }
      ]
    },
    {
      "cell_type": "code",
      "source": [
        "\n",
        "from scipy import stats #Importing stats from scipi\n",
        "#checking outliers \n",
        "z = np.abs(stats.zscore(germen_credit['Age']))\n",
        "\n",
        "threshold = 3\n",
        " \n",
        "print(np.where(z > 3))# Position of the outlier"
      ],
      "metadata": {
        "colab": {
          "base_uri": "https://localhost:8080/"
        },
        "id": "dm-foRY4F8Hf",
        "outputId": "c4fd9a9f-75ec-41bc-da54-546964ae615e"
      },
      "id": "dm-foRY4F8Hf",
      "execution_count": 36,
      "outputs": [
        {
          "output_type": "stream",
          "name": "stdout",
          "text": [
            "(array([163, 186, 330, 430, 536, 606, 756]),)\n"
          ]
        }
      ]
    },
    {
      "cell_type": "code",
      "source": [
        "#checking outliers \n",
        "z = np.abs(stats.zscore(germen_credit['Credit_Amount']))\n",
        "\n",
        "threshold = 3\n",
        " \n",
        "print(np.where(z > 3))# Position of the outlier"
      ],
      "metadata": {
        "colab": {
          "base_uri": "https://localhost:8080/"
        },
        "id": "NZ8h9jp3Mpph",
        "outputId": "e4c7329f-6b2f-4de8-8f9b-4c7241742c69"
      },
      "id": "NZ8h9jp3Mpph",
      "execution_count": 37,
      "outputs": [
        {
          "output_type": "stream",
          "name": "stdout",
          "text": [
            "(array([ 18,  63,  87,  95, 105, 236, 272, 274, 373, 374, 378, 381, 395,\n",
            "       563, 615, 637, 714, 744, 763, 818, 832, 887, 915, 917, 921]),)\n"
          ]
        }
      ]
    },
    {
      "cell_type": "code",
      "source": [
        "#checking outliers \n",
        "z = np.abs(stats.zscore(germen_credit['Duration']))\n",
        "\n",
        "threshold = 3\n",
        " \n",
        "print(np.where(z > 3))# Position of the outlier"
      ],
      "metadata": {
        "colab": {
          "base_uri": "https://localhost:8080/"
        },
        "id": "me-6EVQRNLCn",
        "outputId": "4dac7219-ac05-4fde-b2db-9c0cab5e180a"
      },
      "id": "me-6EVQRNLCn",
      "execution_count": 38,
      "outputs": [
        {
          "output_type": "stream",
          "name": "stdout",
          "text": [
            "(array([ 29, 134, 255, 332, 373, 374, 616, 637, 672, 677, 685, 714, 938,\n",
            "       973]),)\n"
          ]
        }
      ]
    },
    {
      "cell_type": "code",
      "source": [
        "#creating seprate Dataframe of numeric and having outlier columns\n",
        "germen_credit_num=germen_credit[['Age','Credit_Amount','Duration']]\n",
        "\n"
      ],
      "metadata": {
        "id": "lfxDy3ogKAIY"
      },
      "id": "lfxDy3ogKAIY",
      "execution_count": 39,
      "outputs": []
    },
    {
      "cell_type": "code",
      "source": [
        "#Outliers Removal using Zscore\n",
        "germen_credit[(np.abs(stats.zscore(germen_credit['Age'])) < 3)]\n",
        "germen_credit[(np.abs(stats.zscore(germen_credit['Credit_Amount'])) < 3)]\n",
        "germen_credit[(np.abs(stats.zscore(germen_credit['Duration'])) < 3)]\n"
      ],
      "metadata": {
        "id": "jG0IFzjsNr-u",
        "colab": {
          "base_uri": "https://localhost:8080/",
          "height": 424
        },
        "outputId": "6947f56f-acd0-4a97-bfa1-3267627b3b39"
      },
      "id": "jG0IFzjsNr-u",
      "execution_count": 40,
      "outputs": [
        {
          "output_type": "execute_result",
          "data": {
            "text/html": [
              "\n",
              "  <div id=\"df-bf6725cc-383c-4718-8d7b-886fa8f3dbd5\">\n",
              "    <div class=\"colab-df-container\">\n",
              "      <div>\n",
              "<style scoped>\n",
              "    .dataframe tbody tr th:only-of-type {\n",
              "        vertical-align: middle;\n",
              "    }\n",
              "\n",
              "    .dataframe tbody tr th {\n",
              "        vertical-align: top;\n",
              "    }\n",
              "\n",
              "    .dataframe thead th {\n",
              "        text-align: right;\n",
              "    }\n",
              "</style>\n",
              "<table border=\"1\" class=\"dataframe\">\n",
              "  <thead>\n",
              "    <tr style=\"text-align: right;\">\n",
              "      <th></th>\n",
              "      <th>Age</th>\n",
              "      <th>Sex</th>\n",
              "      <th>Job</th>\n",
              "      <th>Housing</th>\n",
              "      <th>Saving_Accounts</th>\n",
              "      <th>Checking_Account</th>\n",
              "      <th>Credit_Amount</th>\n",
              "      <th>Duration</th>\n",
              "      <th>Purpose</th>\n",
              "    </tr>\n",
              "  </thead>\n",
              "  <tbody>\n",
              "    <tr>\n",
              "      <th>0</th>\n",
              "      <td>67</td>\n",
              "      <td>male</td>\n",
              "      <td>2</td>\n",
              "      <td>own</td>\n",
              "      <td>NaN</td>\n",
              "      <td>little</td>\n",
              "      <td>1169</td>\n",
              "      <td>6</td>\n",
              "      <td>radio/TV</td>\n",
              "    </tr>\n",
              "    <tr>\n",
              "      <th>1</th>\n",
              "      <td>22</td>\n",
              "      <td>female</td>\n",
              "      <td>2</td>\n",
              "      <td>own</td>\n",
              "      <td>little</td>\n",
              "      <td>moderate</td>\n",
              "      <td>5951</td>\n",
              "      <td>48</td>\n",
              "      <td>radio/TV</td>\n",
              "    </tr>\n",
              "    <tr>\n",
              "      <th>2</th>\n",
              "      <td>49</td>\n",
              "      <td>male</td>\n",
              "      <td>1</td>\n",
              "      <td>own</td>\n",
              "      <td>little</td>\n",
              "      <td>NaN</td>\n",
              "      <td>2096</td>\n",
              "      <td>12</td>\n",
              "      <td>education</td>\n",
              "    </tr>\n",
              "    <tr>\n",
              "      <th>3</th>\n",
              "      <td>45</td>\n",
              "      <td>male</td>\n",
              "      <td>2</td>\n",
              "      <td>free</td>\n",
              "      <td>little</td>\n",
              "      <td>little</td>\n",
              "      <td>7882</td>\n",
              "      <td>42</td>\n",
              "      <td>furniture/equipment</td>\n",
              "    </tr>\n",
              "    <tr>\n",
              "      <th>4</th>\n",
              "      <td>53</td>\n",
              "      <td>male</td>\n",
              "      <td>2</td>\n",
              "      <td>free</td>\n",
              "      <td>little</td>\n",
              "      <td>little</td>\n",
              "      <td>4870</td>\n",
              "      <td>24</td>\n",
              "      <td>car</td>\n",
              "    </tr>\n",
              "    <tr>\n",
              "      <th>...</th>\n",
              "      <td>...</td>\n",
              "      <td>...</td>\n",
              "      <td>...</td>\n",
              "      <td>...</td>\n",
              "      <td>...</td>\n",
              "      <td>...</td>\n",
              "      <td>...</td>\n",
              "      <td>...</td>\n",
              "      <td>...</td>\n",
              "    </tr>\n",
              "    <tr>\n",
              "      <th>995</th>\n",
              "      <td>31</td>\n",
              "      <td>female</td>\n",
              "      <td>1</td>\n",
              "      <td>own</td>\n",
              "      <td>little</td>\n",
              "      <td>NaN</td>\n",
              "      <td>1736</td>\n",
              "      <td>12</td>\n",
              "      <td>furniture/equipment</td>\n",
              "    </tr>\n",
              "    <tr>\n",
              "      <th>996</th>\n",
              "      <td>40</td>\n",
              "      <td>male</td>\n",
              "      <td>3</td>\n",
              "      <td>own</td>\n",
              "      <td>little</td>\n",
              "      <td>little</td>\n",
              "      <td>3857</td>\n",
              "      <td>30</td>\n",
              "      <td>car</td>\n",
              "    </tr>\n",
              "    <tr>\n",
              "      <th>997</th>\n",
              "      <td>38</td>\n",
              "      <td>male</td>\n",
              "      <td>2</td>\n",
              "      <td>own</td>\n",
              "      <td>little</td>\n",
              "      <td>NaN</td>\n",
              "      <td>804</td>\n",
              "      <td>12</td>\n",
              "      <td>radio/TV</td>\n",
              "    </tr>\n",
              "    <tr>\n",
              "      <th>998</th>\n",
              "      <td>23</td>\n",
              "      <td>male</td>\n",
              "      <td>2</td>\n",
              "      <td>free</td>\n",
              "      <td>little</td>\n",
              "      <td>little</td>\n",
              "      <td>1845</td>\n",
              "      <td>45</td>\n",
              "      <td>radio/TV</td>\n",
              "    </tr>\n",
              "    <tr>\n",
              "      <th>999</th>\n",
              "      <td>27</td>\n",
              "      <td>male</td>\n",
              "      <td>2</td>\n",
              "      <td>own</td>\n",
              "      <td>moderate</td>\n",
              "      <td>moderate</td>\n",
              "      <td>4576</td>\n",
              "      <td>45</td>\n",
              "      <td>car</td>\n",
              "    </tr>\n",
              "  </tbody>\n",
              "</table>\n",
              "<p>986 rows × 9 columns</p>\n",
              "</div>\n",
              "      <button class=\"colab-df-convert\" onclick=\"convertToInteractive('df-bf6725cc-383c-4718-8d7b-886fa8f3dbd5')\"\n",
              "              title=\"Convert this dataframe to an interactive table.\"\n",
              "              style=\"display:none;\">\n",
              "        \n",
              "  <svg xmlns=\"http://www.w3.org/2000/svg\" height=\"24px\"viewBox=\"0 0 24 24\"\n",
              "       width=\"24px\">\n",
              "    <path d=\"M0 0h24v24H0V0z\" fill=\"none\"/>\n",
              "    <path d=\"M18.56 5.44l.94 2.06.94-2.06 2.06-.94-2.06-.94-.94-2.06-.94 2.06-2.06.94zm-11 1L8.5 8.5l.94-2.06 2.06-.94-2.06-.94L8.5 2.5l-.94 2.06-2.06.94zm10 10l.94 2.06.94-2.06 2.06-.94-2.06-.94-.94-2.06-.94 2.06-2.06.94z\"/><path d=\"M17.41 7.96l-1.37-1.37c-.4-.4-.92-.59-1.43-.59-.52 0-1.04.2-1.43.59L10.3 9.45l-7.72 7.72c-.78.78-.78 2.05 0 2.83L4 21.41c.39.39.9.59 1.41.59.51 0 1.02-.2 1.41-.59l7.78-7.78 2.81-2.81c.8-.78.8-2.07 0-2.86zM5.41 20L4 18.59l7.72-7.72 1.47 1.35L5.41 20z\"/>\n",
              "  </svg>\n",
              "      </button>\n",
              "      \n",
              "  <style>\n",
              "    .colab-df-container {\n",
              "      display:flex;\n",
              "      flex-wrap:wrap;\n",
              "      gap: 12px;\n",
              "    }\n",
              "\n",
              "    .colab-df-convert {\n",
              "      background-color: #E8F0FE;\n",
              "      border: none;\n",
              "      border-radius: 50%;\n",
              "      cursor: pointer;\n",
              "      display: none;\n",
              "      fill: #1967D2;\n",
              "      height: 32px;\n",
              "      padding: 0 0 0 0;\n",
              "      width: 32px;\n",
              "    }\n",
              "\n",
              "    .colab-df-convert:hover {\n",
              "      background-color: #E2EBFA;\n",
              "      box-shadow: 0px 1px 2px rgba(60, 64, 67, 0.3), 0px 1px 3px 1px rgba(60, 64, 67, 0.15);\n",
              "      fill: #174EA6;\n",
              "    }\n",
              "\n",
              "    [theme=dark] .colab-df-convert {\n",
              "      background-color: #3B4455;\n",
              "      fill: #D2E3FC;\n",
              "    }\n",
              "\n",
              "    [theme=dark] .colab-df-convert:hover {\n",
              "      background-color: #434B5C;\n",
              "      box-shadow: 0px 1px 3px 1px rgba(0, 0, 0, 0.15);\n",
              "      filter: drop-shadow(0px 1px 2px rgba(0, 0, 0, 0.3));\n",
              "      fill: #FFFFFF;\n",
              "    }\n",
              "  </style>\n",
              "\n",
              "      <script>\n",
              "        const buttonEl =\n",
              "          document.querySelector('#df-bf6725cc-383c-4718-8d7b-886fa8f3dbd5 button.colab-df-convert');\n",
              "        buttonEl.style.display =\n",
              "          google.colab.kernel.accessAllowed ? 'block' : 'none';\n",
              "\n",
              "        async function convertToInteractive(key) {\n",
              "          const element = document.querySelector('#df-bf6725cc-383c-4718-8d7b-886fa8f3dbd5');\n",
              "          const dataTable =\n",
              "            await google.colab.kernel.invokeFunction('convertToInteractive',\n",
              "                                                     [key], {});\n",
              "          if (!dataTable) return;\n",
              "\n",
              "          const docLinkHtml = 'Like what you see? Visit the ' +\n",
              "            '<a target=\"_blank\" href=https://colab.research.google.com/notebooks/data_table.ipynb>data table notebook</a>'\n",
              "            + ' to learn more about interactive tables.';\n",
              "          element.innerHTML = '';\n",
              "          dataTable['output_type'] = 'display_data';\n",
              "          await google.colab.output.renderOutput(dataTable, element);\n",
              "          const docLink = document.createElement('div');\n",
              "          docLink.innerHTML = docLinkHtml;\n",
              "          element.appendChild(docLink);\n",
              "        }\n",
              "      </script>\n",
              "    </div>\n",
              "  </div>\n",
              "  "
            ],
            "text/plain": [
              "     Age     Sex  Job  ... Credit_Amount Duration              Purpose\n",
              "0     67    male    2  ...          1169        6             radio/TV\n",
              "1     22  female    2  ...          5951       48             radio/TV\n",
              "2     49    male    1  ...          2096       12            education\n",
              "3     45    male    2  ...          7882       42  furniture/equipment\n",
              "4     53    male    2  ...          4870       24                  car\n",
              "..   ...     ...  ...  ...           ...      ...                  ...\n",
              "995   31  female    1  ...          1736       12  furniture/equipment\n",
              "996   40    male    3  ...          3857       30                  car\n",
              "997   38    male    2  ...           804       12             radio/TV\n",
              "998   23    male    2  ...          1845       45             radio/TV\n",
              "999   27    male    2  ...          4576       45                  car\n",
              "\n",
              "[986 rows x 9 columns]"
            ]
          },
          "metadata": {},
          "execution_count": 40
        }
      ]
    },
    {
      "cell_type": "markdown",
      "source": [
        "#Handling Skewed Data and transform to Normal Distribution using log Transformation\n"
      ],
      "metadata": {
        "id": "scSzydiAUPuZ"
      },
      "id": "scSzydiAUPuZ"
    },
    {
      "cell_type": "code",
      "source": [
        "germen_credit['Age'] = np.log(germen_credit['Age'])\n",
        "  \n",
        "# Show the dataframe\n",
        "plt.hist(germen_credit['Age'])"
      ],
      "metadata": {
        "colab": {
          "base_uri": "https://localhost:8080/",
          "height": 352
        },
        "id": "JD0EzMJbcAA7",
        "outputId": "d955fc22-174f-4d0f-bcfb-2c7f740c86b3"
      },
      "id": "JD0EzMJbcAA7",
      "execution_count": 41,
      "outputs": [
        {
          "output_type": "execute_result",
          "data": {
            "text/plain": [
              "(array([ 30., 160., 144., 149., 173., 126.,  93.,  57.,  50.,  18.]),\n",
              " array([2.94443898, 3.08174389, 3.21904881, 3.35635372, 3.49365863,\n",
              "        3.63096355, 3.76826846, 3.90557337, 4.04287829, 4.1801832 ,\n",
              "        4.31748811]),\n",
              " <a list of 10 Patch objects>)"
            ]
          },
          "metadata": {},
          "execution_count": 41
        },
        {
          "output_type": "display_data",
          "data": {
            "image/png": "[encoded data removed]",
            "text/plain": [
              "<Figure size 432x288 with 1 Axes>"
            ]
          },
          "metadata": {
            "needs_background": "light"
          }
        }
      ]
    },
    {
      "cell_type": "code",
      "source": [
        "germen_credit['Credit_Amount'] = np.log(germen_credit['Credit_Amount'])\n",
        "  \n",
        "# Show the dataframe\n",
        "plt.hist(germen_credit['Credit_Amount'])"
      ],
      "metadata": {
        "colab": {
          "base_uri": "https://localhost:8080/",
          "height": 352
        },
        "id": "aeWbIY9uOtCl",
        "outputId": "d3a609b4-739e-4684-bdbc-f54e0d7ea3e3"
      },
      "id": "aeWbIY9uOtCl",
      "execution_count": 42,
      "outputs": [
        {
          "output_type": "execute_result",
          "data": {
            "text/plain": [
              "(array([  7.,  16.,  69., 175., 198., 194., 155., 109.,  55.,  22.]),\n",
              " array([5.52146092, 5.95145577, 6.38145062, 6.81144547, 7.24144033,\n",
              "        7.67143518, 8.10143003, 8.53142488, 8.96141974, 9.39141459,\n",
              "        9.82140944]),\n",
              " <a list of 10 Patch objects>)"
            ]
          },
          "metadata": {},
          "execution_count": 42
        },
        {
          "output_type": "display_data",
          "data": {
            "image/png": "[encoded data removed]",
            "text/plain": [
              "<Figure size 432x288 with 1 Axes>"
            ]
          },
          "metadata": {
            "needs_background": "light"
          }
        }
      ]
    },
    {
      "cell_type": "code",
      "source": [
        "germen_credit['Duration'] = np.log(germen_credit['Duration'])\n",
        "  \n",
        "# Show the dataframe\n",
        "plt.hist(germen_credit['Duration'])"
      ],
      "metadata": {
        "colab": {
          "base_uri": "https://localhost:8080/",
          "height": 354
        },
        "id": "9c6TONdfR18v",
        "outputId": "2079eb96-3903-49c3-fa28-1d4aa5e9379d"
      },
      "id": "9c6TONdfR18v",
      "execution_count": 43,
      "outputs": [
        {
          "output_type": "execute_result",
          "data": {
            "text/plain": [
              "(array([  7.,  80.,  56., 216.,  74., 153., 241.,  92.,  65.,  16.]),\n",
              " array([1.38629436, 1.67533154, 1.96436871, 2.25340589, 2.54244306,\n",
              "        2.83148024, 3.12051742, 3.40955459, 3.69859177, 3.98762894,\n",
              "        4.27666612]),\n",
              " <a list of 10 Patch objects>)"
            ]
          },
          "metadata": {},
          "execution_count": 43
        },
        {
          "output_type": "display_data",
          "data": {
            "image/png": "[encoded data removed]",
            "text/plain": [
              "<Figure size 432x288 with 1 Axes>"
            ]
          },
          "metadata": {
            "needs_background": "light"
          }
        }
      ]
    },
    {
      "cell_type": "markdown",
      "source": [
        "Histogram Interpretation\n",
        "Histograms shows us the data distribution for a single continuous variable.\n",
        "\n",
        "The X-axis shows the range of values and Y-axis represent the number of values in that range. \n",
        "\n",
        "The ideal outcome for histogram is a bell curve or slightly skewed bell curve. I applied log tranformation and reomove outliers from target columns to convert right skewed data into normal distribution."
      ],
      "metadata": {
        "id": "dNENzzOUen54"
      },
      "id": "dNENzzOUen54"
    },
    {
      "cell_type": "markdown",
      "source": [
        "# 4.\tPerform exploratory data analysis and provide key insights derived from the same backed with suitable graphs and plots. Few hints to get you started;\n",
        "a.\tDistribution of numerical variables\n",
        "\n",
        "b.\tDistribution of categorical variables\n",
        "\n",
        "c.\tNumerical vs Categorical plots\n",
        "\n",
        "d.\tNumerical vs Numerical plots\n"
      ],
      "metadata": {
        "id": "OXxO3TibfWbs"
      },
      "id": "OXxO3TibfWbs"
    },
    {
      "cell_type": "code",
      "source": [
        "#Distribution of numerical variables\n",
        "fig, axes = plt.subplots(1,3, figsize=(16,8))\n",
        "plt.suptitle('Histogram of continuous variables')\n",
        "axes[0].hist(germen_credit['Duration'])\n",
        "axes[0].set_xlabel('No. of observations')\n",
        "axes[0].set_ylabel('Years')\n",
        "axes[0].set_title('Histogram of loan duration');\n",
        "\n",
        "axes[1].hist(germen_credit['Credit_Amount'])\n",
        "axes[1].set_xlabel('No. of observations')\n",
        "axes[1].set_ylabel('Credit amount')\n",
        "axes[1].set_title('Histogram of Credit amount');\n",
        "\n",
        "axes[2].hist(germen_credit['Age'])\n",
        "axes[2].set_xlabel('No. of observations')\n",
        "axes[2].set_ylabel('Age')\n",
        "axes[2].set_title('Histogram of Age');\n"
      ],
      "metadata": {
        "colab": {
          "base_uri": "https://localhost:8080/",
          "height": 552
        },
        "id": "ABhRmJdLiA_O",
        "outputId": "86571419-e32e-4cc1-f55d-fd52d225d7cb"
      },
      "id": "ABhRmJdLiA_O",
      "execution_count": 44,
      "outputs": [
        {
          "output_type": "display_data",
          "data": {
            "image/png": "[encoded data removed]",
            "text/plain": [
              "<Figure size 1152x576 with 3 Axes>"
            ]
          },
          "metadata": {
            "needs_background": "light"
          }
        }
      ]
    },
    {
      "cell_type": "markdown",
      "source": [
        "Observations\n",
        "\n",
        "At the glance of the distribution of the continues variables shows that the variables are right skewed."
      ],
      "metadata": {
        "id": "0JpdIYe_iXMo"
      },
      "id": "0JpdIYe_iXMo"
    },
    {
      "cell_type": "markdown",
      "source": [
        "# Distribution of Categorical Variable"
      ],
      "metadata": {
        "id": "w8fofXcKo7wu"
      },
      "id": "w8fofXcKo7wu"
    },
    {
      "cell_type": "code",
      "source": [
        "#To Check Frequency of job column\n",
        "fig = germen_credit[\"Job\"].hist()\n",
        "fig.text(-0.5, 400, 'Frequency', ha='center')\n",
        "fig.text(0, -100, 'UnSkilled', ha='center')\n",
        "fig.text(1, -100, 'UnSkilled Resident', ha='center')\n",
        "fig.text(2, -100, 'Skilled', ha='center')\n",
        "fig.text(3, -100, 'Highly Skilled', ha='center')"
      ],
      "metadata": {
        "colab": {
          "base_uri": "https://localhost:8080/",
          "height": 300
        },
        "id": "3NMfrEVKiKr1",
        "outputId": "3a398fbd-5d06-477e-8f16-3feef6a415e0"
      },
      "id": "3NMfrEVKiKr1",
      "execution_count": 45,
      "outputs": [
        {
          "output_type": "execute_result",
          "data": {
            "text/plain": [
              "Text(3, -100, 'Highly Skilled')"
            ]
          },
          "metadata": {},
          "execution_count": 45
        },
        {
          "output_type": "display_data",
          "data": {
            "image/png": "[encoded data removed]",
            "text/plain": [
              "<Figure size 432x288 with 1 Axes>"
            ]
          },
          "metadata": {
            "needs_background": "light"
          }
        }
      ]
    },
    {
      "cell_type": "markdown",
      "source": [
        "Observations:\n",
        "The frequency of skilled job holders is higher upto 650.\n",
        "Unskilled Resident frequency is 200 and Highly skilled job holder frequencyis 150."
      ],
      "metadata": {
        "id": "MWhdgz8RiwnG"
      },
      "id": "MWhdgz8RiwnG"
    },
    {
      "cell_type": "code",
      "source": [
        "germen_credit[\"Housing\"].unique()"
      ],
      "metadata": {
        "colab": {
          "base_uri": "https://localhost:8080/"
        },
        "id": "IEvFiybAjbWc",
        "outputId": "92b66e7d-2bea-4cc9-bc74-213bb8757d63"
      },
      "id": "IEvFiybAjbWc",
      "execution_count": 46,
      "outputs": [
        {
          "output_type": "execute_result",
          "data": {
            "text/plain": [
              "array(['own', 'free', 'rent'], dtype=object)"
            ]
          },
          "metadata": {},
          "execution_count": 46
        }
      ]
    },
    {
      "cell_type": "code",
      "source": [
        "#To Check Frequency distribution of Housing column\n",
        "fig = germen_credit[\"Housing\"].hist()\n",
        "fig.text(-0.5, 400, 'Frequency', ha='center')\n",
        "fig.text(0, -100, 'own', ha='center')\n",
        "fig.text(1, -100, 'free', ha='center')\n",
        "fig.text(2, -100, 'rent', ha='center')\n"
      ],
      "metadata": {
        "colab": {
          "base_uri": "https://localhost:8080/",
          "height": 296
        },
        "id": "a5wdHdEWin3M",
        "outputId": "97cfc0ce-43e4-47e9-edae-815d7b5bb167"
      },
      "id": "a5wdHdEWin3M",
      "execution_count": 47,
      "outputs": [
        {
          "output_type": "execute_result",
          "data": {
            "text/plain": [
              "Text(2, -100, 'rent')"
            ]
          },
          "metadata": {},
          "execution_count": 47
        },
        {
          "output_type": "display_data",
          "data": {
            "image/png": "[encoded data removed]",
            "text/plain": [
              "<Figure size 432x288 with 1 Axes>"
            ]
          },
          "metadata": {
            "needs_background": "light"
          }
        }
      ]
    },
    {
      "cell_type": "markdown",
      "source": [
        "Observations: The frequency of housing holders for own is more than 700. living in rent houses are around 200 and free house holder frequency is 100."
      ],
      "metadata": {
        "id": "mrf5iziEkBgk"
      },
      "id": "mrf5iziEkBgk"
    },
    {
      "cell_type": "code",
      "source": [
        "#To check purpose frequency  count  \n",
        "chart=sns.countplot(x='Purpose',data=germen_credit)\n",
        "chart.set_xticklabels(chart.get_xticklabels(), rotation=90)"
      ],
      "metadata": {
        "colab": {
          "base_uri": "https://localhost:8080/",
          "height": 512
        },
        "id": "YcsqHxVri7ai",
        "outputId": "172a8ec4-9c13-4d6e-99de-3114b2c4382b"
      },
      "id": "YcsqHxVri7ai",
      "execution_count": 48,
      "outputs": [
        {
          "output_type": "execute_result",
          "data": {
            "text/plain": [
              "[Text(0, 0, 'radio/TV'),\n",
              " Text(0, 0, 'education'),\n",
              " Text(0, 0, 'furniture/equipment'),\n",
              " Text(0, 0, 'car'),\n",
              " Text(0, 0, 'business'),\n",
              " Text(0, 0, 'domestic appliances'),\n",
              " Text(0, 0, 'repairs'),\n",
              " Text(0, 0, 'vacation/others')]"
            ]
          },
          "metadata": {},
          "execution_count": 48
        },
        {
          "output_type": "display_data",
          "data": {
            "image/png": "[encoded data removed]",
            "text/plain": [
              "<Figure size 432x288 with 1 Axes>"
            ]
          },
          "metadata": {
            "needs_background": "light"
          }
        }
      ]
    },
    {
      "cell_type": "markdown",
      "source": [
        "Observations: \n",
        "The frequency count of purpose of loan takers is highly for purchasing car ,radio/TV and furniture equipments."
      ],
      "metadata": {
        "id": "JLFbI-BVnLZp"
      },
      "id": "JLFbI-BVnLZp"
    },
    {
      "cell_type": "code",
      "source": [
        "germen_credit.columns"
      ],
      "metadata": {
        "colab": {
          "base_uri": "https://localhost:8080/"
        },
        "id": "CmGF3mYRlL_z",
        "outputId": "6d44d97a-68a5-43a5-dc30-e6a9d36fb15b"
      },
      "id": "CmGF3mYRlL_z",
      "execution_count": 49,
      "outputs": [
        {
          "output_type": "execute_result",
          "data": {
            "text/plain": [
              "Index(['Age', 'Sex', 'Job', 'Housing', 'Saving_Accounts', 'Checking_Account',\n",
              "       'Credit_Amount', 'Duration', 'Purpose'],\n",
              "      dtype='object')"
            ]
          },
          "metadata": {},
          "execution_count": 49
        }
      ]
    },
    {
      "cell_type": "markdown",
      "source": [
        "#\tNumerical vs Categorical plots"
      ],
      "metadata": {
        "id": "WV3tDE5Nupvj"
      },
      "id": "WV3tDE5Nupvj"
    },
    {
      "cell_type": "code",
      "source": [
        "#Purpose Vs Credit Amount Cross tabulation\n",
        "PVsC =germen_credit.loc[:,['Purpose','Credit_Amount']]\n",
        "fig = px.box(PVsC, x=\"Purpose\", y=\"Credit_Amount\", color=\"Purpose\")\n",
        "#fig.update_traces(quartilemethod=\"exclusive\") # or \"inclusive\", or \"linear\" by default\n",
        "fig.update_layout(\n",
        "    title={\n",
        "          'text':\"Purpose Vs Credit Amount Cross tabulation\",\n",
        "        'y':.95,\n",
        "        'x':.5,\n",
        "        'xanchor': 'center',\n",
        "        'yanchor': 'top'\n",
        "    },\n",
        "    xaxis_title=\"Purpose\",\n",
        "    yaxis_title=\"Credit amount\",\n",
        "   \n",
        ")\n",
        "fig.show()"
      ],
      "metadata": {
        "colab": {
          "base_uri": "https://localhost:8080/",
          "height": 542
        },
        "id": "oD2oFsRGnyhj",
        "outputId": "9c1b0135-e982-42e0-efb7-083472ca5149"
      },
      "id": "oD2oFsRGnyhj",
      "execution_count": 50,
      "outputs": [
        {
          "output_type": "display_data",
          "data": {
            "text/html": [
              "<html>\n",
              "<head><meta charset=\"utf-8\" /></head>\n",
              "<body>\n",
              "    <div>\n",
              "            <script src=\"https://cdnjs.cloudflare.com/ajax/libs/mathjax/2.7.5/MathJax.js?config=TeX-AMS-MML_SVG\"></script><script type=\"text/javascript\">if (window.MathJax) {MathJax.Hub.Config({SVG: {font: \"STIX-Web\"}});}</script>\n",
              "                <script type=\"text/javascript\">window.PlotlyConfig = {MathJaxConfig: 'local'};</script>\n",
              "        <script src=\"https://cdn.plot.ly/plotly-latest.min.js\"></script>    \n",
              "            <div id=\"23a58874-e8f6-4b83-b198-c82b8ab4d0ec\" class=\"plotly-graph-div\" style=\"height:525px; width:100%;\"></div>\n",
              "            <script type=\"text/javascript\">\n",
              "                \n",
              "                    window.PLOTLYENV=window.PLOTLYENV || {};\n",
              "                    \n",
              "                if (document.getElementById(\"23a58874-e8f6-4b83-b198-c82b8ab4d0ec\")) {\n",
              "                    Plotly.newPlot(\n",
              "                        '23a58874-e8f6-4b83-b198-c82b8ab4d0ec',\n",
              "                        [{\"alignmentgroup\": \"True\", \"hoverlabel\": {\"namelength\": 0}, \"hovertemplate\": \"Purpose=%{x}<br>Credit_Amount=%{y}\", \"legendgroup\": \"Purpose=radio/TV\", \"marker\": {\"color\": \"#636efa\"}, \"name\": \"Purpose=radio/TV\", \"notched\": false, \"offsetgroup\": \"Purpose=radio/TV\", \"orientation\": \"v\", \"showlegend\": true, \"type\": \"box\", \"x\": [\"radio/TV\", \"radio/TV\", \"radio/TV\", \"radio/TV\", \"radio/TV\", \"radio/TV\", \"radio/TV\", \"radio/TV\", \"radio/TV\", \"radio/TV\", \"radio/TV\", \"radio/TV\", \"radio/TV\", \"radio/TV\", \"radio/TV\", \"radio/TV\", \"radio/TV\", \"radio/TV\", \"radio/TV\", \"radio/TV\", \"radio/TV\", \"radio/TV\", \"radio/TV\", \"radio/TV\", \"radio/TV\", \"radio/TV\", \"radio/TV\", \"radio/TV\", \"radio/TV\", \"radio/TV\", \"radio/TV\", \"radio/TV\", \"radio/TV\", \"radio/TV\", \"radio/TV\", \"radio/TV\", \"radio/TV\", \"radio/TV\", \"radio/TV\", \"radio/TV\", \"radio/TV\", \"radio/TV\", \"radio/TV\", \"radio/TV\", \"radio/TV\", \"radio/TV\", \"radio/TV\", \"radio/TV\", \"radio/TV\", \"radio/TV\", \"radio/TV\", \"radio/TV\", \"radio/TV\", \"radio/TV\", \"radio/TV\", \"radio/TV\", \"radio/TV\", \"radio/TV\", \"radio/TV\", \"radio/TV\", \"radio/TV\", \"radio/TV\", \"radio/TV\", \"radio/TV\", \"radio/TV\", \"radio/TV\", \"radio/TV\", \"radio/TV\", \"radio/TV\", \"radio/TV\", \"radio/TV\", \"radio/TV\", \"radio/TV\", \"radio/TV\", \"radio/TV\", \"radio/TV\", \"radio/TV\", \"radio/TV\", \"radio/TV\", \"radio/TV\", \"radio/TV\", \"radio/TV\", \"radio/TV\", \"radio/TV\", \"radio/TV\", \"radio/TV\", \"radio/TV\", \"radio/TV\", \"radio/TV\", \"radio/TV\", \"radio/TV\", \"radio/TV\", \"radio/TV\", \"radio/TV\", \"radio/TV\", \"radio/TV\", \"radio/TV\", \"radio/TV\", \"radio/TV\", \"radio/TV\", \"radio/TV\", \"radio/TV\", \"radio/TV\", \"radio/TV\", \"radio/TV\", \"radio/TV\", \"radio/TV\", \"radio/TV\", \"radio/TV\", \"radio/TV\", \"radio/TV\", \"radio/TV\", \"radio/TV\", \"radio/TV\", \"radio/TV\", \"radio/TV\", \"radio/TV\", \"radio/TV\", \"radio/TV\", \"radio/TV\", \"radio/TV\", \"radio/TV\", \"radio/TV\", \"radio/TV\", \"radio/TV\", \"radio/TV\", \"radio/TV\", \"radio/TV\", \"radio/TV\", \"radio/TV\", \"radio/TV\", \"radio/TV\", \"radio/TV\", \"radio/TV\", \"radio/TV\", \"radio/TV\", \"radio/TV\", \"radio/TV\", \"radio/TV\", \"radio/TV\", \"radio/TV\", \"radio/TV\", \"radio/TV\", \"radio/TV\", \"radio/TV\", \"radio/TV\", \"radio/TV\", \"radio/TV\", \"radio/TV\", \"radio/TV\", \"radio/TV\", \"radio/TV\", \"radio/TV\", \"radio/TV\", \"radio/TV\", \"radio/TV\", \"radio/TV\", \"radio/TV\", \"radio/TV\", \"radio/TV\", \"radio/TV\", \"radio/TV\", \"radio/TV\", \"radio/TV\", \"radio/TV\", \"radio/TV\", \"radio/TV\", \"radio/TV\", \"radio/TV\", \"radio/TV\", \"radio/TV\", \"radio/TV\", \"radio/TV\", \"radio/TV\", \"radio/TV\", \"radio/TV\", \"radio/TV\", \"radio/TV\", \"radio/TV\", \"radio/TV\", \"radio/TV\", \"radio/TV\", \"radio/TV\", \"radio/TV\", \"radio/TV\", \"radio/TV\", \"radio/TV\", \"radio/TV\", \"radio/TV\", \"radio/TV\", \"radio/TV\", \"radio/TV\", \"radio/TV\", \"radio/TV\", \"radio/TV\", \"radio/TV\", \"radio/TV\", \"radio/TV\", \"radio/TV\", \"radio/TV\", \"radio/TV\", \"radio/TV\", \"radio/TV\", \"radio/TV\", \"radio/TV\", \"radio/TV\", \"radio/TV\", \"radio/TV\", \"radio/TV\", \"radio/TV\", \"radio/TV\", \"radio/TV\", \"radio/TV\", \"radio/TV\", \"radio/TV\", \"radio/TV\", \"radio/TV\", \"radio/TV\", \"radio/TV\", \"radio/TV\", \"radio/TV\", \"radio/TV\", \"radio/TV\", \"radio/TV\", \"radio/TV\", \"radio/TV\", \"radio/TV\", \"radio/TV\", \"radio/TV\", \"radio/TV\", \"radio/TV\", \"radio/TV\", \"radio/TV\", \"radio/TV\", \"radio/TV\", \"radio/TV\", \"radio/TV\", \"radio/TV\", \"radio/TV\", \"radio/TV\", \"radio/TV\", \"radio/TV\", \"radio/TV\", \"radio/TV\", \"radio/TV\", \"radio/TV\", \"radio/TV\", \"radio/TV\", \"radio/TV\", \"radio/TV\", \"radio/TV\", \"radio/TV\", \"radio/TV\", \"radio/TV\", \"radio/TV\", \"radio/TV\", \"radio/TV\", \"radio/TV\", \"radio/TV\", \"radio/TV\", \"radio/TV\", \"radio/TV\", \"radio/TV\", \"radio/TV\", \"radio/TV\", \"radio/TV\", \"radio/TV\", \"radio/TV\", \"radio/TV\", \"radio/TV\", \"radio/TV\", \"radio/TV\", \"radio/TV\", \"radio/TV\", \"radio/TV\", \"radio/TV\", \"radio/TV\", \"radio/TV\", \"radio/TV\", \"radio/TV\"], \"x0\": \" \", \"xaxis\": \"x\", \"y\": [7.063903961472068, 8.691314551644853, 8.025843344150903, 7.356918242356021, 7.156176637480615, 7.793174347189205, 8.140315540159985, 7.881182202227102, 6.054439346269371, 6.013715156042802, 7.789454566086673, 8.465057436995709, 7.649692623711514, 6.126869184114185, 7.75491027202143, 7.05444965813294, 7.740229524763182, 7.636752112435779, 7.140453043101158, 8.774622220696997, 9.165970424240243, 7.337587743538596, 8.064950891749143, 7.682943169878292, 7.780720886117918, 6.593044534142437, 8.285261134068948, 8.470311205516108, 8.68996933536666, 7.10085190894405, 7.747164966520335, 6.42648845745769, 6.680854678790215, 7.756623334538858, 7.750614732770409, 6.837332814685591, 7.426549072397305, 8.182559264068665, 8.878218658092228, 7.51479976048867, 6.55250788703459, 9.224637676677007, 7.122866658599083, 6.641182169740591, 7.911324018963353, 7.53955882930103, 8.475328987317539, 8.13622555490846, 7.366445148327599, 7.204892510204673, 7.562161631225652, 8.673855001429615, 7.5485559791698735, 7.962763930168115, 7.254177846456518, 5.823045895483019, 7.5822291942764615, 7.215239978730097, 6.513230110912307, 7.653494909661253, 8.016647877057803, 7.231287004327616, 8.03073492409854, 8.251924713801357, 8.114324709155339, 8.272059622210412, 6.437751649736401, 6.561030665896573, 9.302098797215724, 7.298445101508147, 8.345217926676428, 7.669028288589683, 6.763884908562435, 7.342131730584722, 7.508238774678663, 7.1631723908466425, 7.8328075165248645, 7.374629015218945, 6.57507584059962, 6.07073772800249, 8.911664758049536, 7.895063498091573, 7.67275789664251, 7.050989447068045, 7.3796321526095525, 6.687108607866515, 7.334981878871814, 6.906754778648554, 8.026170194946426, 7.89989532313973, 7.784889295655098, 7.550135342488429, 7.275864600546533, 6.9957661563048505, 6.931471805599453, 8.24380842366528, 6.588926477533519, 7.569411792450712, 8.405814603432848, 6.97354301952014, 7.650168700845001, 8.074960359115858, 7.285506548522785, 6.782192056006791, 8.231642179973411, 8.73214326770192, 7.754052639035757, 8.40357646462927, 6.654152520183219, 8.131236549696116, 8.711113884053544, 7.749322464660356, 6.740519359606223, 7.71333788887187, 7.026426808699636, 7.579167967396076, 7.323830566202317, 7.29505641646263, 7.620214770574455, 6.959398512133975, 8.081784206935001, 7.584264818389059, 7.916807490937603, 7.046647277848756, 7.302496423727326, 7.853993087224244, 6.249975242259483, 8.432506383249043, 7.413970290190444, 8.887100204123687, 8.036573409707312, 7.126890808898808, 8.54714026778419, 8.181160858023409, 8.031710375322042, 7.56734567601324, 7.1204443723924875, 5.908082938168931, 7.170888478512505, 7.026426808699636, 7.103322062526113, 7.253470382684528, 6.371611847231857, 6.551080335043404, 8.06777619577889, 7.014814351275545, 7.315218389752975, 7.741533589281828, 7.1785454837637, 8.040768994367578, 7.335633981927201, 7.347299700743164, 6.439350371100098, 7.4673710669175595, 8.85352256068954, 7.193685818395112, 7.343426229147367, 6.52649485957079, 7.347943823148687, 7.8547691834991324, 8.288785810426928, 8.818482267274236, 8.691818541575723, 6.9865664594064265, 7.982757702011113, 5.953243334287785, 7.753194269884341, 7.890208213109961, 7.62608275807238, 8.118802996980035, 9.122273893107732, 7.8632667240095735, 7.590346945602565, 8.205218426395412, 7.275172319452771, 7.226936018493289, 9.658417870888224, 7.30854279753919, 8.382518288089635, 7.523481312573497, 7.539027055823995, 9.232297539328226, 7.167809184316444, 8.012018239159062, 8.41847721847708, 8.629628620746026, 7.776535028185241, 7.2813856635702825, 7.731492029245684, 7.298445101508147, 8.537583881063972, 7.205635176410364, 7.920446505142607, 7.971085753505607, 7.7336835707759, 7.005789019253503, 7.495541943884256, 7.227662498728654, 7.095064377287131, 7.658227526161352, 6.444131256700441, 7.037027614686276, 8.031710375322042, 7.316548177182976, 8.054522609537294, 7.198183577101943, 6.672032945461067, 7.182352111885263, 7.540090320145325, 8.764521909518802, 7.594381242551817, 6.633318433280377, 6.954638864880987, 8.058327306580958, 8.660600654710967, 7.147559271189454, 7.7025561132685825, 7.051855622955894, 7.411556287811163, 7.706612913964197, 8.163086375583216, 8.503702601233739, 7.891704659330107, 7.492760300922379, 6.883462586413092, 6.380122536899765, 6.835184586147301, 6.182084906716632, 7.348587530927593, 7.20414929203594, 8.011686729127847, 8.533853632309345, 7.752335163302292, 6.786716950605081, 7.8674885686991285, 7.218176838403408, 6.5638555265321274, 7.293697720601438, 7.79934339821592, 7.77863014732581, 7.570443252057374, 8.187299270155147, 8.816111895794005, 7.001245622069476, 7.511524648390866, 7.063903961472068, 7.8655717576847906, 7.234177179749849, 7.15305163493748, 7.009408932708637, 8.401557847817314, 8.003363058629947, 9.453208116138121, 7.2196420401307355, 7.532088143541722, 7.4205789054108005, 6.257667587882639, 7.311886164077165, 7.5595594960077, 6.61338421837956, 7.631916513071252, 8.19450550976564, 7.115582126184454, 8.204124932574041, 7.050989447068045, 7.461640392208575, 7.781973234434385, 7.44716835960004, 7.832014180505469, 8.1797604936999, 8.8771028978649, 7.9483852851118995, 7.1372784372603855, 6.6240652277998935, 7.25063551189868, 7.463363045520021, 7.358193752733032, 7.568379267836522, 6.6895992691789665, 7.520234556474628], \"y0\": \" \", \"yaxis\": \"y\"}, {\"alignmentgroup\": \"True\", \"hoverlabel\": {\"namelength\": 0}, \"hovertemplate\": \"Purpose=%{x}<br>Credit_Amount=%{y}\", \"legendgroup\": \"Purpose=education\", \"marker\": {\"color\": \"#EF553B\"}, \"name\": \"Purpose=education\", \"notched\": false, \"offsetgroup\": \"Purpose=education\", \"orientation\": \"v\", \"showlegend\": true, \"type\": \"box\", \"x\": [\"education\", \"education\", \"education\", \"education\", \"education\", \"education\", \"education\", \"education\", \"education\", \"education\", \"education\", \"education\", \"education\", \"education\", \"education\", \"education\", \"education\", \"education\", \"education\", \"education\", \"education\", \"education\", \"education\", \"education\", \"education\", \"education\", \"education\", \"education\", \"education\", \"education\", \"education\", \"education\", \"education\", \"education\", \"education\", \"education\", \"education\", \"education\", \"education\", \"education\", \"education\", \"education\", \"education\", \"education\", \"education\", \"education\", \"education\", \"education\", \"education\", \"education\", \"education\", \"education\", \"education\", \"education\", \"education\", \"education\", \"education\", \"education\", \"education\"], \"x0\": \" \", \"xaxis\": \"x\", \"y\": [7.647786045440933, 9.111072370317514, 8.71768205216564, 7.506042178518122, 7.589335823170617, 9.442404020664952, 7.60688453121963, 5.971261839790462, 8.837390855544697, 5.82600010738045, 8.135639903354386, 7.313886831633462, 6.841615476477592, 6.804614520062624, 6.837332814685591, 7.090076835776092, 8.145259566516865, 7.91862865334224, 6.55250788703459, 7.530479995245536, 8.655737000864297, 7.035268599281097, 6.588926477533519, 7.122059881629142, 9.372459221452617, 9.044403844431551, 6.577861357721047, 7.126087273299125, 6.625392368007956, 6.104793232414985, 7.121252453244542, 7.3343293503005365, 7.728855823852543, 7.7488913372555315, 7.089243155027514, 7.563719668414366, 6.842683282238422, 7.515889085215125, 8.251142139090751, 7.239214973779806, 6.620073206530356, 8.438799123988225, 6.52795791762255, 8.919453168575453, 6.953684210870537, 7.338238150065589, 7.552237287560802, 7.088408778675395, 6.07073772800249, 8.99528899055931, 7.251344983372214, 8.736168065858228, 8.699181359308954, 7.3758821482150125, 6.795705775173514, 6.678342114654332, 8.219056661060598, 8.746398334109042, 8.178919332848396], \"y0\": \" \", \"yaxis\": \"y\"}, {\"alignmentgroup\": \"True\", \"hoverlabel\": {\"namelength\": 0}, \"hovertemplate\": \"Purpose=%{x}<br>Credit_Amount=%{y}\", \"legendgroup\": \"Purpose=furniture/equipment\", \"marker\": {\"color\": \"#00cc96\"}, \"name\": \"Purpose=furniture/equipment\", \"notched\": false, \"offsetgroup\": \"Purpose=furniture/equipment\", \"orientation\": \"v\", \"showlegend\": true, \"type\": \"box\", \"x\": [\"furniture/equipment\", \"furniture/equipment\", \"furniture/equipment\", \"furniture/equipment\", \"furniture/equipment\", \"furniture/equipment\", \"furniture/equipment\", \"furniture/equipment\", \"furniture/equipment\", \"furniture/equipment\", \"furniture/equipment\", \"furniture/equipment\", \"furniture/equipment\", \"furniture/equipment\", \"furniture/equipment\", \"furniture/equipment\", \"furniture/equipment\", \"furniture/equipment\", \"furniture/equipment\", \"furniture/equipment\", \"furniture/equipment\", \"furniture/equipment\", \"furniture/equipment\", \"furniture/equipment\", \"furniture/equipment\", \"furniture/equipment\", \"furniture/equipment\", \"furniture/equipment\", \"furniture/equipment\", \"furniture/equipment\", \"furniture/equipment\", \"furniture/equipment\", \"furniture/equipment\", \"furniture/equipment\", \"furniture/equipment\", \"furniture/equipment\", \"furniture/equipment\", \"furniture/equipment\", \"furniture/equipment\", \"furniture/equipment\", \"furniture/equipment\", \"furniture/equipment\", \"furniture/equipment\", \"furniture/equipment\", \"furniture/equipment\", \"furniture/equipment\", \"furniture/equipment\", \"furniture/equipment\", \"furniture/equipment\", \"furniture/equipment\", \"furniture/equipment\", \"furniture/equipment\", \"furniture/equipment\", \"furniture/equipment\", \"furniture/equipment\", \"furniture/equipment\", \"furniture/equipment\", \"furniture/equipment\", \"furniture/equipment\", \"furniture/equipment\", \"furniture/equipment\", \"furniture/equipment\", \"furniture/equipment\", \"furniture/equipment\", \"furniture/equipment\", \"furniture/equipment\", \"furniture/equipment\", \"furniture/equipment\", \"furniture/equipment\", \"furniture/equipment\", \"furniture/equipment\", \"furniture/equipment\", \"furniture/equipment\", \"furniture/equipment\", \"furniture/equipment\", \"furniture/equipment\", \"furniture/equipment\", \"furniture/equipment\", \"furniture/equipment\", \"furniture/equipment\", \"furniture/equipment\", \"furniture/equipment\", \"furniture/equipment\", \"furniture/equipment\", \"furniture/equipment\", \"furniture/equipment\", \"furniture/equipment\", \"furniture/equipment\", \"furniture/equipment\", \"furniture/equipment\", \"furniture/equipment\", \"furniture/equipment\", \"furniture/equipment\", \"furniture/equipment\", \"furniture/equipment\", \"furniture/equipment\", \"furniture/equipment\", \"furniture/equipment\", \"furniture/equipment\", \"furniture/equipment\", \"furniture/equipment\", \"furniture/equipment\", \"furniture/equipment\", \"furniture/equipment\", \"furniture/equipment\", \"furniture/equipment\", \"furniture/equipment\", \"furniture/equipment\", \"furniture/equipment\", \"furniture/equipment\", \"furniture/equipment\", \"furniture/equipment\", \"furniture/equipment\", \"furniture/equipment\", \"furniture/equipment\", \"furniture/equipment\", \"furniture/equipment\", \"furniture/equipment\", \"furniture/equipment\", \"furniture/equipment\", \"furniture/equipment\", \"furniture/equipment\", \"furniture/equipment\", \"furniture/equipment\", \"furniture/equipment\", \"furniture/equipment\", \"furniture/equipment\", \"furniture/equipment\", \"furniture/equipment\", \"furniture/equipment\", \"furniture/equipment\", \"furniture/equipment\", \"furniture/equipment\", \"furniture/equipment\", \"furniture/equipment\", \"furniture/equipment\", \"furniture/equipment\", \"furniture/equipment\", \"furniture/equipment\", \"furniture/equipment\", \"furniture/equipment\", \"furniture/equipment\", \"furniture/equipment\", \"furniture/equipment\", \"furniture/equipment\", \"furniture/equipment\", \"furniture/equipment\", \"furniture/equipment\", \"furniture/equipment\", \"furniture/equipment\", \"furniture/equipment\", \"furniture/equipment\", \"furniture/equipment\", \"furniture/equipment\", \"furniture/equipment\", \"furniture/equipment\", \"furniture/equipment\", \"furniture/equipment\", \"furniture/equipment\", \"furniture/equipment\", \"furniture/equipment\", \"furniture/equipment\", \"furniture/equipment\", \"furniture/equipment\", \"furniture/equipment\", \"furniture/equipment\", \"furniture/equipment\", \"furniture/equipment\", \"furniture/equipment\", \"furniture/equipment\", \"furniture/equipment\", \"furniture/equipment\", \"furniture/equipment\", \"furniture/equipment\", \"furniture/equipment\", \"furniture/equipment\", \"furniture/equipment\", \"furniture/equipment\", \"furniture/equipment\", \"furniture/equipment\", \"furniture/equipment\"], \"x0\": \" \", \"xaxis\": \"x\", \"y\": [8.97233695775495, 7.949797216161852, 7.634820677745543, 7.2254814727822945, 8.299037181613066, 7.295735072749282, 7.75491027202143, 8.736971085254146, 8.251142139090751, 7.166265974133638, 8.193400231952097, 7.5595594960077, 8.951699168308815, 7.664815785285735, 8.361941906144946, 7.477604243197589, 7.562161631225652, 7.903965634032166, 7.592870287844818, 7.808729306744399, 7.7354333524996886, 8.58876938990546, 7.156176637480615, 7.999007213243955, 7.030857476116121, 7.3632795869630385, 8.287025025165063, 6.637258031284457, 7.6324011266014535, 7.854381210652365, 8.236685322712457, 8.084562415235304, 6.85751406254539, 8.365672383774996, 7.5678626054638825, 8.013343181386672, 8.970177815492379, 8.054840221101024, 7.562681246721884, 7.719129840906732, 8.33110454805304, 7.615791072035833, 7.4127640174265625, 7.2456550675945355, 7.140453043101158, 8.436200032206706, 7.3613754289773485, 7.326465613840322, 9.206332350578643, 7.83002808253384, 7.917536353943631, 7.341483852363161, 7.1204443723924875, 8.614501373883236, 8.229244416735913, 7.917900586327916, 6.56244409369372, 8.37816098272068, 8.200562797008564, 7.88570539124302, 8.665785595466064, 8.32117830749028, 8.126813720726114, 8.335431477880796, 7.327123292259293, 8.188411308079031, 6.8658910748834385, 7.785720896534624, 7.476472381163905, 7.813187267521416, 8.202482446576537, 8.144969417087875, 8.006700845440367, 7.671360923190644, 7.701652362642226, 8.90571557879409, 6.890609120147166, 7.785720896534624, 7.8547691834991324, 7.761319180947987, 7.372118028337787, 7.923710333969238, 7.180069874302796, 7.534762657037537, 7.666690200080086, 7.3901814282264295, 8.536211197252, 7.261225091971921, 7.922623574217286, 8.194229304819817, 8.012018239159062, 8.043663352393944, 7.298445101508147, 8.19478163844336, 6.866933284461882, 8.005033344637111, 9.108750516214549, 7.368339686311381, 8.871645667501872, 8.870522545103873, 8.192016914536875, 8.022568946988255, 8.756210091886738, 7.9599745280805365, 8.17526610411206, 7.564238475170491, 8.081475040137052, 7.933079771880415, 7.23561914106675, 7.620214770574455, 7.161622002939187, 7.716906135298388, 6.822197390620491, 8.116417072794205, 7.150701457592526, 7.947325027016463, 7.4999765409521215, 8.14351740579748, 7.527255919373784, 7.65728279297819, 8.304494897963567, 7.347943823148687, 7.590852123688581, 8.430109084509125, 7.561121589530238, 8.757940876678804, 7.714677473800927, 6.956545443151569, 8.159374736775426, 8.546751993657782, 6.882437470997847, 7.023758954738443, 7.99598047476376, 7.817222785508166, 9.559517275737559, 6.059123195581797, 7.66105638236183, 8.041734711487537, 8.193400231952097, 7.107425474110705, 7.969703583278656, 8.026823576217629, 7.741099090035366, 7.1372784372603855, 8.35983738064003, 7.905441649060286, 8.237479288613633, 6.398594934535208, 8.552367266423891, 8.137980454452139, 8.288031567776464, 8.114623886420098, 8.417593826193484, 7.700747794511798, 7.7057128238944275, 8.11102783819368, 6.480044561926653, 8.946114375560743, 8.185907481482324, 8.308199063206446, 7.3727463664043285, 7.689828668736484, 8.331586243630754, 8.462948176563842, 7.765993079407675, 8.11522197256233, 7.504942068396171, 8.835210463664092, 6.955592608396297, 7.465655310134056, 6.834108738813838, 7.520234556474628, 8.116417072794205, 7.334981878871814, 9.30328411761892, 8.029107054619736, 9.034318927730707, 7.614805364711073, 7.267525427828172, 8.28374674710613, 7.459338895220296], \"y0\": \" \", \"yaxis\": \"y\"}, {\"alignmentgroup\": \"True\", \"hoverlabel\": {\"namelength\": 0}, \"hovertemplate\": \"Purpose=%{x}<br>Credit_Amount=%{y}\", \"legendgroup\": \"Purpose=car\", \"marker\": {\"color\": \"#ab63fa\"}, \"name\": \"Purpose=car\", \"notched\": false, \"offsetgroup\": \"Purpose=car\", \"orientation\": \"v\", \"showlegend\": true, \"type\": \"box\", \"x\": [\"car\", \"car\", \"car\", \"car\", \"car\", \"car\", \"car\", \"car\", \"car\", \"car\", \"car\", \"car\", \"car\", \"car\", \"car\", \"car\", \"car\", \"car\", \"car\", \"car\", \"car\", \"car\", \"car\", \"car\", \"car\", \"car\", \"car\", \"car\", \"car\", \"car\", \"car\", \"car\", \"car\", \"car\", \"car\", \"car\", \"car\", \"car\", \"car\", \"car\", \"car\", \"car\", \"car\", \"car\", \"car\", \"car\", \"car\", \"car\", \"car\", \"car\", \"car\", \"car\", \"car\", \"car\", \"car\", \"car\", \"car\", \"car\", \"car\", \"car\", \"car\", \"car\", \"car\", \"car\", \"car\", \"car\", \"car\", \"car\", \"car\", \"car\", \"car\", \"car\", \"car\", \"car\", \"car\", \"car\", \"car\", \"car\", \"car\", \"car\", \"car\", \"car\", \"car\", \"car\", \"car\", \"car\", \"car\", \"car\", \"car\", \"car\", \"car\", \"car\", \"car\", \"car\", \"car\", \"car\", \"car\", \"car\", \"car\", \"car\", \"car\", \"car\", \"car\", \"car\", \"car\", \"car\", \"car\", \"car\", \"car\", \"car\", \"car\", \"car\", \"car\", \"car\", \"car\", \"car\", \"car\", \"car\", \"car\", \"car\", \"car\", \"car\", \"car\", \"car\", \"car\", \"car\", \"car\", \"car\", \"car\", \"car\", \"car\", \"car\", \"car\", \"car\", \"car\", \"car\", \"car\", \"car\", \"car\", \"car\", \"car\", \"car\", \"car\", \"car\", \"car\", \"car\", \"car\", \"car\", \"car\", \"car\", \"car\", \"car\", \"car\", \"car\", \"car\", \"car\", \"car\", \"car\", \"car\", \"car\", \"car\", \"car\", \"car\", \"car\", \"car\", \"car\", \"car\", \"car\", \"car\", \"car\", \"car\", \"car\", \"car\", \"car\", \"car\", \"car\", \"car\", \"car\", \"car\", \"car\", \"car\", \"car\", \"car\", \"car\", \"car\", \"car\", \"car\", \"car\", \"car\", \"car\", \"car\", \"car\", \"car\", \"car\", \"car\", \"car\", \"car\", \"car\", \"car\", \"car\", \"car\", \"car\", \"car\", \"car\", \"car\", \"car\", \"car\", \"car\", \"car\", \"car\", \"car\", \"car\", \"car\", \"car\", \"car\", \"car\", \"car\", \"car\", \"car\", \"car\", \"car\", \"car\", \"car\", \"car\", \"car\", \"car\", \"car\", \"car\", \"car\", \"car\", \"car\", \"car\", \"car\", \"car\", \"car\", \"car\", \"car\", \"car\", \"car\", \"car\", \"car\", \"car\", \"car\", \"car\", \"car\", \"car\", \"car\", \"car\", \"car\", \"car\", \"car\", \"car\", \"car\", \"car\", \"car\", \"car\", \"car\", \"car\", \"car\", \"car\", \"car\", \"car\", \"car\", \"car\", \"car\", \"car\", \"car\", \"car\", \"car\", \"car\", \"car\", \"car\", \"car\", \"car\", \"car\", \"car\", \"car\", \"car\", \"car\", \"car\", \"car\", \"car\", \"car\", \"car\", \"car\", \"car\", \"car\", \"car\", \"car\", \"car\", \"car\", \"car\", \"car\", \"car\", \"car\", \"car\", \"car\", \"car\", \"car\", \"car\", \"car\", \"car\", \"car\", \"car\", \"car\", \"car\", \"car\", \"car\", \"car\", \"car\", \"car\", \"car\", \"car\", \"car\", \"car\", \"car\", \"car\", \"car\", \"car\", \"car\", \"car\", \"car\", \"car\", \"car\", \"car\", \"car\", \"car\", \"car\", \"car\", \"car\", \"car\", \"car\", \"car\", \"car\", \"car\", \"car\", \"car\"], \"x0\": \" \", \"xaxis\": \"x\", \"y\": [8.490849216076635, 8.846209127360996, 8.562931083090092, 7.166265974133638, 7.089243155027514, 7.246368080102461, 9.439784035838873, 7.665753431861699, 7.714677473800927, 7.4977617006225685, 8.676928249537397, 8.73020559553099, 8.723068501163928, 7.239214973779806, 7.20934025660291, 8.885717651712119, 8.693664334532016, 8.125039097367745, 7.707512194600341, 6.663132695990803, 7.581209826196346, 6.914730892718563, 9.003685138166775, 7.330405211844402, 9.152287440527566, 7.718240951959316, 7.25063551189868, 7.183870715062453, 8.86177531100083, 7.292337176173877, 7.801800401908973, 8.77307495131822, 8.712430973476739, 8.741935464094144, 8.96890555068972, 7.768956044538332, 8.260492856573185, 6.660575149839686, 7.659642954564682, 7.528331766707247, 8.160232492367689, 9.046290859969677, 9.061027968789174, 6.5638555265321274, 6.756932389247553, 6.525029657843462, 8.956479847999912, 8.163940954755008, 6.961296045910167, 8.896724917497897, 6.812345094177479, 6.856461984594587, 8.920656296853728, 6.3473892096560105, 7.4067107301776405, 6.784457062637643, 8.542665987389269, 7.069023426578259, 7.9229859587111955, 7.0630481633881725, 7.3098814858247865, 9.270776740780013, 7.253470382684528, 7.218176838403408, 8.446126742982377, 7.826842098158293, 9.585689856179723, 6.818924065275521, 8.434897948689407, 7.093404625868766, 6.501289670540389, 7.673223121121708, 8.245909264774093, 8.57583938684897, 7.115582126184454, 9.102532419341877, 7.8868329989550565, 9.4066470133368, 8.122074375362217, 8.263074835802596, 9.280052984387483, 8.473868066677865, 9.14825217966276, 8.767017621311778, 8.475537516147405, 8.449984441722787, 7.160069207596127, 6.51025834052315, 7.203405521083095, 6.945051063725834, 9.222960403332285, 8.478660241699453, 5.62040086571715, 6.529418838262226, 7.309212365692763, 8.354438940114811, 7.975908360165538, 6.93537044601511, 8.130942302231878, 7.329749689041512, 8.797095076549056, 8.910315776326016, 9.357897936333798, 8.28121766128665, 8.079927770758275, 7.1276936993473985, 7.717351272185329, 8.25582842728183, 8.0323601479245, 9.529230371552156, 9.56927276595613, 5.8916442118257715, 9.470856776355195, 7.1569563646156364, 7.1929342212158, 7.506591780070841, 8.0861025356691, 7.109062135687172, 6.687108607866515, 7.972121128921655, 7.69484807238461, 6.844815479208263, 8.889170455363413, 7.3758821482150125, 7.2305631534092925, 8.672828482947686, 7.8551570058813445, 7.930925372483388, 6.948897222313312, 8.066521490469993, 7.614805364711073, 6.86484777797086, 7.929846429742503, 7.160069207596127, 7.5411524551363085, 7.518607216815252, 9.310547632393208, 7.8898337513942955, 8.479906606630221, 7.893198869544609, 8.270013062273787, 8.12740456269308, 7.450660796211539, 7.980707820869669, 8.450839690866216, 6.483107351457199, 7.851271997109883, 7.0909098220799835, 7.0587581525186645, 7.097548850614793, 8.231376045573969, 7.257002707092073, 8.165647925297504, 7.660114319173928, 7.187657164114956, 8.046549357283078, 8.61122983334262, 7.095893221097532, 7.1770187659099, 7.7664168980196555, 8.83200393125627, 9.058121158998672, 6.63200177739563, 8.452334619067742, 7.720905251936779, 6.411818267709897, 7.215975002651466, 7.0925737159746784, 8.15708378502887, 8.982937763741589, 6.495265555937008, 7.875119281040293, 7.315218389752975, 7.2254814727822945, 8.95712413640568, 7.616775808698373, 7.134890851565884, 7.195187320178709, 7.611842399580417, 9.089076284483143, 7.598399329323964, 7.731053144007127, 8.517793011488205, 7.994294986415977, 9.424564261115739, 7.22402480828583, 8.600246746551523, 7.944492163932159, 6.962243464266207, 8.046869510959576, 7.665284718471351, 7.937017489515454, 7.583247524303362, 7.907651594711089, 6.836259277277067, 7.273786317844895, 7.928406026180535, 7.170119543449628, 7.122866658599083, 8.197538739721184, 8.209580483475577, 6.461468176353717, 7.333023014386481, 7.270312886079025, 7.2115567333138015, 7.234177179749849, 6.853299093186078, 7.741967899820685, 8.997889450200717, 7.76046702921342, 8.287276755814599, 6.78897174299217, 6.802394763324311, 8.48528964240323, 9.246286498749653, 7.640123172695364, 8.783702698635217, 7.959275960116396, 8.202756381655638, 8.458716261657262, 7.119635638017636, 6.8308742346461795, 8.753213480544126, 8.579980179515003, 8.788745881938135, 7.814399633804487, 9.54873932271967, 8.935377071932177, 8.723882104658486, 7.113142108707088, 7.851661177889265, 5.521460917862246, 7.864419904994565, 8.125630988477065, 9.355306142226368, 8.384804003370492, 8.818926087090677, 7.751475318021456, 7.828436359157585, 7.149916836132109, 8.565602330623925, 8.015987811027237, 6.883462586413092, 7.158513997329321, 7.1693500166706, 7.239214973779806, 6.53813982376767, 8.52615293278771, 9.447781227991216, 7.809135398120538, 7.972810784121404, 7.941651252930556, 8.094073148069352, 7.299797366758161, 7.223295679562314, 8.170468578330674, 8.650149418664864, 7.570443252057374, 6.728628613084702, 8.774622220696997, 7.919719760924575, 8.750366278367625, 8.924123891686012, 6.57507584059962, 7.3453648404168685, 8.918917979908679, 9.134646527606982, 9.135940049399933, 7.48324441607385, 9.172534657240284, 8.27664912542186, 8.913550280493675, 7.00397413672268, 6.594413459749778, 7.379008127628304, 8.285513309079741, 9.028218795184895, 7.103322062526113, 6.9865664594064265, 7.9919305198524775, 8.0040315078527, 8.818926087090677, 7.130098510125578, 7.711996507047669, 8.304494897963567, 7.273786317844895, 9.294221855956884, 7.295735072749282, 8.28374674710613, 8.182279739259018, 8.666302614004078, 7.202661196523238, 7.186901020411631, 7.259819610363186, 8.963672275615016, 9.135293497653272, 7.687538766201629, 8.796943893541737, 8.964951211714654, 7.682943169878292, 8.66561319653451, 9.099073559547596, 7.872836175025724, 8.156223323194624, 9.256937657352966, 8.232971790593437, 8.187021067343505, 8.069342366811636, 7.954372272531867, 9.608847999516849, 7.601901959875166, 6.546785410760524, 9.239607869656751, 7.203405521083095, 7.1098794630722715, 8.830835365537549, 8.168202930236053, 7.343426229147367, 7.282761179605593, 9.03097444300786, 7.958227192322312, 8.321907968230423, 7.545918151209323, 8.295548516225763, 7.763446388727362, 8.176391596633795, 8.278682162970906, 8.9082888855571, 7.084226422097916, 7.839131648274333, 7.142036574706803, 7.980365765111246, 9.015419779605713, 8.791638037085997, 7.779048644925556, 8.257644958208228, 8.428580533059634], \"y0\": \" \", \"yaxis\": \"y\"}, {\"alignmentgroup\": \"True\", \"hoverlabel\": {\"namelength\": 0}, \"hovertemplate\": \"Purpose=%{x}<br>Credit_Amount=%{y}\", \"legendgroup\": \"Purpose=business\", \"marker\": {\"color\": \"#FFA15A\"}, \"name\": \"Purpose=business\", \"notched\": false, \"offsetgroup\": \"Purpose=business\", \"orientation\": \"v\", \"showlegend\": true, \"type\": \"box\", \"x\": [\"business\", \"business\", \"business\", \"business\", \"business\", \"business\", \"business\", \"business\", \"business\", \"business\", \"business\", \"business\", \"business\", \"business\", \"business\", \"business\", \"business\", \"business\", \"business\", \"business\", \"business\", \"business\", \"business\", \"business\", \"business\", \"business\", \"business\", \"business\", \"business\", \"business\", \"business\", \"business\", \"business\", \"business\", \"business\", \"business\", \"business\", \"business\", \"business\", \"business\", \"business\", \"business\", \"business\", \"business\", \"business\", \"business\", \"business\", \"business\", \"business\", \"business\", \"business\", \"business\", \"business\", \"business\", \"business\", \"business\", \"business\", \"business\", \"business\", \"business\", \"business\", \"business\", \"business\", \"business\", \"business\", \"business\", \"business\", \"business\", \"business\", \"business\", \"business\", \"business\", \"business\", \"business\", \"business\", \"business\", \"business\", \"business\", \"business\", \"business\", \"business\", \"business\", \"business\", \"business\", \"business\", \"business\", \"business\", \"business\", \"business\", \"business\", \"business\", \"business\", \"business\", \"business\", \"business\", \"business\", \"business\"], \"x0\": \" \", \"xaxis\": \"x\", \"y\": [8.36822903827628, 8.996156562033445, 8.829958044235482, 7.556427969440253, 7.142036574706803, 7.237778191923443, 7.577121930876679, 9.57644075656207, 8.691818541575723, 7.357556200910353, 7.252762418053187, 9.676900579444158, 7.871692664323645, 7.251344983372214, 7.278628942320682, 8.179199798423086, 8.848939995030118, 7.5678626054638825, 9.166597449028265, 8.40178233990491, 8.431853144249223, 8.254268770090183, 8.272570608424903, 8.540323608805092, 8.789964651132264, 8.574140471857987, 7.553810852008231, 8.04044688130311, 7.999007213243955, 7.925518979786926, 7.077498053569231, 7.1372784372603855, 8.748939631537715, 6.98100574072173, 8.93971205409023, 8.398184404834035, 7.463363045520021, 7.340835554123275, 8.947025655972697, 8.35983738064003, 7.75190533307861, 7.278628942320682, 7.54274354536855, 9.065083359319043, 7.73718007783463, 8.145549631783584, 6.411818267709897, 7.575584651557793, 7.92443418488756, 6.9440872082295275, 9.026177120302856, 7.8961806086154915, 8.457867725331422, 6.692083742506628, 7.360103972989152, 8.352554369474591, 8.259199362666282, 8.417593826193484, 9.40951904583656, 8.20303024171486, 8.272315147956022, 8.984693690443855, 8.347827345782498, 8.19118600464279, 8.328209491748732, 8.655562860681009, 7.855544677915663, 9.19593714166544, 7.8252452914317745, 7.8351837552667485, 8.766550149546351, 7.150701457592526, 8.361708288575842, 7.493873886783559, 6.734591659972948, 7.57095858316901, 7.080026499922591, 6.810142450115136, 8.334471554600944, 8.807022955925477, 7.772752716468742, 9.377209824211215, 7.351799869057777, 7.682021510826875, 8.910450756416656, 7.231287004327616, 7.946263643580541, 9.659630959624376, 7.80057265467065, 7.669495251007694, 8.058643712215618, 8.185907481482324, 7.6708948313621175, 8.89521858376562, 7.794411205726601, 8.485496104672983, 8.746557354543503], \"y0\": \" \", \"yaxis\": \"y\"}, {\"alignmentgroup\": \"True\", \"hoverlabel\": {\"namelength\": 0}, \"hovertemplate\": \"Purpose=%{x}<br>Credit_Amount=%{y}\", \"legendgroup\": \"Purpose=domestic appliances\", \"marker\": {\"color\": \"#19d3f3\"}, \"name\": \"Purpose=domestic appliances\", \"notched\": false, \"offsetgroup\": \"Purpose=domestic appliances\", \"orientation\": \"v\", \"showlegend\": true, \"type\": \"box\", \"x\": [\"domestic appliances\", \"domestic appliances\", \"domestic appliances\", \"domestic appliances\", \"domestic appliances\", \"domestic appliances\", \"domestic appliances\", \"domestic appliances\", \"domestic appliances\", \"domestic appliances\", \"domestic appliances\", \"domestic appliances\"], \"x0\": \" \", \"xaxis\": \"x\", \"y\": [7.110696122978827, 7.140453043101158, 7.261225091971921, 7.150701457592526, 7.119635638017636, 5.8377304471659395, 7.104144092987527, 6.608000625296087, 8.29154650988391, 8.02322468471667, 7.198931240688173, 6.773080375655535], \"y0\": \" \", \"yaxis\": \"y\"}, {\"alignmentgroup\": \"True\", \"hoverlabel\": {\"namelength\": 0}, \"hovertemplate\": \"Purpose=%{x}<br>Credit_Amount=%{y}\", \"legendgroup\": \"Purpose=repairs\", \"marker\": {\"color\": \"#FF6692\"}, \"name\": \"Purpose=repairs\", \"notched\": false, \"offsetgroup\": \"Purpose=repairs\", \"orientation\": \"v\", \"showlegend\": true, \"type\": \"box\", \"x\": [\"repairs\", \"repairs\", \"repairs\", \"repairs\", \"repairs\", \"repairs\", \"repairs\", \"repairs\", \"repairs\", \"repairs\", \"repairs\", \"repairs\", \"repairs\", \"repairs\", \"repairs\", \"repairs\", \"repairs\", \"repairs\", \"repairs\", \"repairs\", \"repairs\", \"repairs\"], \"x0\": \" \", \"xaxis\": \"x\", \"y\": [8.73294952429643, 8.554488976159934, 7.010311867307229, 6.459904454377535, 7.160845906664299, 7.868254265520613, 9.392495248213038, 7.081708586105575, 7.629489916393995, 6.492239835020471, 8.129764445794171, 7.321188556739478, 8.613775289262481, 6.903747257584598, 7.776535028185241, 7.176254532017144, 7.875119281040293, 7.349230824613334, 8.261526448396468, 7.57198844937744, 6.118097198041348, 7.322510433997394], \"y0\": \" \", \"yaxis\": \"y\"}, {\"alignmentgroup\": \"True\", \"hoverlabel\": {\"namelength\": 0}, \"hovertemplate\": \"Purpose=%{x}<br>Credit_Amount=%{y}\", \"legendgroup\": \"Purpose=vacation/others\", \"marker\": {\"color\": \"#B6E880\"}, \"name\": \"Purpose=vacation/others\", \"notched\": false, \"offsetgroup\": \"Purpose=vacation/others\", \"orientation\": \"v\", \"showlegend\": true, \"type\": \"box\", \"x\": [\"vacation/others\", \"vacation/others\", \"vacation/others\", \"vacation/others\", \"vacation/others\", \"vacation/others\", \"vacation/others\", \"vacation/others\", \"vacation/others\", \"vacation/others\", \"vacation/others\", \"vacation/others\"], \"x0\": \" \", \"xaxis\": \"x\", \"y\": [7.059617628291383, 7.470224135899966, 9.387481868728596, 8.93353229607628, 8.59062950948942, 9.601165503344832, 9.3350328159335, 7.874358824729881, 7.213768308118642, 8.750524669117937, 9.671366322189568, 9.82140944150052], \"y0\": \" \", \"yaxis\": \"y\"}],\n",
              "                        {\"boxmode\": \"group\", \"legend\": {\"tracegroupgap\": 0}, \"margin\": {\"t\": 60}, \"template\": {\"data\": {\"bar\": [{\"error_x\": {\"color\": \"#2a3f5f\"}, \"error_y\": {\"color\": \"#2a3f5f\"}, \"marker\": {\"line\": {\"color\": \"#E5ECF6\", \"width\": 0.5}}, \"type\": \"bar\"}], \"barpolar\": [{\"marker\": {\"line\": {\"color\": \"#E5ECF6\", \"width\": 0.5}}, \"type\": \"barpolar\"}], \"carpet\": [{\"aaxis\": {\"endlinecolor\": \"#2a3f5f\", \"gridcolor\": \"white\", \"linecolor\": \"white\", \"minorgridcolor\": \"white\", \"startlinecolor\": \"#2a3f5f\"}, \"baxis\": {\"endlinecolor\": \"#2a3f5f\", \"gridcolor\": \"white\", \"linecolor\": \"white\", \"minorgridcolor\": \"white\", \"startlinecolor\": \"#2a3f5f\"}, \"type\": \"carpet\"}], \"choropleth\": [{\"colorbar\": {\"outlinewidth\": 0, \"ticks\": \"\"}, \"type\": \"choropleth\"}], \"contour\": [{\"colorbar\": {\"outlinewidth\": 0, \"ticks\": \"\"}, \"colorscale\": [[0.0, \"#0d0887\"], [0.1111111111111111, \"#46039f\"], [0.2222222222222222, \"#7201a8\"], [0.3333333333333333, \"#9c179e\"], [0.4444444444444444, \"#bd3786\"], [0.5555555555555556, \"#d8576b\"], [0.6666666666666666, \"#ed7953\"], [0.7777777777777778, \"#fb9f3a\"], [0.8888888888888888, \"#fdca26\"], [1.0, \"#f0f921\"]], \"type\": \"contour\"}], \"contourcarpet\": [{\"colorbar\": {\"outlinewidth\": 0, \"ticks\": \"\"}, \"type\": \"contourcarpet\"}], \"heatmap\": [{\"colorbar\": {\"outlinewidth\": 0, \"ticks\": \"\"}, \"colorscale\": [[0.0, \"#0d0887\"], [0.1111111111111111, \"#46039f\"], [0.2222222222222222, \"#7201a8\"], [0.3333333333333333, \"#9c179e\"], [0.4444444444444444, \"#bd3786\"], [0.5555555555555556, \"#d8576b\"], [0.6666666666666666, \"#ed7953\"], [0.7777777777777778, \"#fb9f3a\"], [0.8888888888888888, \"#fdca26\"], [1.0, \"#f0f921\"]], \"type\": \"heatmap\"}], \"heatmapgl\": [{\"colorbar\": {\"outlinewidth\": 0, \"ticks\": \"\"}, \"colorscale\": [[0.0, \"#0d0887\"], [0.1111111111111111, \"#46039f\"], [0.2222222222222222, \"#7201a8\"], [0.3333333333333333, \"#9c179e\"], [0.4444444444444444, \"#bd3786\"], [0.5555555555555556, \"#d8576b\"], [0.6666666666666666, \"#ed7953\"], [0.7777777777777778, \"#fb9f3a\"], [0.8888888888888888, \"#fdca26\"], [1.0, \"#f0f921\"]], \"type\": \"heatmapgl\"}], \"histogram\": [{\"marker\": {\"colorbar\": {\"outlinewidth\": 0, \"ticks\": \"\"}}, \"type\": \"histogram\"}], \"histogram2d\": [{\"colorbar\": {\"outlinewidth\": 0, \"ticks\": \"\"}, \"colorscale\": [[0.0, \"#0d0887\"], [0.1111111111111111, \"#46039f\"], [0.2222222222222222, \"#7201a8\"], [0.3333333333333333, \"#9c179e\"], [0.4444444444444444, \"#bd3786\"], [0.5555555555555556, \"#d8576b\"], [0.6666666666666666, \"#ed7953\"], [0.7777777777777778, \"#fb9f3a\"], [0.8888888888888888, \"#fdca26\"], [1.0, \"#f0f921\"]], \"type\": \"histogram2d\"}], \"histogram2dcontour\": [{\"colorbar\": {\"outlinewidth\": 0, \"ticks\": \"\"}, \"colorscale\": [[0.0, \"#0d0887\"], [0.1111111111111111, \"#46039f\"], [0.2222222222222222, \"#7201a8\"], [0.3333333333333333, \"#9c179e\"], [0.4444444444444444, \"#bd3786\"], [0.5555555555555556, \"#d8576b\"], [0.6666666666666666, \"#ed7953\"], [0.7777777777777778, \"#fb9f3a\"], [0.8888888888888888, \"#fdca26\"], [1.0, \"#f0f921\"]], \"type\": \"histogram2dcontour\"}], \"mesh3d\": [{\"colorbar\": {\"outlinewidth\": 0, \"ticks\": \"\"}, \"type\": \"mesh3d\"}], \"parcoords\": [{\"line\": {\"colorbar\": {\"outlinewidth\": 0, \"ticks\": \"\"}}, \"type\": \"parcoords\"}], \"pie\": [{\"automargin\": true, \"type\": \"pie\"}], \"scatter\": [{\"marker\": {\"colorbar\": {\"outlinewidth\": 0, \"ticks\": \"\"}}, \"type\": \"scatter\"}], \"scatter3d\": [{\"line\": {\"colorbar\": {\"outlinewidth\": 0, \"ticks\": \"\"}}, \"marker\": {\"colorbar\": {\"outlinewidth\": 0, \"ticks\": \"\"}}, \"type\": \"scatter3d\"}], \"scattercarpet\": [{\"marker\": {\"colorbar\": {\"outlinewidth\": 0, \"ticks\": \"\"}}, \"type\": \"scattercarpet\"}], \"scattergeo\": [{\"marker\": {\"colorbar\": {\"outlinewidth\": 0, \"ticks\": \"\"}}, \"type\": \"scattergeo\"}], \"scattergl\": [{\"marker\": {\"colorbar\": {\"outlinewidth\": 0, \"ticks\": \"\"}}, \"type\": \"scattergl\"}], \"scattermapbox\": [{\"marker\": {\"colorbar\": {\"outlinewidth\": 0, \"ticks\": \"\"}}, \"type\": \"scattermapbox\"}], \"scatterpolar\": [{\"marker\": {\"colorbar\": {\"outlinewidth\": 0, \"ticks\": \"\"}}, \"type\": \"scatterpolar\"}], \"scatterpolargl\": [{\"marker\": {\"colorbar\": {\"outlinewidth\": 0, \"ticks\": \"\"}}, \"type\": \"scatterpolargl\"}], \"scatterternary\": [{\"marker\": {\"colorbar\": {\"outlinewidth\": 0, \"ticks\": \"\"}}, \"type\": \"scatterternary\"}], \"surface\": [{\"colorbar\": {\"outlinewidth\": 0, \"ticks\": \"\"}, \"colorscale\": [[0.0, \"#0d0887\"], [0.1111111111111111, \"#46039f\"], [0.2222222222222222, \"#7201a8\"], [0.3333333333333333, \"#9c179e\"], [0.4444444444444444, \"#bd3786\"], [0.5555555555555556, \"#d8576b\"], [0.6666666666666666, \"#ed7953\"], [0.7777777777777778, \"#fb9f3a\"], [0.8888888888888888, \"#fdca26\"], [1.0, \"#f0f921\"]], \"type\": \"surface\"}], \"table\": [{\"cells\": {\"fill\": {\"color\": \"#EBF0F8\"}, \"line\": {\"color\": \"white\"}}, \"header\": {\"fill\": {\"color\": \"#C8D4E3\"}, \"line\": {\"color\": \"white\"}}, \"type\": \"table\"}]}, \"layout\": {\"annotationdefaults\": {\"arrowcolor\": \"#2a3f5f\", \"arrowhead\": 0, \"arrowwidth\": 1}, \"coloraxis\": {\"colorbar\": {\"outlinewidth\": 0, \"ticks\": \"\"}}, \"colorscale\": {\"diverging\": [[0, \"#8e0152\"], [0.1, \"#c51b7d\"], [0.2, \"#de77ae\"], [0.3, \"#f1b6da\"], [0.4, \"#fde0ef\"], [0.5, \"#f7f7f7\"], [0.6, \"#e6f5d0\"], [0.7, \"#b8e186\"], [0.8, \"#7fbc41\"], [0.9, \"#4d9221\"], [1, \"#276419\"]], \"sequential\": [[0.0, \"#0d0887\"], [0.1111111111111111, \"#46039f\"], [0.2222222222222222, \"#7201a8\"], [0.3333333333333333, \"#9c179e\"], [0.4444444444444444, \"#bd3786\"], [0.5555555555555556, \"#d8576b\"], [0.6666666666666666, \"#ed7953\"], [0.7777777777777778, \"#fb9f3a\"], [0.8888888888888888, \"#fdca26\"], [1.0, \"#f0f921\"]], \"sequentialminus\": [[0.0, \"#0d0887\"], [0.1111111111111111, \"#46039f\"], [0.2222222222222222, \"#7201a8\"], [0.3333333333333333, \"#9c179e\"], [0.4444444444444444, \"#bd3786\"], [0.5555555555555556, \"#d8576b\"], [0.6666666666666666, \"#ed7953\"], [0.7777777777777778, \"#fb9f3a\"], [0.8888888888888888, \"#fdca26\"], [1.0, \"#f0f921\"]]}, \"colorway\": [\"#636efa\", \"#EF553B\", \"#00cc96\", \"#ab63fa\", \"#FFA15A\", \"#19d3f3\", \"#FF6692\", \"#B6E880\", \"#FF97FF\", \"#FECB52\"], \"font\": {\"color\": \"#2a3f5f\"}, \"geo\": {\"bgcolor\": \"white\", \"lakecolor\": \"white\", \"landcolor\": \"#E5ECF6\", \"showlakes\": true, \"showland\": true, \"subunitcolor\": \"white\"}, \"hoverlabel\": {\"align\": \"left\"}, \"hovermode\": \"closest\", \"mapbox\": {\"style\": \"light\"}, \"paper_bgcolor\": \"white\", \"plot_bgcolor\": \"#E5ECF6\", \"polar\": {\"angularaxis\": {\"gridcolor\": \"white\", \"linecolor\": \"white\", \"ticks\": \"\"}, \"bgcolor\": \"#E5ECF6\", \"radialaxis\": {\"gridcolor\": \"white\", \"linecolor\": \"white\", \"ticks\": \"\"}}, \"scene\": {\"xaxis\": {\"backgroundcolor\": \"#E5ECF6\", \"gridcolor\": \"white\", \"gridwidth\": 2, \"linecolor\": \"white\", \"showbackground\": true, \"ticks\": \"\", \"zerolinecolor\": \"white\"}, \"yaxis\": {\"backgroundcolor\": \"#E5ECF6\", \"gridcolor\": \"white\", \"gridwidth\": 2, \"linecolor\": \"white\", \"showbackground\": true, \"ticks\": \"\", \"zerolinecolor\": \"white\"}, \"zaxis\": {\"backgroundcolor\": \"#E5ECF6\", \"gridcolor\": \"white\", \"gridwidth\": 2, \"linecolor\": \"white\", \"showbackground\": true, \"ticks\": \"\", \"zerolinecolor\": \"white\"}}, \"shapedefaults\": {\"line\": {\"color\": \"#2a3f5f\"}}, \"ternary\": {\"aaxis\": {\"gridcolor\": \"white\", \"linecolor\": \"white\", \"ticks\": \"\"}, \"baxis\": {\"gridcolor\": \"white\", \"linecolor\": \"white\", \"ticks\": \"\"}, \"bgcolor\": \"#E5ECF6\", \"caxis\": {\"gridcolor\": \"white\", \"linecolor\": \"white\", \"ticks\": \"\"}}, \"title\": {\"x\": 0.05}, \"xaxis\": {\"automargin\": true, \"gridcolor\": \"white\", \"linecolor\": \"white\", \"ticks\": \"\", \"title\": {\"standoff\": 15}, \"zerolinecolor\": \"white\", \"zerolinewidth\": 2}, \"yaxis\": {\"automargin\": true, \"gridcolor\": \"white\", \"linecolor\": \"white\", \"ticks\": \"\", \"title\": {\"standoff\": 15}, \"zerolinecolor\": \"white\", \"zerolinewidth\": 2}}}, \"title\": {\"text\": \"Purpose Vs Credit Amount Cross tabulation\", \"x\": 0.5, \"xanchor\": \"center\", \"y\": 0.95, \"yanchor\": \"top\"}, \"xaxis\": {\"anchor\": \"y\", \"categoryarray\": [\"radio/TV\", \"education\", \"furniture/equipment\", \"car\", \"business\", \"domestic appliances\", \"repairs\", \"vacation/others\"], \"categoryorder\": \"array\", \"domain\": [0.0, 1.0], \"title\": {\"text\": \"Purpose\"}}, \"yaxis\": {\"anchor\": \"x\", \"domain\": [0.0, 1.0], \"title\": {\"text\": \"Credit amount\"}}},\n",
              "                        {\"responsive\": true}\n",
              "                    ).then(function(){\n",
              "                            \n",
              "var gd = document.getElementById('23a58874-e8f6-4b83-b198-c82b8ab4d0ec');\n",
              "var x = new MutationObserver(function (mutations, observer) {{\n",
              "        var display = window.getComputedStyle(gd).display;\n",
              "        if (!display || display === 'none') {{\n",
              "            console.log([gd, 'removed!']);\n",
              "            Plotly.purge(gd);\n",
              "            observer.disconnect();\n",
              "        }}\n",
              "}});\n",
              "\n",
              "// Listen for the removal of the full notebook cells\n",
              "var notebookContainer = gd.closest('#notebook-container');\n",
              "if (notebookContainer) {{\n",
              "    x.observe(notebookContainer, {childList: true});\n",
              "}}\n",
              "\n",
              "// Listen for the clearing of the current output cell\n",
              "var outputEl = gd.closest('.output');\n",
              "if (outputEl) {{\n",
              "    x.observe(outputEl, {childList: true});\n",
              "}}\n",
              "\n",
              "                        })\n",
              "                };\n",
              "                \n",
              "            </script>\n",
              "        </div>\n",
              "</body>\n",
              "</html>"
            ]
          },
          "metadata": {}
        }
      ]
    },
    {
      "cell_type": "markdown",
      "source": [
        "Observations: \n",
        "Purpose Vs Credit Amount Cross tabulation shows the relationship between Credit amount and Purpose of the loan.\n",
        "The most of the credit holder take loan for the purchasing car and vacation/other purposes"
      ],
      "metadata": {
        "id": "deUI9qcarp1l"
      },
      "id": "deUI9qcarp1l"
    },
    {
      "cell_type": "code",
      "source": [
        "#Relationship between the credit amount and duration\n",
        "sns.scatterplot(y=germen_credit.Credit_Amount, \n",
        "                x=germen_credit.Duration, \n",
        "                hue=germen_credit.Job, \n",
        "                s=100, \n",
        "                )"
      ],
      "metadata": {
        "colab": {
          "base_uri": "https://localhost:8080/",
          "height": 299
        },
        "id": "rlQqyeLeqSBl",
        "outputId": "ef8e5ab3-7f76-4743-a90f-4dcc6adeb29c"
      },
      "id": "rlQqyeLeqSBl",
      "execution_count": 51,
      "outputs": [
        {
          "output_type": "execute_result",
          "data": {
            "text/plain": [
              "<matplotlib.axes._subplots.AxesSubplot at 0x7f2739bfcc90>"
            ]
          },
          "metadata": {},
          "execution_count": 51
        },
        {
          "output_type": "display_data",
          "data": {
            "image/png": "[encoded data removed]",
            "text/plain": [
              "<Figure size 432x288 with 1 Axes>"
            ]
          },
          "metadata": {
            "needs_background": "light"
          }
        }
      ]
    },
    {
      "cell_type": "markdown",
      "source": [
        "Observations\n",
        "\n",
        "The scatter plot shows that in general, larger loans have longer duration of repayment. Loan distributed more to skilled job holders"
      ],
      "metadata": {
        "id": "v_JQibwdtI3J"
      },
      "id": "v_JQibwdtI3J"
    },
    {
      "cell_type": "markdown",
      "source": [
        "#Numerical vs Numerical plots"
      ],
      "metadata": {
        "id": "rAsKz0KevHmY"
      },
      "id": "rAsKz0KevHmY"
    },
    {
      "cell_type": "code",
      "source": [
        "plt.scatter(germen_credit['Credit_Amount'], germen_credit['Duration'], c =\"blue\",linewidths = 2, edgecolor =\"red\",s =150 )\n",
        "plt.xlabel(\"Credit_Amount\")\n",
        "plt.ylabel(\"Duration\")\n",
        "plt.title(\"Credit amount and Duration Relationship\")\n",
        "\n"
      ],
      "metadata": {
        "colab": {
          "base_uri": "https://localhost:8080/",
          "height": 313
        },
        "id": "pu46xYCTs7-2",
        "outputId": "f48b0439-c6d9-44de-f740-3ec1777578f0"
      },
      "id": "pu46xYCTs7-2",
      "execution_count": 54,
      "outputs": [
        {
          "output_type": "execute_result",
          "data": {
            "text/plain": [
              "Text(0.5, 1.0, 'Credit amount and Duration Relationship')"
            ]
          },
          "metadata": {},
          "execution_count": 54
        },
        {
          "output_type": "display_data",
          "data": {
            "image/png": "[encoded data removed]",
            "text/plain": [
              "<Figure size 432x288 with 1 Axes>"
            ]
          },
          "metadata": {
            "needs_background": "light"
          }
        }
      ]
    },
    {
      "cell_type": "markdown",
      "source": [
        "Observations:\n",
        "\n",
        "The scatter Plot shows relationship between Credit Amount and Duration.The high credit shows higher duration to repay amount"
      ],
      "metadata": {
        "id": "Ne8kI7gNnBCB"
      },
      "id": "Ne8kI7gNnBCB"
    },
    {
      "cell_type": "code",
      "source": [
        ""
      ],
      "metadata": {
        "id": "cPf90utkwVvi"
      },
      "id": "cPf90utkwVvi",
      "execution_count": 52,
      "outputs": []
    }
  ],
  "metadata": {
    "kernelspec": {
      "display_name": "Python 3",
      "language": "python",
      "name": "python3"
    },
    "language_info": {
      "codemirror_mode": {
        "name": "ipython",
        "version": 3
      },
      "file_extension": ".py",
      "mimetype": "text/x-python",
      "name": "python",
      "nbconvert_exporter": "python",
      "pygments_lexer": "ipython3",
      "version": "3.8.8"
    },
    "colab": {
      "name": "Jaypalsing Rajput_EDA_German_Credit_Dataset.ipynb",
      "provenance": [],
      "collapsed_sections": []
    }
  },
  "nbformat": 4,
  "nbformat_minor": 5
}